{
 "cells": [
  {
   "cell_type": "markdown",
   "id": "69aacfb3-5c9a-48d2-b684-8f971fe01460",
   "metadata": {},
   "source": [
    "## Explore Wikidata\n",
    "\n",
    "In this notebook, we refine and document the main requests available on the page [Exploration of Wikidata](../documentation/wikidata/Wikidata-exploration.md) \n",
    "\n",
    "\n",
    "When you prepare the queries, you can execute them on the Wikidata SPARQL endpoint, and then document and execute them in this notebook."
   ]
  },
  {
   "cell_type": "markdown",
   "id": "cf62532c-b015-4d9e-b2fe-e53734b6b4a9",
   "metadata": {},
   "source": [
    "### Explore occupations and fields of work"
   ]
  },
  {
   "cell_type": "code",
   "execution_count": 1,
   "id": "2aac4c0c-4299-410a-a574-5ec0ce3a2401",
   "metadata": {
    "execution": {
     "iopub.execute_input": "2025-08-18T08:16:57.382859Z",
     "iopub.status.busy": "2025-08-18T08:16:57.381665Z",
     "iopub.status.idle": "2025-08-18T08:16:57.407040Z",
     "shell.execute_reply": "2025-08-18T08:16:57.404183Z",
     "shell.execute_reply.started": "2025-08-18T08:16:57.382759Z"
    }
   },
   "outputs": [
    {
     "ename": "SyntaxError",
     "evalue": "invalid syntax (691818433.py, line 3)",
     "output_type": "error",
     "traceback": [
      "\u001b[0;36m  Cell \u001b[0;32mIn[1], line 3\u001b[0;36m\u001b[0m\n\u001b[0;31m    PREFIX wd: <http://www.wikidata.org/entity/>\u001b[0m\n\u001b[0m           ^\u001b[0m\n\u001b[0;31mSyntaxError\u001b[0m\u001b[0;31m:\u001b[0m invalid syntax\n"
     ]
    }
   ],
   "source": [
    "### List 'n' more frequent occupations\n",
    "\n",
    "PREFIX wd: <http://www.wikidata.org/entity/>\n",
    "\n",
    "\n",
    "SELECT ?occupation ?occupationLabel ?n\n",
    "WHERE {\n",
    "\n",
    "    {\n",
    "    SELECT ?occupation (COUNT(*) as ?n)\n",
    "    WHERE {\n",
    "        ?item wdt:P106 ?occupation.\n",
    "        }\n",
    "    GROUP BY ?occupation \n",
    "    ORDER BY DESC(?n)\n",
    "\n",
    "    #OFFSET 20\n",
    "    LIMIT 20\n",
    "    }\n",
    "\n",
    "    SERVICE wikibase:label { bd:serviceParam wikibase:language \"en\" }\n",
    "    \n",
    "    }\n",
    "    ORDER BY DESC(?n)\n"
   ]
  },
  {
   "cell_type": "code",
   "execution_count": 2,
   "id": "2a71fd3a-739a-4f8a-ad15-4f04d1671409",
   "metadata": {
    "execution": {
     "iopub.execute_input": "2025-08-18T08:16:57.539980Z",
     "iopub.status.busy": "2025-08-18T08:16:57.539045Z",
     "iopub.status.idle": "2025-08-18T08:16:57.556997Z",
     "shell.execute_reply": "2025-08-18T08:16:57.553753Z",
     "shell.execute_reply.started": "2025-08-18T08:16:57.539896Z"
    }
   },
   "outputs": [
    {
     "ename": "SyntaxError",
     "evalue": "invalid syntax (961497238.py, line 3)",
     "output_type": "error",
     "traceback": [
      "\u001b[0;36m  Cell \u001b[0;32mIn[2], line 3\u001b[0;36m\u001b[0m\n\u001b[0;31m    PREFIX wd: <http://www.wikidata.org/entity/>\u001b[0m\n\u001b[0m           ^\u001b[0m\n\u001b[0;31mSyntaxError\u001b[0m\u001b[0;31m:\u001b[0m invalid syntax\n"
     ]
    }
   ],
   "source": [
    "### List more frequent occupations\n",
    "\n",
    "PREFIX wd: <http://www.wikidata.org/entity/>\n",
    "\n",
    "SELECT ?field ?fieldLabel ?n\n",
    "WHERE {\n",
    "\n",
    "    {\n",
    "    SELECT ?field (COUNT(*) as ?n)\n",
    "    WHERE {\n",
    "        ?item wdt:P101 ?field.\n",
    "        }\n",
    "    GROUP BY ?field \n",
    "    ORDER BY DESC(?n)\n",
    "\n",
    "    #OFFSET 20\n",
    "    LIMIT 20\n",
    "    }\n",
    "\n",
    "    SERVICE wikibase:label { bd:serviceParam wikibase:language \"en\" }\n",
    "    \n",
    "    }\n",
    "    ORDER BY DESC(?n)\n"
   ]
  },
  {
   "cell_type": "code",
   "execution_count": 3,
   "id": "2cfadcc2-6b0a-4dd9-9833-af49073222cb",
   "metadata": {
    "execution": {
     "iopub.execute_input": "2025-08-18T08:16:57.698972Z",
     "iopub.status.busy": "2025-08-18T08:16:57.698113Z",
     "iopub.status.idle": "2025-08-18T08:16:57.743756Z",
     "shell.execute_reply": "2025-08-18T08:16:57.741695Z",
     "shell.execute_reply.started": "2025-08-18T08:16:57.698897Z"
    }
   },
   "outputs": [],
   "source": [
    "### Inspect archivist and related occupations"
   ]
  },
  {
   "cell_type": "code",
   "execution_count": 4,
   "id": "a7a13cbd-6f58-4b0a-92fa-5197dbd95a7a",
   "metadata": {
    "execution": {
     "iopub.execute_input": "2025-08-18T08:16:57.897988Z",
     "iopub.status.busy": "2025-08-18T08:16:57.897087Z",
     "iopub.status.idle": "2025-08-18T08:16:57.913436Z",
     "shell.execute_reply": "2025-08-18T08:16:57.910529Z",
     "shell.execute_reply.started": "2025-08-18T08:16:57.897911Z"
    }
   },
   "outputs": [
    {
     "ename": "SyntaxError",
     "evalue": "Invalid star expression (310496476.py, line 2)",
     "output_type": "error",
     "traceback": [
      "\u001b[0;36m  Cell \u001b[0;32mIn[4], line 2\u001b[0;36m\u001b[0m\n\u001b[0;31m    SELECT (COUNT(*) as ?eff)\u001b[0m\n\u001b[0m                   ^\u001b[0m\n\u001b[0;31mSyntaxError\u001b[0m\u001b[0;31m:\u001b[0m Invalid star expression\n"
     ]
    }
   ],
   "source": [
    "   ## Count and inspect occupations and fields of work\n",
    "   SELECT (COUNT(*) as ?eff)\n",
    "    WHERE {\n",
    "        ?item wdt:P31 wd:Q5;  # Any instance of a human.\n",
    "\n",
    "            wdt:P106 wd:Q11063  # astronomer 10162\n",
    "        \n",
    "            # wdt:P101 wd:Q333  # astronomy 2161\n",
    "            # wdt:P106 wd:Q169470 # physicist 32123\n",
    "            #  wdt:P101 wd:Q413 # physics ~ 4000\n",
    "            #  wdt:P106 wd:Q155647  # astrologer 1364\n",
    "            #  wdt:P101 wd:Q34362 # astrology 241\n",
    "            #  wdt:P106 wd:Q170790  # mathematician 39562\n",
    "            #  wdt:P106 wd:Q901 # scientist 36117\n",
    "\n",
    "    }  \n",
    "    #LIMIT 10"
   ]
  },
  {
   "cell_type": "code",
   "execution_count": 5,
   "id": "4e53f531-28d3-4071-9684-a137a8bed1f4",
   "metadata": {
    "execution": {
     "iopub.execute_input": "2025-08-18T08:16:58.147155Z",
     "iopub.status.busy": "2025-08-18T08:16:58.146270Z",
     "iopub.status.idle": "2025-08-18T08:16:58.163241Z",
     "shell.execute_reply": "2025-08-18T08:16:58.160049Z",
     "shell.execute_reply.started": "2025-08-18T08:16:58.147077Z"
    }
   },
   "outputs": [
    {
     "ename": "SyntaxError",
     "evalue": "Invalid star expression (166607293.py, line 2)",
     "output_type": "error",
     "traceback": [
      "\u001b[0;36m  Cell \u001b[0;32mIn[5], line 2\u001b[0;36m\u001b[0m\n\u001b[0;31m    SELECT (count(*) as ?number)\u001b[0m\n\u001b[0m                   ^\u001b[0m\n\u001b[0;31mSyntaxError\u001b[0m\u001b[0;31m:\u001b[0m Invalid star expression\n"
     ]
    }
   ],
   "source": [
    "### Modern astronomers : born from 1751 onward\n",
    "SELECT (count(*) as ?number)\n",
    "WHERE {\n",
    "    {?item wdt:P106 wd:Q11063}  # astronomer\n",
    "    UNION\n",
    "    {?item wdt:P101 wd:Q333}     # astronomy\n",
    "    \n",
    "    ?item wdt:P31 wd:Q5; # Any instance of a human.\n",
    "            wdt:P569 ?birthDate.\n",
    "    \n",
    "\n",
    "    BIND(REPLACE(str(?birthDate), \"(.*)([0-9]{4})(.*)\", \"$2\") AS ?year)\n",
    "    FILTER(xsd:integer(?year) > 1750 )\n",
    "}"
   ]
  },
  {
   "cell_type": "code",
   "execution_count": 6,
   "id": "92eef035-4f2d-4ebe-8b6f-0ef9ad7352e7",
   "metadata": {
    "execution": {
     "iopub.execute_input": "2025-08-18T08:16:58.378563Z",
     "iopub.status.busy": "2025-08-18T08:16:58.377608Z",
     "iopub.status.idle": "2025-08-18T08:16:58.396197Z",
     "shell.execute_reply": "2025-08-18T08:16:58.392605Z",
     "shell.execute_reply.started": "2025-08-18T08:16:58.378482Z"
    }
   },
   "outputs": [
    {
     "ename": "SyntaxError",
     "evalue": "Invalid star expression (586250184.py, line 2)",
     "output_type": "error",
     "traceback": [
      "\u001b[0;36m  Cell \u001b[0;32mIn[6], line 2\u001b[0;36m\u001b[0m\n\u001b[0;31m    SELECT (count(*) as ?number)\u001b[0m\n\u001b[0m                   ^\u001b[0m\n\u001b[0;31mSyntaxError\u001b[0m\u001b[0;31m:\u001b[0m Invalid star expression\n"
     ]
    }
   ],
   "source": [
    "### Modern astronomers and physicists\n",
    "SELECT (count(*) as ?number)\n",
    "WHERE {\n",
    "    {?item wdt:P106 wd:Q11063}  # astronomer\n",
    "    UNION\n",
    "    {?item wdt:P101 wd:Q333}     # astronomy\n",
    "    UNION\n",
    "    {?item wdt:P106 wd:Q169470}  # physicist\n",
    "    UNION\n",
    "    {?item wdt:P101 wd:Q413}     # physics\n",
    "    \n",
    "    ?item wdt:P31 wd:Q5; # Any instance of a human.\n",
    "            wdt:P569 ?birthDate.\n",
    "    \n",
    "\n",
    "    BIND(REPLACE(str(?birthDate), \"(.*)([0-9]{4})(.*)\", \"$2\") AS ?year)\n",
    "    FILTER(xsd:integer(?year) > 1750  && xsd:integer(?year) < 1951 )\n",
    "}"
   ]
  },
  {
   "cell_type": "markdown",
   "id": "b16204f4-430e-4174-871a-62ac66826bdb",
   "metadata": {},
   "source": [
    "## Count how many properties are available for the considered population\n",
    "\n",
    "Execute this query on the Wikidata sparql-endpoint and save the result to a CSV document that you will store in your project: [population properties list](../Wikidata/properties_20250309.csv)\n",
    "\n",
    "\n",
    "Open your CSV file with a spreadsheet editor:\n",
    "* Inspect the content of the results and look for relevant properties with regard to your research questions\n",
    "* Observe all the links to other semantic web repositories, probably the sources of this information.\n",
    "* You can transform this file to your preferred spreadsheet editor format (Calc, Excel, etc.) and take notes row per row in the spreadsheet.\n"
   ]
  },
  {
   "cell_type": "code",
   "execution_count": 7,
   "id": "0d86e274-cc3c-4657-ae44-9cde6a60f372",
   "metadata": {
    "execution": {
     "iopub.execute_input": "2025-08-18T08:16:58.767119Z",
     "iopub.status.busy": "2025-08-18T08:16:58.766184Z",
     "iopub.status.idle": "2025-08-18T08:16:58.788548Z",
     "shell.execute_reply": "2025-08-18T08:16:58.785756Z",
     "shell.execute_reply.started": "2025-08-18T08:16:58.767039Z"
    }
   },
   "outputs": [
    {
     "ename": "SyntaxError",
     "evalue": "invalid syntax (3494055109.py, line 1)",
     "output_type": "error",
     "traceback": [
      "\u001b[0;36m  Cell \u001b[0;32mIn[7], line 1\u001b[0;36m\u001b[0m\n\u001b[0;31m    PREFIX wdt: <http://www.wikidata.org/prop/direct/>\u001b[0m\n\u001b[0m           ^\u001b[0m\n\u001b[0;31mSyntaxError\u001b[0m\u001b[0;31m:\u001b[0m invalid syntax\n"
     ]
    }
   ],
   "source": [
    "PREFIX wdt: <http://www.wikidata.org/prop/direct/>\n",
    "PREFIX wd: <http://www.wikidata.org/entity/>\n",
    "PREFIX wikibase: <http://wikiba.se/ontology#>\n",
    "PREFIX bd: <http://www.bigdata.com/rdf#>\n",
    "\n",
    "SELECT ?p ?propLabel ?eff\n",
    "WHERE {\n",
    "{\n",
    "SELECT ?p  (count(*) as ?eff)\n",
    "WHERE {\n",
    "    {?item wdt:P106 wd:Q11063}  # astronomer\n",
    "    UNION\n",
    "    {?item wdt:P101 wd:Q333}     # astronomy\n",
    "    UNION\n",
    "    {?item wdt:P106 wd:Q169470}  # physicist\n",
    "    UNION\n",
    "    {?item wdt:P101 wd:Q413}     # physics   \n",
    "    ?item wdt:P31 wd:Q5; # Any instance of a human.\n",
    "            wdt:P569 ?birthDate.\n",
    "    ?item  ?p ?o.\n",
    "\n",
    "    BIND(REPLACE(str(?birthDate), \"(.*)([0-9]{4})(.*)\", \"$2\") AS ?year)\n",
    "    ### Experiment with different time filters if too many values\n",
    "    FILTER(xsd:integer(?year) > 1750  && xsd:integer(?year) < 1951)\n",
    "    # FILTER(xsd:integer(?year) > 1850  && xsd:integer(?year) < 1951)\n",
    "\n",
    "}\n",
    "GROUP BY ?p \n",
    "\n",
    "    }\n",
    "\n",
    "# get the original property (in the the statement construct)     \n",
    "?prop wikibase:directClaim ?p .\n",
    "\n",
    "SERVICE wikibase:label { bd:serviceParam wikibase:language \"en\". } \n",
    "\n",
    "\n",
    "}  \n",
    "ORDER BY DESC(?eff)"
   ]
  },
  {
   "cell_type": "code",
   "execution_count": null,
   "id": "c0e3415c-ecfc-4aa6-b76a-ca43fac6bbe4",
   "metadata": {},
   "outputs": [],
   "source": []
  },
  {
   "cell_type": "code",
   "execution_count": null,
   "id": "9a350cf5-27ef-4f86-9286-e3557777d19a",
   "metadata": {},
   "outputs": [],
   "source": []
  }
 ],
 "metadata": {
  "kernelspec": {
   "display_name": "Python3",
   "language": "python",
   "name": "python3"
  },
  "language_info": {
   "codemirror_mode": {
    "name": "ipython",
    "version": 3
   },
   "file_extension": ".py",
   "mimetype": "text/x-python",
   "name": "python",
   "nbconvert_exporter": "python",
   "pygments_lexer": "ipython3",
   "version": "3.12.5"
  }
 },
 "nbformat": 4,
 "nbformat_minor": 5
}
