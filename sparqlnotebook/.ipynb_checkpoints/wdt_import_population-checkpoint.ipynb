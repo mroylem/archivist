{
 "cells": [
  {
   "cell_type": "markdown",
   "id": "a2ebe8a8-0486-43dd-9115-045c7f06ce6e",
   "metadata": {},
   "source": [
    "## Import to Allegrograph\n",
    "\n",
    "In this notebook we describe the steps of data import to your Allegrograph repository.\n",
    "\n",
    "\n",
    "The SPARQL queries are to be executed on the Allegrograph SPARQL Endpoint:\n",
    "\n",
    "First we check the basic properties of the population: name, sex, year of birth."
   ]
  },
  {
   "cell_type": "code",
   "execution_count": 2,
   "id": "6ccb7be8-38aa-466e-865b-f2b17fdf5d17",
   "metadata": {
    "execution": {
     "iopub.execute_input": "2025-08-18T08:23:20.980290Z",
     "iopub.status.busy": "2025-08-18T08:23:20.979307Z",
     "iopub.status.idle": "2025-08-18T08:23:20.998954Z",
     "shell.execute_reply": "2025-08-18T08:23:20.995713Z",
     "shell.execute_reply.started": "2025-08-18T08:23:20.980207Z"
    }
   },
   "outputs": [
    {
     "ename": "SyntaxError",
     "evalue": "invalid syntax (2882896383.py, line 1)",
     "output_type": "error",
     "traceback": [
      "\u001b[0;36m  Cell \u001b[0;32mIn[2], line 1\u001b[0;36m\u001b[0m\n\u001b[0;31m    PREFIX wd: <http://www.wikidata.org/entity/>\u001b[0m\n\u001b[0m           ^\u001b[0m\n\u001b[0;31mSyntaxError\u001b[0m\u001b[0;31m:\u001b[0m invalid syntax\n"
     ]
    }
   ],
   "source": [
    "PREFIX wd: <http://www.wikidata.org/entity/>\n",
    "PREFIX wdt: <http://www.wikidata.org/prop/direct/>\n",
    "PREFIX wikibase: <http://wikiba.se/ontology#>\n",
    "PREFIX bd: <http://www.bigdata.com/rdf#>\n",
    "\n",
    "SELECT distinct ?item ?itemLabel ?gender ?year  WHERE {\n",
    "  { ?item wdt:P106 wd:Q635734 }  # Archiviste\n",
    "\n",
    "  ?item wdt:P31 wd:Q5;  # Any instance of a human.\n",
    "    wdt:P21 ?gender;  # Genre\n",
    "    wdt:P569 ?birthDate.\n",
    "\n",
    "  VALUES ?country { wd:Q142 wd:Q31 wd:Q39 wd:Q16 }  # France, Belgium, Switzerland, Canada\n",
    "\n",
    "  BIND(REPLACE(str(?birthDate), \"(.*)([0-9]{4})(.*)\", \"$2\") AS ?year)\n",
    "\n",
    "  FILTER(xsd:integer(?year) > 1850  && xsd:integer(?year) < 1990)\n",
    "\n",
    "  BIND ( ?itemLabel as ?itemLabel)\n",
    "  SERVICE wikibase:label { bd:serviceParam wikibase:language \"fr\". }\n",
    "}\n",
    "LIMIT 20"
   ]
  },
  {
   "cell_type": "markdown",
   "id": "140da1fe-5be3-4ceb-82c5-0872e0b5ef68",
   "metadata": {},
   "source": [
    "### Preparing to import data\n",
    "\n",
    "* Here we use the CONSTRUCT query to prepare the triples for import into a graph database.\n",
    "* We limit the test to a few rows to avoid displaying thousands of them.\n",
    "* Inspect and check the triplets that are generated.\n",
    "* Reuse if possible the Wikidata properties "
   ]
  },
  {
   "cell_type": "code",
   "execution_count": 3,
   "id": "7ca1d241-edb3-419a-aac1-faf18d82e85c",
   "metadata": {
    "execution": {
     "iopub.execute_input": "2025-08-18T08:23:22.310616Z",
     "iopub.status.busy": "2025-08-18T08:23:22.309186Z",
     "iopub.status.idle": "2025-08-18T08:23:22.330805Z",
     "shell.execute_reply": "2025-08-18T08:23:22.327433Z",
     "shell.execute_reply.started": "2025-08-18T08:23:22.310511Z"
    }
   },
   "outputs": [
    {
     "ename": "SyntaxError",
     "evalue": "invalid syntax (21175726.py, line 1)",
     "output_type": "error",
     "traceback": [
      "\u001b[0;36m  Cell \u001b[0;32mIn[3], line 1\u001b[0;36m\u001b[0m\n\u001b[0;31m    PREFIX wd: <http://www.wikidata.org/entity/>\u001b[0m\n\u001b[0m           ^\u001b[0m\n\u001b[0;31mSyntaxError\u001b[0m\u001b[0;31m:\u001b[0m invalid syntax\n"
     ]
    }
   ],
   "source": [
    "PREFIX wd: <http://www.wikidata.org/entity/>\n",
    "PREFIX wdt: <http://www.wikidata.org/prop/direct/>\n",
    "PREFIX wikibase: <http://wikiba.se/ontology#>\n",
    "PREFIX bd: <http://www.bigdata.com/rdf#>\n",
    "\n",
    "CONSTRUCT \n",
    "    {?item  rdfs:label ?itemLabel.\n",
    "        ?item wdt:P21 ?gender.\n",
    "        ?item wdt:P569 ?year. \n",
    "        ?item  wdt:P31 wd:Q5. }\n",
    "        \n",
    "WHERE {\n",
    "  \n",
    "  SERVICE <https://query.wikidata.org/sparql>\n",
    "  {\n",
    "    { ?item wdt:P106 wd:Q635734 }  # Archiviste\n",
    "\n",
    "    ?item wdt:P31 wd:Q5;  # Any instance of a human\n",
    "      wdt:P569 ?birthDate;\n",
    "      wdt:P21 ?gender.  # Genre\n",
    "\n",
    "    VALUES ?country { wd:Q142 wd:Q31 wd:Q39 wd:Q16 }  # France, Belgium, Switzerland, Canada\n",
    "\n",
    "    BIND(REPLACE(str(?birthDate), \"(.*)([0-9]{4})(.*)\", \"$2\") AS ?year)\n",
    "\n",
    "    FILTER(xsd:integer(?year) > 1850  && xsd:integer(?year) < 1990)\n",
    "\n",
    "    BIND ( ?itemLabel as ?itemLabel)\n",
    "    SERVICE wikibase:label { bd:serviceParam wikibase:language \"fr\". }\n",
    "  }\n",
    "}\n",
    "LIMIT 20"
   ]
  },
  {
   "cell_type": "markdown",
   "id": "68f4eb7c-d4ca-4620-9efd-783d49e01250",
   "metadata": {},
   "source": [
    "### Import the triples into a dedicated graph\n",
    "\n",
    "Two import strategies are possible: \n",
    "* directly through a federated query\n",
    "  * the query can be executed on a sparql-book \n",
    "  * or directly on the Allegrograph server, if it takes to much time to work through the notebook or it does not work\n",
    "* directly in Wikidata with import/export of the data \n",
    "  * execute a CONTRUCT query with the complete data (without the SERIVICE and LIMIT clause) and export it to the Turtle format (suffix: .ttl)\n",
    "  * then import the data into Allegrograph with the appropriate functionality\n",
    "\n",
    "\n",
    "In all cases, activate in Allegrograph the 'Duplication suppression' of type SPOG, cf. menu: Repository control -> Manage duplicates -> Duplicate suppression type\n",
    "\n",
    "\n",
    "The graph URI is in fact a URL pointing to a page with the description of the [imported data](../graphs/wikidata-imported-data.md)"
   ]
  },
  {
   "cell_type": "code",
   "execution_count": 4,
   "id": "7afdb76a-1adf-4755-8435-01a2788069e5",
   "metadata": {
    "execution": {
     "iopub.execute_input": "2025-08-18T08:23:22.733167Z",
     "iopub.status.busy": "2025-08-18T08:23:22.732237Z",
     "iopub.status.idle": "2025-08-18T08:23:22.755969Z",
     "shell.execute_reply": "2025-08-18T08:23:22.752806Z",
     "shell.execute_reply.started": "2025-08-18T08:23:22.733089Z"
    }
   },
   "outputs": [
    {
     "ename": "SyntaxError",
     "evalue": "leading zeros in decimal integer literals are not permitted; use an 0o prefix for octal integers (2961474516.py, line 5)",
     "output_type": "error",
     "traceback": [
      "\u001b[0;36m  Cell \u001b[0;32mIn[4], line 5\u001b[0;36m\u001b[0m\n\u001b[0;31m    PREFIX rdf: <http://www.w3.org/1999/02/22-rdf-syntax-ns#>\u001b[0m\n\u001b[0m                                        ^\u001b[0m\n\u001b[0;31mSyntaxError\u001b[0m\u001b[0;31m:\u001b[0m leading zeros in decimal integer literals are not permitted; use an 0o prefix for octal integers\n"
     ]
    }
   ],
   "source": [
    "PREFIX wd: <http://www.wikidata.org/entity/>\n",
    "PREFIX wdt: <http://www.wikidata.org/prop/direct/>\n",
    "PREFIX wikibase: <http://wikiba.se/ontology#>\n",
    "PREFIX bd: <http://www.bigdata.com/rdf#>\n",
    "PREFIX rdf: <http://www.w3.org/1999/02/22-rdf-syntax-ns#>\n",
    "\n",
    "INSERT {\n",
    "\n",
    "        ### Note that the data is imported into a named graph and not the DEFAULT one\n",
    "        GRAPH <https://github.com/mroylem/archivist/blob/main/Wikidata/graph/imported-data.md>\n",
    "\n",
    "        {?item  rdfs:label ?itemLabel.\n",
    "           ?item wdt:P21 ?gender.\n",
    "           ?item wdt:P569 ?year. \n",
    "           # ?item  wdt:P31 wd:Q5.\n",
    "           # modifier pour disposer de la propriété standard\n",
    "           ?item  rdf:type wd:Q5.\n",
    "        }\n",
    "}\n",
    "        \n",
    "WHERE {\n",
    "    SERVICE <https://query.wikidata.org/sparql>\n",
    "    {\n",
    "        { ?item wdt:P106 wd:Q635734 }  # Archiviste\n",
    "\n",
    "        ?item wdt:P31 wd:Q5;  # Any instance of a human\n",
    "        wdt:P569 ?birthDate;\n",
    "        wdt:P21 ?gender.  # Genre\n",
    "\n",
    "        VALUES ?country { wd:Q142 wd:Q31 wd:Q39 wd:Q16 }  # France, Belgium, Switzerland, Canada\n",
    "\n",
    "        BIND(REPLACE(str(?birthDate), \"(.*)([0-9]{4})(.*)\", \"$2\") AS ?year)\n",
    "\n",
    "        FILTER(xsd:integer(?year) > 1850  && xsd:integer(?year) < 1990)\n",
    "\n",
    "        BIND ( ?itemLabel as ?itemLabel)\n",
    "        SERVICE wikibase:label { bd:serviceParam wikibase:language \"fr\". }\n",
    "    }\n",
    "}"
   ]
  },
  {
   "cell_type": "markdown",
   "id": "3b0b7d66-ab2f-470a-85b2-11ece9cfb06d",
   "metadata": {},
   "source": [
    "#### Correctif si la requête précédente a été réalisée avec wdt:P31 à la place de rdf:type\n",
    "\n",
    "* rdf:tpye permet d'indiquer explicitement que wd:Q5 est un type RDF et donc vituellement une classe\n",
    "* noter qu'il faut exécuter cette requête DIRECTEMENT sur le serveur Allegrograph"
   ]
  },
  {
   "cell_type": "code",
   "execution_count": 5,
   "id": "79d981d0-c2d5-476a-a96a-ea995f960942",
   "metadata": {
    "execution": {
     "iopub.execute_input": "2025-08-18T08:23:23.203224Z",
     "iopub.status.busy": "2025-08-18T08:23:23.202160Z",
     "iopub.status.idle": "2025-08-18T08:23:23.219002Z",
     "shell.execute_reply": "2025-08-18T08:23:23.215706Z",
     "shell.execute_reply.started": "2025-08-18T08:23:23.203131Z"
    }
   },
   "outputs": [
    {
     "ename": "SyntaxError",
     "evalue": "leading zeros in decimal integer literals are not permitted; use an 0o prefix for octal integers (429288054.py, line 3)",
     "output_type": "error",
     "traceback": [
      "\u001b[0;36m  Cell \u001b[0;32mIn[5], line 3\u001b[0;36m\u001b[0m\n\u001b[0;31m    PREFIX rdf: <http://www.w3.org/1999/02/22-rdf-syntax-ns#>\u001b[0m\n\u001b[0m                                        ^\u001b[0m\n\u001b[0;31mSyntaxError\u001b[0m\u001b[0;31m:\u001b[0m leading zeros in decimal integer literals are not permitted; use an 0o prefix for octal integers\n"
     ]
    }
   ],
   "source": [
    "PREFIX wd: <http://www.wikidata.org/entity/>\n",
    "PREFIX wdt: <http://www.wikidata.org/prop/direct/>\n",
    "PREFIX rdf: <http://www.w3.org/1999/02/22-rdf-syntax-ns#>\n",
    "\n",
    "DELETE {?item  wdt:P31 wd:Q5}\n",
    "INSERT {?item rdf:type wd:Q5}\n",
    "WHERE { GRAPH <https://github.com/mroylem/archivist/blob/main/Wikidata/graph/imported-data.md>\n",
    "    {\n",
    "        ?item wdt:P31 wd:Q5.\n",
    "    }\n",
    "}"
   ]
  },
  {
   "cell_type": "markdown",
   "id": "17fdf92b-c4fb-4b69-a453-2b007bbe4211",
   "metadata": {},
   "source": [
    "#### Add a label to the Person class\n"
   ]
  },
  {
   "cell_type": "code",
   "execution_count": 6,
   "id": "e622cd21-ccfb-40c0-aefd-c56126d4badb",
   "metadata": {
    "execution": {
     "iopub.execute_input": "2025-08-18T08:23:23.648763Z",
     "iopub.status.busy": "2025-08-18T08:23:23.647737Z",
     "iopub.status.idle": "2025-08-18T08:23:23.666198Z",
     "shell.execute_reply": "2025-08-18T08:23:23.662827Z",
     "shell.execute_reply.started": "2025-08-18T08:23:23.648655Z"
    }
   },
   "outputs": [
    {
     "ename": "SyntaxError",
     "evalue": "leading zeros in decimal integer literals are not permitted; use an 0o prefix for octal integers (463993195.py, line 3)",
     "output_type": "error",
     "traceback": [
      "\u001b[0;36m  Cell \u001b[0;32mIn[6], line 3\u001b[0;36m\u001b[0m\n\u001b[0;31m    PREFIX rdf: <http://www.w3.org/1999/02/22-rdf-syntax-ns#>\u001b[0m\n\u001b[0m                                        ^\u001b[0m\n\u001b[0;31mSyntaxError\u001b[0m\u001b[0;31m:\u001b[0m leading zeros in decimal integer literals are not permitted; use an 0o prefix for octal integers\n"
     ]
    }
   ],
   "source": [
    "PREFIX wd: <http://www.wikidata.org/entity/>\n",
    "PREFIX wdt: <http://www.wikidata.org/prop/direct/>\n",
    "PREFIX rdf: <http://www.w3.org/1999/02/22-rdf-syntax-ns#>\n",
    "PREFIX owl: <http://www.w3.org/2002/07/owl#>\n",
    "\n",
    "INSERT DATA {\n",
    "    GRAPH <https://github.com/mroylem/archivist/blob/main/Wikidata/graph/imported-data.md>\n",
    "    {\n",
    "        wd:Q5 rdfs:label \"Person\".\n",
    "    }\n",
    "}"
   ]
  },
  {
   "cell_type": "markdown",
   "id": "de6a0f3f-95f5-4692-a5cf-0d63ea6c027d",
   "metadata": {},
   "source": [
    "### Add the gender class"
   ]
  },
  {
   "cell_type": "code",
   "execution_count": 7,
   "id": "a2a6dce1-0411-4b61-8db0-79bbc325f97a",
   "metadata": {
    "execution": {
     "iopub.execute_input": "2025-08-18T08:23:24.096434Z",
     "iopub.status.busy": "2025-08-18T08:23:24.095428Z",
     "iopub.status.idle": "2025-08-18T08:23:24.115117Z",
     "shell.execute_reply": "2025-08-18T08:23:24.111705Z",
     "shell.execute_reply.started": "2025-08-18T08:23:24.096302Z"
    }
   },
   "outputs": [
    {
     "ename": "SyntaxError",
     "evalue": "invalid syntax (2815036451.py, line 4)",
     "output_type": "error",
     "traceback": [
      "\u001b[0;36m  Cell \u001b[0;32mIn[7], line 4\u001b[0;36m\u001b[0m\n\u001b[0;31m    PREFIX wikibase: <http://wikiba.se/ontology#>\u001b[0m\n\u001b[0m           ^\u001b[0m\n\u001b[0;31mSyntaxError\u001b[0m\u001b[0;31m:\u001b[0m invalid syntax\n"
     ]
    }
   ],
   "source": [
    "###  Inspect the genders:\n",
    "# number of different countries\n",
    "\n",
    "PREFIX wikibase: <http://wikiba.se/ontology#>\n",
    "PREFIX bd: <http://www.bigdata.com/rdf#>\n",
    "PREFIX wd: <http://www.wikidata.org/entity/>\n",
    "PREFIX wdt: <http://www.wikidata.org/prop/direct/>\n",
    "\n",
    "SELECT (COUNT(*) as ?n)\n",
    "WHERE\n",
    "   {\n",
    "   SELECT DISTINCT ?gender\n",
    "   WHERE {\n",
    "      GRAPH <https://github.com/mroylem/archivist/blob/main/Wikidata/graph/imported-data.md>\n",
    "         {\n",
    "            ?s wdt:P21 ?gender.\n",
    "         }\n",
    "      }\n",
    "   }"
   ]
  },
  {
   "cell_type": "code",
   "execution_count": 8,
   "id": "66fd8c2f-be13-467a-9912-911476fa4fee",
   "metadata": {
    "execution": {
     "iopub.execute_input": "2025-08-18T08:23:24.327528Z",
     "iopub.status.busy": "2025-08-18T08:23:24.326582Z",
     "iopub.status.idle": "2025-08-18T08:23:24.345480Z",
     "shell.execute_reply": "2025-08-18T08:23:24.341947Z",
     "shell.execute_reply.started": "2025-08-18T08:23:24.327448Z"
    }
   },
   "outputs": [
    {
     "ename": "SyntaxError",
     "evalue": "leading zeros in decimal integer literals are not permitted; use an 0o prefix for octal integers (1470267805.py, line 5)",
     "output_type": "error",
     "traceback": [
      "\u001b[0;36m  Cell \u001b[0;32mIn[8], line 5\u001b[0;36m\u001b[0m\n\u001b[0;31m    PREFIX rdf: <http://www.w3.org/1999/02/22-rdf-syntax-ns#>\u001b[0m\n\u001b[0m                                        ^\u001b[0m\n\u001b[0;31mSyntaxError\u001b[0m\u001b[0;31m:\u001b[0m leading zeros in decimal integer literals are not permitted; use an 0o prefix for octal integers\n"
     ]
    }
   ],
   "source": [
    "### Insert the class 'gender' for all countries\n",
    "# Please note that strictly speaking Wikidata has no ontology,\n",
    "# therefore no classes. We add this for our convenience\n",
    "\n",
    "PREFIX rdf: <http://www.w3.org/1999/02/22-rdf-syntax-ns#>\n",
    "PREFIX wd: <http://www.wikidata.org/entity/>\n",
    "PREFIX wdt: <http://www.wikidata.org/prop/direct/>\n",
    "\n",
    "WITH <https://github.com/mroylem/archivist/blob/main/Wikidata/graph/imported-data.md>\n",
    "INSERT {\n",
    "   ?gender rdf:type wd:Q48264.\n",
    "}\n",
    "WHERE\n",
    "   {\n",
    "   SELECT DISTINCT ?gender\n",
    "   WHERE {\n",
    "         {\n",
    "            ?s wdt:P21 ?gender.\n",
    "         }\n",
    "      }\n",
    "   }"
   ]
  },
  {
   "cell_type": "code",
   "execution_count": 9,
   "id": "f85588aa-6625-4ab1-bf40-4e14b4851fc3",
   "metadata": {
    "execution": {
     "iopub.execute_input": "2025-08-18T08:23:24.532762Z",
     "iopub.status.busy": "2025-08-18T08:23:24.531835Z",
     "iopub.status.idle": "2025-08-18T08:23:24.548670Z",
     "shell.execute_reply": "2025-08-18T08:23:24.545274Z",
     "shell.execute_reply.started": "2025-08-18T08:23:24.532684Z"
    }
   },
   "outputs": [
    {
     "ename": "SyntaxError",
     "evalue": "leading zeros in decimal integer literals are not permitted; use an 0o prefix for octal integers (750380080.py, line 3)",
     "output_type": "error",
     "traceback": [
      "\u001b[0;36m  Cell \u001b[0;32mIn[9], line 3\u001b[0;36m\u001b[0m\n\u001b[0;31m    PREFIX rdf: <http://www.w3.org/1999/02/22-rdf-syntax-ns#>\u001b[0m\n\u001b[0m                                        ^\u001b[0m\n\u001b[0;31mSyntaxError\u001b[0m\u001b[0;31m:\u001b[0m leading zeros in decimal integer literals are not permitted; use an 0o prefix for octal integers\n"
     ]
    }
   ],
   "source": [
    "PREFIX wd: <http://www.wikidata.org/entity/>\n",
    "PREFIX wdt: <http://www.wikidata.org/prop/direct/>\n",
    "PREFIX rdf: <http://www.w3.org/1999/02/22-rdf-syntax-ns#>\n",
    "PREFIX owl: <http://www.w3.org/2002/07/owl#>\n",
    "\n",
    "INSERT DATA {\n",
    "    GRAPH <https://github.com/mroylem/archivist/blob/main/Wikidata/graph/imported-data.md>\n",
    "    {\n",
    "        wd:Q48264 rdfs:label \"Gender Identity\".\n",
    "    }\n",
    "}"
   ]
  },
  {
   "cell_type": "markdown",
   "id": "216e7668-938e-4034-b73b-d3ccf42f5d25",
   "metadata": {},
   "source": [
    "### Verify imported triples and add labels to genders"
   ]
  },
  {
   "cell_type": "code",
   "execution_count": 10,
   "id": "f254288a-cd9f-4619-92e3-44f928274b0c",
   "metadata": {
    "execution": {
     "iopub.execute_input": "2025-08-18T08:23:24.925045Z",
     "iopub.status.busy": "2025-08-18T08:23:24.924087Z",
     "iopub.status.idle": "2025-08-18T08:23:24.940305Z",
     "shell.execute_reply": "2025-08-18T08:23:24.936953Z",
     "shell.execute_reply.started": "2025-08-18T08:23:24.924966Z"
    }
   },
   "outputs": [
    {
     "ename": "SyntaxError",
     "evalue": "Invalid star expression (3401868768.py, line 2)",
     "output_type": "error",
     "traceback": [
      "\u001b[0;36m  Cell \u001b[0;32mIn[10], line 2\u001b[0;36m\u001b[0m\n\u001b[0;31m    SELECT (COUNT(*) as ?n)\u001b[0m\n\u001b[0m                   ^\u001b[0m\n\u001b[0;31mSyntaxError\u001b[0m\u001b[0;31m:\u001b[0m Invalid star expression\n"
     ]
    }
   ],
   "source": [
    "### Number of triples in the graph\n",
    "SELECT (COUNT(*) as ?n)\n",
    "WHERE {\n",
    "    GRAPH <https://github.com/mroylem/archivist/blob/main/Wikidata/graph/imported-data.md>\n",
    "        {?s ?p ?o}\n",
    "}"
   ]
  },
  {
   "cell_type": "code",
   "execution_count": 11,
   "id": "9ee6b056-c4f6-4f0d-8b85-0ccbb1de121c",
   "metadata": {
    "execution": {
     "iopub.execute_input": "2025-08-18T08:23:25.105460Z",
     "iopub.status.busy": "2025-08-18T08:23:25.104601Z",
     "iopub.status.idle": "2025-08-18T08:23:25.120299Z",
     "shell.execute_reply": "2025-08-18T08:23:25.116893Z",
     "shell.execute_reply.started": "2025-08-18T08:23:25.105384Z"
    }
   },
   "outputs": [
    {
     "ename": "SyntaxError",
     "evalue": "Invalid star expression (464328043.py, line 2)",
     "output_type": "error",
     "traceback": [
      "\u001b[0;36m  Cell \u001b[0;32mIn[11], line 2\u001b[0;36m\u001b[0m\n\u001b[0;31m    SELECT (COUNT(*) as ?n)\u001b[0m\n\u001b[0m                   ^\u001b[0m\n\u001b[0;31mSyntaxError\u001b[0m\u001b[0;31m:\u001b[0m Invalid star expression\n"
     ]
    }
   ],
   "source": [
    "### Number of persons with more than one label : no person\n",
    "SELECT (COUNT(*) as ?n)\n",
    "WHERE {\n",
    "    GRAPH <https://github.com/mroylem/archivist/blob/main/Wikidata/graph/imported-data.md>\n",
    "        {?s rdf:label ?o}\n",
    "}\n",
    "GROUP BY ?s\n",
    "HAVING (?n > 1)"
   ]
  },
  {
   "cell_type": "code",
   "execution_count": 12,
   "id": "1ee0e25d-cb69-4143-9d9d-1351ac91a4f5",
   "metadata": {
    "execution": {
     "iopub.execute_input": "2025-08-18T08:23:25.285250Z",
     "iopub.status.busy": "2025-08-18T08:23:25.284393Z",
     "iopub.status.idle": "2025-08-18T08:23:25.296062Z",
     "shell.execute_reply": "2025-08-18T08:23:25.293596Z",
     "shell.execute_reply.started": "2025-08-18T08:23:25.285173Z"
    }
   },
   "outputs": [],
   "source": [
    "### Explore the gender"
   ]
  },
  {
   "cell_type": "code",
   "execution_count": 13,
   "id": "d6d41465-7e8b-4b53-a12c-064031797a1e",
   "metadata": {
    "execution": {
     "iopub.execute_input": "2025-08-18T08:23:25.452020Z",
     "iopub.status.busy": "2025-08-18T08:23:25.451121Z",
     "iopub.status.idle": "2025-08-18T08:23:25.467106Z",
     "shell.execute_reply": "2025-08-18T08:23:25.463685Z",
     "shell.execute_reply.started": "2025-08-18T08:23:25.451941Z"
    }
   },
   "outputs": [
    {
     "ename": "SyntaxError",
     "evalue": "invalid syntax (2285325527.py, line 2)",
     "output_type": "error",
     "traceback": [
      "\u001b[0;36m  Cell \u001b[0;32mIn[13], line 2\u001b[0;36m\u001b[0m\n\u001b[0;31m    PREFIX wd: <http://www.wikidata.org/entity/>\u001b[0m\n\u001b[0m           ^\u001b[0m\n\u001b[0;31mSyntaxError\u001b[0m\u001b[0;31m:\u001b[0m invalid syntax\n"
     ]
    }
   ],
   "source": [
    "### Number of persons having more than one gender\n",
    "PREFIX wd: <http://www.wikidata.org/entity/>\n",
    "PREFIX wdt: <http://www.wikidata.org/prop/direct/>\n",
    "\n",
    "SELECT ?s (COUNT(*) as ?n)\n",
    "WHERE {\n",
    "    GRAPH <https://github.com/mroylem/archivist/blob/main/Wikidata/graph/imported-data.md>\n",
    "        {?s wdt:P21 ?gen}\n",
    "}\n",
    "GROUP BY ?s\n",
    "HAVING (?n > 1)"
   ]
  },
  {
   "cell_type": "code",
   "execution_count": 14,
   "id": "7bb3781a-042f-4a7a-a4d1-1bc3a00312e6",
   "metadata": {
    "execution": {
     "iopub.execute_input": "2025-08-18T08:23:25.619330Z",
     "iopub.status.busy": "2025-08-18T08:23:25.617664Z",
     "iopub.status.idle": "2025-08-18T08:23:25.633887Z",
     "shell.execute_reply": "2025-08-18T08:23:25.630722Z",
     "shell.execute_reply.started": "2025-08-18T08:23:25.619246Z"
    }
   },
   "outputs": [
    {
     "ename": "SyntaxError",
     "evalue": "invalid syntax (961159767.py, line 2)",
     "output_type": "error",
     "traceback": [
      "\u001b[0;36m  Cell \u001b[0;32mIn[14], line 2\u001b[0;36m\u001b[0m\n\u001b[0;31m    PREFIX wd: <http://www.wikidata.org/entity/>\u001b[0m\n\u001b[0m           ^\u001b[0m\n\u001b[0;31mSyntaxError\u001b[0m\u001b[0;31m:\u001b[0m invalid syntax\n"
     ]
    }
   ],
   "source": [
    "### Number of persons per gender\n",
    "PREFIX wd: <http://www.wikidata.org/entity/>\n",
    "PREFIX wdt: <http://www.wikidata.org/prop/direct/>\n",
    "\n",
    "SELECT ?gen (COUNT(*) as ?n)\n",
    "WHERE {\n",
    "    GRAPH <https://github.com/mroylem/archivist/blob/main/Wikidata/graph/imported-data.md>\n",
    "        {?s wdt:P21 ?gen}\n",
    "}\n",
    "GROUP BY ?gen\n",
    "#HAVING (?n > 1)"
   ]
  },
  {
   "cell_type": "code",
   "execution_count": 15,
   "id": "1cd112ce-dff9-446b-8639-b61d1259ca87",
   "metadata": {
    "execution": {
     "iopub.execute_input": "2025-08-18T08:23:25.785203Z",
     "iopub.status.busy": "2025-08-18T08:23:25.784160Z",
     "iopub.status.idle": "2025-08-18T08:23:25.801465Z",
     "shell.execute_reply": "2025-08-18T08:23:25.797944Z",
     "shell.execute_reply.started": "2025-08-18T08:23:25.785123Z"
    }
   },
   "outputs": [
    {
     "ename": "SyntaxError",
     "evalue": "invalid syntax (154956319.py, line 2)",
     "output_type": "error",
     "traceback": [
      "\u001b[0;36m  Cell \u001b[0;32mIn[15], line 2\u001b[0;36m\u001b[0m\n\u001b[0;31m    PREFIX wd: <http://www.wikidata.org/entity/>\u001b[0m\n\u001b[0m           ^\u001b[0m\n\u001b[0;31mSyntaxError\u001b[0m\u001b[0;31m:\u001b[0m invalid syntax\n"
     ]
    }
   ],
   "source": [
    "### Number of persons per gender in relation to a period\n",
    "PREFIX wd: <http://www.wikidata.org/entity/>\n",
    "PREFIX wdt: <http://www.wikidata.org/prop/direct/>\n",
    "\n",
    "SELECT ?gen (COUNT(*) as ?n)\n",
    "WHERE {\n",
    "    GRAPH <https://github.com/mroylem/archivist/blob/main/Wikidata/graph/imported-data.md>\n",
    "        {?s wdt:P21 ?gen;\n",
    "            wdt:P569 ?birthDate.\n",
    "        FILTER (?birthDate < '1900')     \n",
    "          }\n",
    "}\n",
    "GROUP BY ?gen\n",
    "#HAVING (?n > 1)"
   ]
  },
  {
   "cell_type": "code",
   "execution_count": 16,
   "id": "750116a5-b1e7-4039-8fab-22d1a49a292e",
   "metadata": {
    "execution": {
     "iopub.execute_input": "2025-08-18T08:23:25.956432Z",
     "iopub.status.busy": "2025-08-18T08:23:25.955505Z",
     "iopub.status.idle": "2025-08-18T08:23:25.976593Z",
     "shell.execute_reply": "2025-08-18T08:23:25.973507Z",
     "shell.execute_reply.started": "2025-08-18T08:23:25.956317Z"
    }
   },
   "outputs": [
    {
     "ename": "SyntaxError",
     "evalue": "invalid syntax (2853247686.py, line 3)",
     "output_type": "error",
     "traceback": [
      "\u001b[0;36m  Cell \u001b[0;32mIn[16], line 3\u001b[0;36m\u001b[0m\n\u001b[0;31m    PREFIX wd: <http://www.wikidata.org/entity/>\u001b[0m\n\u001b[0m           ^\u001b[0m\n\u001b[0;31mSyntaxError\u001b[0m\u001b[0;31m:\u001b[0m invalid syntax\n"
     ]
    }
   ],
   "source": [
    "### Add the label to the gender\n",
    "\n",
    "PREFIX wd: <http://www.wikidata.org/entity/>\n",
    "PREFIX wdt: <http://www.wikidata.org/prop/direct/>\n",
    "PREFIX wikibase: <http://wikiba.se/ontology#>\n",
    "PREFIX bd: <http://www.bigdata.com/rdf#>\n",
    "\n",
    "SELECT ?gen ?genLabel\n",
    "WHERE {\n",
    "\n",
    "    \n",
    "\n",
    "    {SELECT DISTINCT ?gen\n",
    "    WHERE {\n",
    "        GRAPH <https://github.com/mroylem/archivist/blob/main/Wikidata/graph/imported-data.md>\n",
    "            {?s wdt:P21 ?gen}\n",
    "    }\n",
    "    }   \n",
    "\n",
    "    SERVICE  <https://query.wikidata.org/sparql> {\n",
    "        ## Add this clause in order to fill the variable      \n",
    "        BIND(?gen as ?gen)\n",
    "        BIND ( ?genLabel as ?genLabel)\n",
    "        SERVICE wikibase:label { bd:serviceParam wikibase:language \"en\" }  \n",
    "    }\n",
    "}"
   ]
  },
  {
   "cell_type": "code",
   "execution_count": 17,
   "id": "859b6c9b-f29f-44b0-af74-0e1d0f20f627",
   "metadata": {
    "execution": {
     "iopub.execute_input": "2025-08-18T08:23:26.129442Z",
     "iopub.status.busy": "2025-08-18T08:23:26.128574Z",
     "iopub.status.idle": "2025-08-18T08:23:26.146482Z",
     "shell.execute_reply": "2025-08-18T08:23:26.143411Z",
     "shell.execute_reply.started": "2025-08-18T08:23:26.129330Z"
    }
   },
   "outputs": [
    {
     "ename": "SyntaxError",
     "evalue": "leading zeros in decimal integer literals are not permitted; use an 0o prefix for octal integers (2156326862.py, line 7)",
     "output_type": "error",
     "traceback": [
      "\u001b[0;36m  Cell \u001b[0;32mIn[17], line 7\u001b[0;36m\u001b[0m\n\u001b[0;31m    PREFIX rdfs: <http://www.w3.org/2000/01/rdf-schema#>\u001b[0m\n\u001b[0m                                         ^\u001b[0m\n\u001b[0;31mSyntaxError\u001b[0m\u001b[0;31m:\u001b[0m leading zeros in decimal integer literals are not permitted; use an 0o prefix for octal integers\n"
     ]
    }
   ],
   "source": [
    "### Add the label to the gender\n",
    "\n",
    "PREFIX wd: <http://www.wikidata.org/entity/>\n",
    "PREFIX wdt: <http://www.wikidata.org/prop/direct/>\n",
    "PREFIX wikibase: <http://wikiba.se/ontology#>\n",
    "PREFIX bd: <http://www.bigdata.com/rdf#>\n",
    "PREFIX rdfs: <http://www.w3.org/2000/01/rdf-schema#>\n",
    "\n",
    "CONSTRUCT {\n",
    "     ?gen rdfs:label ?genLabel\n",
    "    \n",
    "} \n",
    "WHERE {\n",
    "\n",
    "    \n",
    "\n",
    "    {SELECT DISTINCT ?gen\n",
    "    WHERE {\n",
    "        GRAPH <https://github.com/mroylem/archivist/blob/main/Wikidata/graph/imported-data.md>   \n",
    "            {?s wdt:P21 ?gen}\n",
    "    }\n",
    "    }   \n",
    "\n",
    "    SERVICE  <https://query.wikidata.org/sparql> {\n",
    "        ## Add this clause in order to fill the variable      \n",
    "        BIND(?gen as ?gen)\n",
    "        BIND ( ?genLabel as ?genLabel)\n",
    "        SERVICE wikibase:label { bd:serviceParam wikibase:language \"en\" }  \n",
    "    }\n",
    "}"
   ]
  },
  {
   "cell_type": "code",
   "execution_count": 18,
   "id": "67512541-1895-46f5-8350-27b149c30836",
   "metadata": {
    "execution": {
     "iopub.execute_input": "2025-08-18T08:23:26.303876Z",
     "iopub.status.busy": "2025-08-18T08:23:26.302912Z",
     "iopub.status.idle": "2025-08-18T08:23:26.322891Z",
     "shell.execute_reply": "2025-08-18T08:23:26.319875Z",
     "shell.execute_reply.started": "2025-08-18T08:23:26.303797Z"
    }
   },
   "outputs": [
    {
     "ename": "SyntaxError",
     "evalue": "leading zeros in decimal integer literals are not permitted; use an 0o prefix for octal integers (2166207328.py, line 7)",
     "output_type": "error",
     "traceback": [
      "\u001b[0;36m  Cell \u001b[0;32mIn[18], line 7\u001b[0;36m\u001b[0m\n\u001b[0;31m    PREFIX rdfs: <http://www.w3.org/2000/01/rdf-schema#>\u001b[0m\n\u001b[0m                                         ^\u001b[0m\n\u001b[0;31mSyntaxError\u001b[0m\u001b[0;31m:\u001b[0m leading zeros in decimal integer literals are not permitted; use an 0o prefix for octal integers\n"
     ]
    }
   ],
   "source": [
    "### Add the label to the gender: INSERT\n",
    "\n",
    "PREFIX wd: <http://www.wikidata.org/entity/>\n",
    "PREFIX wdt: <http://www.wikidata.org/prop/direct/>\n",
    "PREFIX wikibase: <http://wikiba.se/ontology#>\n",
    "PREFIX bd: <http://www.bigdata.com/rdf#>\n",
    "PREFIX rdfs: <http://www.w3.org/2000/01/rdf-schema#>\n",
    "\n",
    "WITH <https://github.com/mroylem/archivist/blob/main/Wikidata/graph/imported-data.md>\n",
    "INSERT {\n",
    "     ?gen rdfs:label ?genLabel\n",
    "    \n",
    "} \n",
    "WHERE {    \n",
    "\n",
    "    {SELECT DISTINCT ?gen\n",
    "    WHERE {\n",
    "        GRAPH <https://github.com/mroylem/archivist/blob/main/Wikidata/graph/imported-data.md>\n",
    "            {?s wdt:P21 ?gen}\n",
    "    }\n",
    "    }   \n",
    "\n",
    "    SERVICE  <https://query.wikidata.org/sparql> {\n",
    "        ## Add this clause in order to fill the variable      \n",
    "        BIND(?gen as ?gen)\n",
    "        BIND ( ?genLabel as ?genLabel)\n",
    "        SERVICE wikibase:label { bd:serviceParam wikibase:language \"en\" }  \n",
    "    }\n",
    "}"
   ]
  },
  {
   "cell_type": "code",
   "execution_count": 19,
   "id": "68df1260-ed17-420e-ab4e-698b47aa71e3",
   "metadata": {
    "execution": {
     "iopub.execute_input": "2025-08-18T08:23:26.497186Z",
     "iopub.status.busy": "2025-08-18T08:23:26.496297Z",
     "iopub.status.idle": "2025-08-18T08:23:26.512533Z",
     "shell.execute_reply": "2025-08-18T08:23:26.509601Z",
     "shell.execute_reply.started": "2025-08-18T08:23:26.497110Z"
    }
   },
   "outputs": [
    {
     "ename": "SyntaxError",
     "evalue": "invalid syntax (2500549158.py, line 3)",
     "output_type": "error",
     "traceback": [
      "\u001b[0;36m  Cell \u001b[0;32mIn[19], line 3\u001b[0;36m\u001b[0m\n\u001b[0;31m    PREFIX wd: <http://www.wikidata.org/entity/>\u001b[0m\n\u001b[0m           ^\u001b[0m\n\u001b[0;31mSyntaxError\u001b[0m\u001b[0;31m:\u001b[0m invalid syntax\n"
     ]
    }
   ],
   "source": [
    "### Verify data insertion - using only Allegrograph data\n",
    "\n",
    "PREFIX wd: <http://www.wikidata.org/entity/>\n",
    "PREFIX wdt: <http://www.wikidata.org/prop/direct/>\n",
    "PREFIX wikibase: <http://wikiba.se/ontology#>\n",
    "PREFIX bd: <http://www.bigdata.com/rdf#>\n",
    "\n",
    "SELECT ?gen ?genLabel ?n\n",
    "WHERE\n",
    "{\n",
    "    {\n",
    "    SELECT ?gen (COUNT(*) as ?n)\n",
    "        WHERE {\n",
    "            GRAPH <https://github.com/mroylem/archivist/blob/main/Wikidata/graph/imported-data.md>\n",
    "                    {\n",
    "            ?s wdt:P21 ?gen.\n",
    "            }\n",
    "        }    \n",
    "        GROUP BY ?gen        \n",
    "    }    \n",
    "    ?gen rdfs:label ?genLabel\n",
    "    }   \n"
   ]
  },
  {
   "cell_type": "markdown",
   "id": "169f72cb-7085-4daf-a382-402ad2616c5b",
   "metadata": {},
   "source": [
    "### Prepare data to analyse"
   ]
  },
  {
   "cell_type": "code",
   "execution_count": 20,
   "id": "36177827-3462-42eb-8114-a1733107b585",
   "metadata": {
    "execution": {
     "iopub.execute_input": "2025-08-18T08:23:26.849105Z",
     "iopub.status.busy": "2025-08-18T08:23:26.848170Z",
     "iopub.status.idle": "2025-08-18T08:23:26.864966Z",
     "shell.execute_reply": "2025-08-18T08:23:26.861873Z",
     "shell.execute_reply.started": "2025-08-18T08:23:26.849027Z"
    }
   },
   "outputs": [
    {
     "ename": "SyntaxError",
     "evalue": "leading zeros in decimal integer literals are not permitted; use an 0o prefix for octal integers (1104606660.py, line 3)",
     "output_type": "error",
     "traceback": [
      "\u001b[0;36m  Cell \u001b[0;32mIn[20], line 3\u001b[0;36m\u001b[0m\n\u001b[0;31m    PREFIX rdfs: <http://www.w3.org/2000/01/rdf-schema#>\u001b[0m\n\u001b[0m                                         ^\u001b[0m\n\u001b[0;31mSyntaxError\u001b[0m\u001b[0;31m:\u001b[0m leading zeros in decimal integer literals are not permitted; use an 0o prefix for octal integers\n"
     ]
    }
   ],
   "source": [
    "PREFIX wd: <http://www.wikidata.org/entity/>\n",
    "PREFIX wdt: <http://www.wikidata.org/prop/direct/>\n",
    "PREFIX rdfs: <http://www.w3.org/2000/01/rdf-schema#>\n",
    "\n",
    "\n",
    "SELECT ?s ?label ?birthDate ?gen\n",
    "WHERE {\n",
    "    GRAPH <https://github.com/mroylem/archivist/blob/main/Wikidata/graph/imported-data.md>\n",
    "        {?s wdt:P21 ?gen;\n",
    "            rdfs:label ?label;\n",
    "            wdt:P569 ?birthDate.\n",
    "          }\n",
    "}\n",
    "ORDER BY ?birthDate\n",
    "LIMIT 10"
   ]
  },
  {
   "cell_type": "code",
   "execution_count": 21,
   "id": "27eb31c6-f3f7-4eca-aa26-97cb32810894",
   "metadata": {
    "execution": {
     "iopub.execute_input": "2025-08-18T08:23:27.319740Z",
     "iopub.status.busy": "2025-08-18T08:23:27.318811Z",
     "iopub.status.idle": "2025-08-18T08:23:27.335453Z",
     "shell.execute_reply": "2025-08-18T08:23:27.332254Z",
     "shell.execute_reply.started": "2025-08-18T08:23:27.319632Z"
    }
   },
   "outputs": [
    {
     "ename": "SyntaxError",
     "evalue": "leading zeros in decimal integer literals are not permitted; use an 0o prefix for octal integers (2148459703.py, line 5)",
     "output_type": "error",
     "traceback": [
      "\u001b[0;36m  Cell \u001b[0;32mIn[21], line 5\u001b[0;36m\u001b[0m\n\u001b[0;31m    PREFIX rdfs: <http://www.w3.org/2000/01/rdf-schema#>\u001b[0m\n\u001b[0m                                         ^\u001b[0m\n\u001b[0;31mSyntaxError\u001b[0m\u001b[0;31m:\u001b[0m leading zeros in decimal integer literals are not permitted; use an 0o prefix for octal integers\n"
     ]
    }
   ],
   "source": [
    "### Number of persons\n",
    "\n",
    "PREFIX wd: <http://www.wikidata.org/entity/>\n",
    "PREFIX wdt: <http://www.wikidata.org/prop/direct/>\n",
    "PREFIX rdfs: <http://www.w3.org/2000/01/rdf-schema#>\n",
    "\n",
    "SELECT (COUNT(*) as ?n)\n",
    "WHERE {\n",
    "    GRAPH <https://github.com/mroylem/archivist/blob/main/Wikidata/graph/imported-data.md>\n",
    "        {\n",
    "          # ?s wdt:P31 wd:Q5 \n",
    "          ?s a wd:Q5\n",
    "          }\n",
    "}"
   ]
  },
  {
   "cell_type": "code",
   "execution_count": 22,
   "id": "c4fef06f-86b5-4cd8-be14-c8b87d802692",
   "metadata": {
    "execution": {
     "iopub.execute_input": "2025-08-18T08:23:27.651225Z",
     "iopub.status.busy": "2025-08-18T08:23:27.650326Z",
     "iopub.status.idle": "2025-08-18T08:23:27.668044Z",
     "shell.execute_reply": "2025-08-18T08:23:27.664922Z",
     "shell.execute_reply.started": "2025-08-18T08:23:27.651149Z"
    }
   },
   "outputs": [
    {
     "ename": "SyntaxError",
     "evalue": "leading zeros in decimal integer literals are not permitted; use an 0o prefix for octal integers (65136328.py, line 5)",
     "output_type": "error",
     "traceback": [
      "\u001b[0;36m  Cell \u001b[0;32mIn[22], line 5\u001b[0;36m\u001b[0m\n\u001b[0;31m    PREFIX rdfs: <http://www.w3.org/2000/01/rdf-schema#>\u001b[0m\n\u001b[0m                                         ^\u001b[0m\n\u001b[0;31mSyntaxError\u001b[0m\u001b[0;31m:\u001b[0m leading zeros in decimal integer literals are not permitted; use an 0o prefix for octal integers\n"
     ]
    }
   ],
   "source": [
    "### Personnes avec choix aléatoire de modalités pour variables doubles\n",
    "\n",
    "PREFIX wd: <http://www.wikidata.org/entity/>\n",
    "PREFIX wdt: <http://www.wikidata.org/prop/direct/>\n",
    "PREFIX rdfs: <http://www.w3.org/2000/01/rdf-schema#>\n",
    "\n",
    "\n",
    "SELECT  ?s (MAX(?label) as ?label) (xsd:integer(MAX(?birthDate)) as ?birthDate) (MAX(?gen) as ?gen)\n",
    "WHERE {\n",
    "    GRAPH <https://github.com/mroylem/archivist/blob/main/Wikidata/graph/imported-data.md>\n",
    "        {?s wdt:P21 ?gen;\n",
    "            rdfs:label ?label;\n",
    "            wdt:P569 ?birthDate.\n",
    "          }\n",
    "}\n",
    "GROUP BY ?s\n",
    "LIMIT 10"
   ]
  },
  {
   "cell_type": "code",
   "execution_count": 23,
   "id": "e923a4f0-0b6f-4978-9baa-52e139565413",
   "metadata": {
    "execution": {
     "iopub.execute_input": "2025-08-18T08:23:28.007183Z",
     "iopub.status.busy": "2025-08-18T08:23:28.006286Z",
     "iopub.status.idle": "2025-08-18T08:23:28.024074Z",
     "shell.execute_reply": "2025-08-18T08:23:28.020664Z",
     "shell.execute_reply.started": "2025-08-18T08:23:28.007107Z"
    }
   },
   "outputs": [
    {
     "ename": "SyntaxError",
     "evalue": "leading zeros in decimal integer literals are not permitted; use an 0o prefix for octal integers (932159073.py, line 5)",
     "output_type": "error",
     "traceback": [
      "\u001b[0;36m  Cell \u001b[0;32mIn[23], line 5\u001b[0;36m\u001b[0m\n\u001b[0;31m    PREFIX rdfs: <http://www.w3.org/2000/01/rdf-schema#>\u001b[0m\n\u001b[0m                                         ^\u001b[0m\n\u001b[0;31mSyntaxError\u001b[0m\u001b[0;31m:\u001b[0m leading zeros in decimal integer literals are not permitted; use an 0o prefix for octal integers\n"
     ]
    }
   ],
   "source": [
    "### Nombre de personnes avec propriétés de base sans doublons (choix aléatoire)\n",
    "\n",
    "PREFIX wd: <http://www.wikidata.org/entity/>\n",
    "PREFIX wdt: <http://www.wikidata.org/prop/direct/>\n",
    "PREFIX rdfs: <http://www.w3.org/2000/01/rdf-schema#>\n",
    "\n",
    "SELECT (COUNT(*) as ?n)\n",
    "WHERE {\n",
    "SELECT  ?s (MAX(?label) as ?label) (xsd:integer(MAX(?birthDate)) as ?birthDate) (MAX(?gen) as ?gen)\n",
    "WHERE {\n",
    "    GRAPH <https://github.com/mroylem/archivist/blob/main/Wikidata/graph/imported-data.md>\n",
    "        {?s wdt:P21 ?gen;\n",
    "            rdfs:label ?label;\n",
    "            wdt:P569 ?birthDate.\n",
    "          }\n",
    "}\n",
    "GROUP BY ?s\n",
    "}"
   ]
  },
  {
   "cell_type": "code",
   "execution_count": 24,
   "id": "4898dac8-243c-49da-aaa1-f0e2cdf855b3",
   "metadata": {
    "execution": {
     "iopub.execute_input": "2025-08-18T08:23:28.323244Z",
     "iopub.status.busy": "2025-08-18T08:23:28.320941Z",
     "iopub.status.idle": "2025-08-18T08:23:28.335170Z",
     "shell.execute_reply": "2025-08-18T08:23:28.332956Z",
     "shell.execute_reply.started": "2025-08-18T08:23:28.323152Z"
    }
   },
   "outputs": [
    {
     "ename": "SyntaxError",
     "evalue": "leading zeros in decimal integer literals are not permitted; use an 0o prefix for octal integers (4187316724.py, line 5)",
     "output_type": "error",
     "traceback": [
      "\u001b[0;36m  Cell \u001b[0;32mIn[24], line 5\u001b[0;36m\u001b[0m\n\u001b[0;31m    PREFIX rdfs: <http://www.w3.org/2000/01/rdf-schema#>\u001b[0m\n\u001b[0m                                         ^\u001b[0m\n\u001b[0;31mSyntaxError\u001b[0m\u001b[0;31m:\u001b[0m leading zeros in decimal integer literals are not permitted; use an 0o prefix for octal integers\n"
     ]
    }
   ],
   "source": [
    "### Ajouter le label pour la propriété \"date of birth\"\n",
    "\n",
    "PREFIX wd: <http://www.wikidata.org/entity/>\n",
    "PREFIX wdt: <http://www.wikidata.org/prop/direct/>\n",
    "PREFIX rdfs: <http://www.w3.org/2000/01/rdf-schema#>\n",
    "\n",
    "INSERT DATA {\n",
    "GRAPH <https://github.com/mroylem/archivist/blob/main/Wikidata/graph/imported-data.md>\n",
    "{    wdt:P569 rdfs:label \"date of birth\"\n",
    "}    \n",
    "}"
   ]
  },
  {
   "cell_type": "code",
   "execution_count": 25,
   "id": "9c0509b1-8373-456b-ae63-c51bdb73cd3c",
   "metadata": {
    "execution": {
     "iopub.execute_input": "2025-08-18T08:23:28.648438Z",
     "iopub.status.busy": "2025-08-18T08:23:28.647438Z",
     "iopub.status.idle": "2025-08-18T08:23:28.665939Z",
     "shell.execute_reply": "2025-08-18T08:23:28.662720Z",
     "shell.execute_reply.started": "2025-08-18T08:23:28.648321Z"
    }
   },
   "outputs": [
    {
     "ename": "SyntaxError",
     "evalue": "leading zeros in decimal integer literals are not permitted; use an 0o prefix for octal integers (1431230381.py, line 5)",
     "output_type": "error",
     "traceback": [
      "\u001b[0;36m  Cell \u001b[0;32mIn[25], line 5\u001b[0;36m\u001b[0m\n\u001b[0;31m    PREFIX rdfs: <http://www.w3.org/2000/01/rdf-schema#>\u001b[0m\n\u001b[0m                                         ^\u001b[0m\n\u001b[0;31mSyntaxError\u001b[0m\u001b[0;31m:\u001b[0m leading zeros in decimal integer literals are not permitted; use an 0o prefix for octal integers\n"
     ]
    }
   ],
   "source": [
    "### Nombre de personnes avec propriétés de base sans doublons (choix aléatoire)\n",
    "\n",
    "PREFIX wd: <http://www.wikidata.org/entity/>\n",
    "PREFIX wdt: <http://www.wikidata.org/prop/direct/>\n",
    "PREFIX rdfs: <http://www.w3.org/2000/01/rdf-schema#>\n",
    "\n",
    "INSERT DATA {\n",
    "GRAPH <https://github.com/mroylem/archivist/blob/main/Wikidata/graph/imported-data.md>\n",
    "{    wdt:P21 rdfs:label \"sex or gender\"\n",
    "}    \n",
    "}"
   ]
  },
  {
   "cell_type": "code",
   "execution_count": null,
   "id": "4d3abec3-8bc5-4b77-b3c2-e71431803916",
   "metadata": {},
   "outputs": [],
   "source": []
  },
  {
   "cell_type": "code",
   "execution_count": null,
   "id": "c864f8ef-47d7-4a6b-98e4-d4bc03c43560",
   "metadata": {},
   "outputs": [],
   "source": []
  },
  {
   "cell_type": "code",
   "execution_count": null,
   "id": "5e0cd422-8970-4f92-bfb2-50ec7194e878",
   "metadata": {},
   "outputs": [],
   "source": []
  },
  {
   "cell_type": "code",
   "execution_count": null,
   "id": "20b76a7f-4563-496d-9ecd-fc043c95fd21",
   "metadata": {},
   "outputs": [],
   "source": []
  },
  {
   "cell_type": "code",
   "execution_count": null,
   "id": "bc8d2c22-2eb6-41b5-ab95-1b0ccc2d5e33",
   "metadata": {},
   "outputs": [],
   "source": []
  },
  {
   "cell_type": "code",
   "execution_count": null,
   "id": "cba45419-7977-483d-9c96-03523234142e",
   "metadata": {},
   "outputs": [],
   "source": []
  },
  {
   "cell_type": "code",
   "execution_count": null,
   "id": "81ce3261-d744-4c9f-9ddc-e1d193d326bb",
   "metadata": {},
   "outputs": [],
   "source": []
  },
  {
   "cell_type": "code",
   "execution_count": null,
   "id": "343c4771-df15-476f-9c15-a24d06999f2b",
   "metadata": {},
   "outputs": [],
   "source": []
  },
  {
   "cell_type": "code",
   "execution_count": null,
   "id": "5c041573-9f4b-4859-905a-584595c0852c",
   "metadata": {},
   "outputs": [],
   "source": []
  },
  {
   "cell_type": "code",
   "execution_count": null,
   "id": "4349e3eb-073c-4b56-99f7-58ec1d9626b9",
   "metadata": {},
   "outputs": [],
   "source": []
  }
 ],
 "metadata": {
  "kernelspec": {
   "display_name": "Python3",
   "language": "python",
   "name": "python3"
  },
  "language_info": {
   "codemirror_mode": {
    "name": "ipython",
    "version": 3
   },
   "file_extension": ".py",
   "mimetype": "text/x-python",
   "name": "python",
   "nbconvert_exporter": "python",
   "pygments_lexer": "ipython3",
   "version": "3.12.5"
  }
 },
 "nbformat": 4,
 "nbformat_minor": 5
}
