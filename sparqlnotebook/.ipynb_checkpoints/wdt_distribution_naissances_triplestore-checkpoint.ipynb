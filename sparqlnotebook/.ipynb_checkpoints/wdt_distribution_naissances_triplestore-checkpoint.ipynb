{
 "cells": [
  {
   "cell_type": "markdown",
   "id": "9150426b-5190-4539-8204-61253a0f1bd4",
   "metadata": {},
   "source": [
    "# Distribution des naissances dans le temps \n",
    "\n",
    "Dans ce carnet est proposée une analyse de la distribution dans le temps des années de naissance de la population retenue, et la mise en évidence de générations.\n",
    "\n",
    "On met aussi en évidence l'évolution dans le temps des genres"
   ]
  },
  {
   "cell_type": "code",
   "execution_count": 178,
   "id": "231af92f-a7b1-479a-a734-0b8a9c0722e8",
   "metadata": {
    "editable": true,
    "execution": {
     "iopub.execute_input": "2025-08-24T18:45:45.803788Z",
     "iopub.status.busy": "2025-08-24T18:45:45.802781Z",
     "iopub.status.idle": "2025-08-24T18:45:45.816908Z",
     "shell.execute_reply": "2025-08-24T18:45:45.814579Z",
     "shell.execute_reply.started": "2025-08-24T18:45:45.803707Z"
    },
    "slideshow": {
     "slide_type": ""
    },
    "tags": []
   },
   "outputs": [],
   "source": [
    "### Librairie à installer dans l'environnement conda (si on exécute en local)\n",
    "# qui sera choisi pour exécuter le carnet\n",
    "from SPARQLWrapper import SPARQLWrapper, JSON, TURTLE, XML, RDFXML\n",
    "import pandas as pd\n",
    "\n",
    "import matplotlib.pyplot as plt\n",
    "import numpy as np"
   ]
  },
  {
   "cell_type": "code",
   "execution_count": 179,
   "id": "e6ce0f0e-db36-47cd-8015-a5bf33f0f7fa",
   "metadata": {
    "editable": true,
    "execution": {
     "iopub.execute_input": "2025-08-24T18:45:46.094473Z",
     "iopub.status.busy": "2025-08-24T18:45:46.092489Z",
     "iopub.status.idle": "2025-08-24T18:45:46.107411Z",
     "shell.execute_reply": "2025-08-24T18:45:46.104196Z",
     "shell.execute_reply.started": "2025-08-24T18:45:46.094392Z"
    },
    "slideshow": {
     "slide_type": ""
    },
    "tags": []
   },
   "outputs": [],
   "source": [
    "### Librairies déjà installées avec Python\n",
    "import pprint\n",
    "import csv\n",
    "import sys\n",
    "\n",
    "import sqlite3 as sql\n",
    "\n",
    "import time\n",
    "import datetime\n",
    "from dateutil import parser\n",
    "\n",
    "from importlib import reload\n",
    "from shutil import copyfile\n"
   ]
  },
  {
   "cell_type": "code",
   "execution_count": 180,
   "id": "9b90838d-2160-49e3-8adb-a67ff2cd112e",
   "metadata": {
    "editable": true,
    "execution": {
     "iopub.execute_input": "2025-08-24T18:45:46.354278Z",
     "iopub.status.busy": "2025-08-24T18:45:46.353443Z",
     "iopub.status.idle": "2025-08-24T18:45:46.367249Z",
     "shell.execute_reply": "2025-08-24T18:45:46.364786Z",
     "shell.execute_reply.started": "2025-08-24T18:45:46.354206Z"
    },
    "slideshow": {
     "slide_type": ""
    },
    "tags": []
   },
   "outputs": [],
   "source": [
    "### Importer un module de fonctions crées ad hoc\n",
    "##  ATTENTION : le fichier 'sparql_functions.py' doit se trouver \n",
    "#   dans un dossier qui se situe dans le chemin ('path') de recherche\n",
    "#   vu par le présent carnet Jupyter afin que\n",
    "#   l'importation fonctionne correctement\n",
    "\n",
    "# Add parent directory to the path\n",
    "sys.path.insert(0, '..')\n",
    "\n",
    "### If you want to add the parent-parent directory,\n",
    "sys.path.insert(0, '../..')\n",
    "\n",
    "\n",
    "import sparql_functions as spqf"
   ]
  },
  {
   "cell_type": "markdown",
   "id": "3fe8665b-f64c-42bb-8786-4aee3673867c",
   "metadata": {},
   "source": [
    "## SPARQL Query qui récupère les données\n",
    "\n",
    "On exécute la requête grâce à une fonction de la librairie locale qui réalise la mise en forme"
   ]
  },
  {
   "cell_type": "code",
   "execution_count": 181,
   "id": "cf08874b-9ba0-4f5c-8eee-aebd9f0d0d26",
   "metadata": {
    "execution": {
     "iopub.execute_input": "2025-08-24T18:45:46.821943Z",
     "iopub.status.busy": "2025-08-24T18:45:46.821016Z",
     "iopub.status.idle": "2025-08-24T18:45:46.833396Z",
     "shell.execute_reply": "2025-08-24T18:45:46.830746Z",
     "shell.execute_reply.started": "2025-08-24T18:45:46.821869Z"
    }
   },
   "outputs": [],
   "source": [
    "## define SPARQL enpoint\n",
    "endpoint = \"https://ag1mdzaeq7qnj00h.allegrograph.cloud/repositories/archivist\""
   ]
  },
  {
   "cell_type": "code",
   "execution_count": 182,
   "id": "164e80e8-1834-473a-a605-a3c1a660eff3",
   "metadata": {
    "execution": {
     "iopub.execute_input": "2025-08-24T18:45:47.090429Z",
     "iopub.status.busy": "2025-08-24T18:45:47.088320Z",
     "iopub.status.idle": "2025-08-24T18:45:47.101038Z",
     "shell.execute_reply": "2025-08-24T18:45:47.098382Z",
     "shell.execute_reply.started": "2025-08-24T18:45:47.090302Z"
    }
   },
   "outputs": [],
   "source": [
    "query = \"\"\"\n",
    "PREFIX wd: <http://www.wikidata.org/entity/>\n",
    "PREFIX wdt: <http://www.wikidata.org/prop/direct/>\n",
    "PREFIX rdfs: <http://www.w3.org/2000/01/rdf-schema#>\n",
    "\n",
    "\n",
    "SELECT  ?s (MAX(?label) as ?label) (xsd:integer(MAX(?birthDate)) as ?birthDate) (MAX(?gen) as ?gen)\n",
    "WHERE {\n",
    "    GRAPH <https://github.com/mroylem/archivist/blob/main/Wikidata/graph/imported-data.md>\n",
    "        {?s wdt:P21 ?gen;\n",
    "            rdfs:label ?label;\n",
    "            wdt:P569 ?birthDate.\n",
    "          }\n",
    "}\n",
    "GROUP BY ?s\n",
    "\"\"\""
   ]
  },
  {
   "cell_type": "code",
   "execution_count": 183,
   "id": "70f2370f-e287-404f-ba7b-aaf79021047e",
   "metadata": {
    "editable": true,
    "execution": {
     "iopub.execute_input": "2025-08-24T18:45:47.359599Z",
     "iopub.status.busy": "2025-08-24T18:45:47.358657Z",
     "iopub.status.idle": "2025-08-24T18:45:47.960905Z",
     "shell.execute_reply": "2025-08-24T18:45:47.959221Z",
     "shell.execute_reply.started": "2025-08-24T18:45:47.359522Z"
    },
    "slideshow": {
     "slide_type": ""
    },
    "tags": []
   },
   "outputs": [],
   "source": [
    "### Executer la requête avec les fonctions de la librairie locale\n",
    "qr = spqf.get_json_sparql_result(endpoint,query)"
   ]
  },
  {
   "cell_type": "code",
   "execution_count": 184,
   "id": "21bfd9f5-4c63-4b8c-af10-f9ddec203db2",
   "metadata": {
    "editable": true,
    "execution": {
     "iopub.execute_input": "2025-08-24T18:45:47.962754Z",
     "iopub.status.busy": "2025-08-24T18:45:47.962477Z",
     "iopub.status.idle": "2025-08-24T18:45:47.983183Z",
     "shell.execute_reply": "2025-08-24T18:45:47.982191Z",
     "shell.execute_reply.started": "2025-08-24T18:45:47.962730Z"
    },
    "slideshow": {
     "slide_type": ""
    },
    "tags": []
   },
   "outputs": [
    {
     "name": "stdout",
     "output_type": "stream",
     "text": [
      "5084\n"
     ]
    },
    {
     "data": {
      "text/plain": [
       "[['http://www.wikidata.org/entity/Q54553381',\n",
       "  'Waverly Lowell',\n",
       "  '1951',\n",
       "  'http://www.wikidata.org/entity/Q6581072'],\n",
       " ['http://www.wikidata.org/entity/Q20164843',\n",
       "  'Günter Buchstab',\n",
       "  '1944',\n",
       "  'http://www.wikidata.org/entity/Q6581097'],\n",
       " ['http://www.wikidata.org/entity/Q2637717',\n",
       "  'Albert Bruckner',\n",
       "  '1904',\n",
       "  'http://www.wikidata.org/entity/Q6581097']]"
      ]
     },
     "execution_count": 184,
     "metadata": {},
     "output_type": "execute_result"
    }
   ],
   "source": [
    "r = [l for l in spqf.sparql_result_to_list(qr)]\n",
    "print(len(r))\n",
    "r[:3]"
   ]
  },
  {
   "cell_type": "code",
   "execution_count": 185,
   "id": "236bbba5-a4df-4a7b-b215-44c9bc3f355f",
   "metadata": {
    "execution": {
     "iopub.execute_input": "2025-08-24T18:45:47.984547Z",
     "iopub.status.busy": "2025-08-24T18:45:47.984235Z",
     "iopub.status.idle": "2025-08-24T18:45:48.043223Z",
     "shell.execute_reply": "2025-08-24T18:45:48.041196Z",
     "shell.execute_reply.started": "2025-08-24T18:45:47.984521Z"
    }
   },
   "outputs": [
    {
     "data": {
      "text/html": [
       "<div>\n",
       "<style scoped>\n",
       "    .dataframe tbody tr th:only-of-type {\n",
       "        vertical-align: middle;\n",
       "    }\n",
       "\n",
       "    .dataframe tbody tr th {\n",
       "        vertical-align: top;\n",
       "    }\n",
       "\n",
       "    .dataframe thead th {\n",
       "        text-align: right;\n",
       "    }\n",
       "</style>\n",
       "<table border=\"1\" class=\"dataframe\">\n",
       "  <thead>\n",
       "    <tr style=\"text-align: right;\">\n",
       "      <th></th>\n",
       "      <th>personUri</th>\n",
       "      <th>personLabel</th>\n",
       "      <th>birthYear</th>\n",
       "      <th>genderUri</th>\n",
       "    </tr>\n",
       "  </thead>\n",
       "  <tbody>\n",
       "    <tr>\n",
       "      <th>0</th>\n",
       "      <td>http://www.wikidata.org/entity/Q54553381</td>\n",
       "      <td>Waverly Lowell</td>\n",
       "      <td>1951</td>\n",
       "      <td>http://www.wikidata.org/entity/Q6581072</td>\n",
       "    </tr>\n",
       "    <tr>\n",
       "      <th>1</th>\n",
       "      <td>http://www.wikidata.org/entity/Q20164843</td>\n",
       "      <td>Günter Buchstab</td>\n",
       "      <td>1944</td>\n",
       "      <td>http://www.wikidata.org/entity/Q6581097</td>\n",
       "    </tr>\n",
       "    <tr>\n",
       "      <th>2</th>\n",
       "      <td>http://www.wikidata.org/entity/Q2637717</td>\n",
       "      <td>Albert Bruckner</td>\n",
       "      <td>1904</td>\n",
       "      <td>http://www.wikidata.org/entity/Q6581097</td>\n",
       "    </tr>\n",
       "    <tr>\n",
       "      <th>3</th>\n",
       "      <td>http://www.wikidata.org/entity/Q5783602</td>\n",
       "      <td>Conrado Morterero Simón</td>\n",
       "      <td>1915</td>\n",
       "      <td>http://www.wikidata.org/entity/Q6581097</td>\n",
       "    </tr>\n",
       "    <tr>\n",
       "      <th>4</th>\n",
       "      <td>http://www.wikidata.org/entity/Q15429548</td>\n",
       "      <td>Karlheinz Geppert</td>\n",
       "      <td>1955</td>\n",
       "      <td>http://www.wikidata.org/entity/Q6581097</td>\n",
       "    </tr>\n",
       "  </tbody>\n",
       "</table>\n",
       "</div>"
      ],
      "text/plain": [
       "                                  personUri              personLabel  \\\n",
       "0  http://www.wikidata.org/entity/Q54553381           Waverly Lowell   \n",
       "1  http://www.wikidata.org/entity/Q20164843          Günter Buchstab   \n",
       "2   http://www.wikidata.org/entity/Q2637717          Albert Bruckner   \n",
       "3   http://www.wikidata.org/entity/Q5783602  Conrado Morterero Simón   \n",
       "4  http://www.wikidata.org/entity/Q15429548        Karlheinz Geppert   \n",
       "\n",
       "  birthYear                                genderUri  \n",
       "0      1951  http://www.wikidata.org/entity/Q6581072  \n",
       "1      1944  http://www.wikidata.org/entity/Q6581097  \n",
       "2      1904  http://www.wikidata.org/entity/Q6581097  \n",
       "3      1915  http://www.wikidata.org/entity/Q6581097  \n",
       "4      1955  http://www.wikidata.org/entity/Q6581097  "
      ]
     },
     "execution_count": 185,
     "metadata": {},
     "output_type": "execute_result"
    }
   ],
   "source": [
    "### Créer un DataFrame à partir du résultat\n",
    "df_p = pd.DataFrame(r)\n",
    "df_p.columns = ['personUri', 'personLabel', 'birthYear', 'genderUri']\n",
    "df_p.head()"
   ]
  },
  {
   "cell_type": "code",
   "execution_count": 186,
   "id": "eb664e6b-7fd0-4757-8bff-db79a0d52f97",
   "metadata": {
    "execution": {
     "iopub.execute_input": "2025-08-24T18:45:48.530000Z",
     "iopub.status.busy": "2025-08-24T18:45:48.528941Z",
     "iopub.status.idle": "2025-08-24T18:45:48.561775Z",
     "shell.execute_reply": "2025-08-24T18:45:48.557150Z",
     "shell.execute_reply.started": "2025-08-24T18:45:48.529917Z"
    },
    "tags": []
   },
   "outputs": [
    {
     "name": "stdout",
     "output_type": "stream",
     "text": [
      "<class 'pandas.core.frame.DataFrame'>\n",
      "RangeIndex: 5084 entries, 0 to 5083\n",
      "Data columns (total 4 columns):\n",
      " #   Column       Non-Null Count  Dtype \n",
      "---  ------       --------------  ----- \n",
      " 0   personUri    5084 non-null   object\n",
      " 1   personLabel  5084 non-null   object\n",
      " 2   birthYear    5084 non-null   object\n",
      " 3   genderUri    5084 non-null   object\n",
      "dtypes: object(4)\n",
      "memory usage: 159.0+ KB\n"
     ]
    }
   ],
   "source": [
    "df_p.info()"
   ]
  },
  {
   "cell_type": "markdown",
   "id": "4912fbea-fc0a-443c-a015-034431fbf194",
   "metadata": {},
   "source": [
    "### Vérifier les genres présents directement sur la base de données\n",
    "\n",
    "\n",
    "Voir les requêtes correspondantes dans le [SPARQL notebook qui créé la population](../../sparqlbooks/wikidata_import_population.sparqlbook)"
   ]
  },
  {
   "cell_type": "markdown",
   "id": "2de05023-549c-4de3-8dd8-1c78afaf6227",
   "metadata": {},
   "source": [
    "### Ajouter une colonne au DataFrame avec le code du genre "
   ]
  },
  {
   "cell_type": "code",
   "execution_count": 187,
   "id": "0a674d8c-3a47-4c0a-9af4-7b68d6512e7a",
   "metadata": {
    "execution": {
     "iopub.execute_input": "2025-08-24T18:45:49.300258Z",
     "iopub.status.busy": "2025-08-24T18:45:49.299220Z",
     "iopub.status.idle": "2025-08-24T18:45:49.313804Z",
     "shell.execute_reply": "2025-08-24T18:45:49.311447Z",
     "shell.execute_reply.started": "2025-08-24T18:45:49.300180Z"
    }
   },
   "outputs": [],
   "source": [
    "### On créé d'abord une fonction qui effectue le travail\n",
    "\n",
    "## l'argument de la fonction 'g_uri' est un nom choisi librement\n",
    "# il est ensuite appelé dans la fonction comme variable\n",
    "# et contient la valeur introduite lors de l'utilisation de la fonction \n",
    "def code_gender(g_uri):\n",
    "    if g_uri == 'http://www.wikidata.org/entity/Q6581097':\n",
    "        # genre masculin\n",
    "        a = 'M'\n",
    "    elif g_uri =='http://www.wikidata.org/entity/Q6581072':\n",
    "        # genre féminin\n",
    "        a = 'F'\n",
    "    else:\n",
    "        # genre autre\n",
    "        a = 'A'\n",
    "    return a    "
   ]
  },
  {
   "cell_type": "code",
   "execution_count": 188,
   "id": "449fc512-efbd-4dcb-9e47-219f80ed8a4e",
   "metadata": {
    "execution": {
     "iopub.execute_input": "2025-08-24T18:45:49.584908Z",
     "iopub.status.busy": "2025-08-24T18:45:49.583971Z",
     "iopub.status.idle": "2025-08-24T18:45:49.597999Z",
     "shell.execute_reply": "2025-08-24T18:45:49.595409Z",
     "shell.execute_reply.started": "2025-08-24T18:45:49.584832Z"
    }
   },
   "outputs": [
    {
     "name": "stdout",
     "output_type": "stream",
     "text": [
      "A\n"
     ]
    }
   ],
   "source": [
    "### On teste la fonction\n",
    "print(code_gender('http://www.wikidata.org/entity/Q48270'))"
   ]
  },
  {
   "cell_type": "code",
   "execution_count": 189,
   "id": "199ee5a4-1cdb-4a0f-962a-7675ec3f26f2",
   "metadata": {
    "execution": {
     "iopub.execute_input": "2025-08-24T18:45:49.803633Z",
     "iopub.status.busy": "2025-08-24T18:45:49.802766Z",
     "iopub.status.idle": "2025-08-24T18:45:49.862041Z",
     "shell.execute_reply": "2025-08-24T18:45:49.860618Z",
     "shell.execute_reply.started": "2025-08-24T18:45:49.803560Z"
    }
   },
   "outputs": [],
   "source": [
    "### On ajoute une nouvelle colonne et y on met pour chaque ligne le résultat de la fonction\n",
    "df_p['genCode'] = df_p.apply(lambda x: code_gender(x['genderUri']), axis=1)"
   ]
  },
  {
   "cell_type": "code",
   "execution_count": 190,
   "id": "db6fb789-227b-40ef-9c11-78edf1b9d12c",
   "metadata": {
    "execution": {
     "iopub.execute_input": "2025-08-24T18:45:50.015195Z",
     "iopub.status.busy": "2025-08-24T18:45:50.014297Z",
     "iopub.status.idle": "2025-08-24T18:45:50.044740Z",
     "shell.execute_reply": "2025-08-24T18:45:50.042580Z",
     "shell.execute_reply.started": "2025-08-24T18:45:50.015122Z"
    }
   },
   "outputs": [
    {
     "data": {
      "text/html": [
       "<div>\n",
       "<style scoped>\n",
       "    .dataframe tbody tr th:only-of-type {\n",
       "        vertical-align: middle;\n",
       "    }\n",
       "\n",
       "    .dataframe tbody tr th {\n",
       "        vertical-align: top;\n",
       "    }\n",
       "\n",
       "    .dataframe thead th {\n",
       "        text-align: right;\n",
       "    }\n",
       "</style>\n",
       "<table border=\"1\" class=\"dataframe\">\n",
       "  <thead>\n",
       "    <tr style=\"text-align: right;\">\n",
       "      <th></th>\n",
       "      <th>personUri</th>\n",
       "      <th>personLabel</th>\n",
       "      <th>birthYear</th>\n",
       "      <th>genderUri</th>\n",
       "      <th>genCode</th>\n",
       "    </tr>\n",
       "  </thead>\n",
       "  <tbody>\n",
       "    <tr>\n",
       "      <th>704</th>\n",
       "      <td>http://www.wikidata.org/entity/Q57304412</td>\n",
       "      <td>María Belén Correa</td>\n",
       "      <td>1973</td>\n",
       "      <td>http://www.wikidata.org/entity/Q1052281</td>\n",
       "      <td>A</td>\n",
       "    </tr>\n",
       "    <tr>\n",
       "      <th>1223</th>\n",
       "      <td>http://www.wikidata.org/entity/Q107444649</td>\n",
       "      <td>Joyce Gabiola</td>\n",
       "      <td>1974</td>\n",
       "      <td>http://www.wikidata.org/entity/Q48270</td>\n",
       "      <td>A</td>\n",
       "    </tr>\n",
       "    <tr>\n",
       "      <th>3142</th>\n",
       "      <td>http://www.wikidata.org/entity/Q74593255</td>\n",
       "      <td>Eric Willey</td>\n",
       "      <td>1975</td>\n",
       "      <td>http://www.wikidata.org/entity/Q113124952</td>\n",
       "      <td>A</td>\n",
       "    </tr>\n",
       "    <tr>\n",
       "      <th>4545</th>\n",
       "      <td>http://www.wikidata.org/entity/Q2540350</td>\n",
       "      <td>Jessica Mink</td>\n",
       "      <td>1951</td>\n",
       "      <td>http://www.wikidata.org/entity/Q1052281</td>\n",
       "      <td>A</td>\n",
       "    </tr>\n",
       "  </tbody>\n",
       "</table>\n",
       "</div>"
      ],
      "text/plain": [
       "                                      personUri         personLabel birthYear  \\\n",
       "704    http://www.wikidata.org/entity/Q57304412  María Belén Correa      1973   \n",
       "1223  http://www.wikidata.org/entity/Q107444649       Joyce Gabiola      1974   \n",
       "3142   http://www.wikidata.org/entity/Q74593255         Eric Willey      1975   \n",
       "4545    http://www.wikidata.org/entity/Q2540350        Jessica Mink      1951   \n",
       "\n",
       "                                      genderUri genCode  \n",
       "704     http://www.wikidata.org/entity/Q1052281       A  \n",
       "1223      http://www.wikidata.org/entity/Q48270       A  \n",
       "3142  http://www.wikidata.org/entity/Q113124952       A  \n",
       "4545    http://www.wikidata.org/entity/Q1052281       A  "
      ]
     },
     "execution_count": 190,
     "metadata": {},
     "output_type": "execute_result"
    }
   ],
   "source": [
    "### On inspecte les cinq premières lignes qui ont la valeur 'A' = autre\n",
    "df_p[df_p['genCode']=='A'][:5]"
   ]
  },
  {
   "cell_type": "markdown",
   "id": "c741c989-50ea-4f3d-a28d-89959d2c739a",
   "metadata": {},
   "source": [
    "## Effectifs par année"
   ]
  },
  {
   "cell_type": "code",
   "execution_count": 191,
   "id": "136263a8-722c-460e-bcc0-1aef61051025",
   "metadata": {
    "execution": {
     "iopub.execute_input": "2025-08-24T18:45:50.347002Z",
     "iopub.status.busy": "2025-08-24T18:45:50.346094Z",
     "iopub.status.idle": "2025-08-24T18:45:50.370758Z",
     "shell.execute_reply": "2025-08-24T18:45:50.368512Z",
     "shell.execute_reply.started": "2025-08-24T18:45:50.346929Z"
    }
   },
   "outputs": [
    {
     "name": "stdout",
     "output_type": "stream",
     "text": [
      "<class 'pandas.core.series.Series'>\n",
      "RangeIndex: 5084 entries, 0 to 5083\n",
      "Series name: birthYear\n",
      "Non-Null Count  Dtype \n",
      "--------------  ----- \n",
      "5084 non-null   object\n",
      "dtypes: object(1)\n",
      "memory usage: 39.8+ KB\n"
     ]
    }
   ],
   "source": [
    "### On inspecte les valeurs de la colonne 'birthYear' \n",
    "# et on observe que le type de données est 'object', ici texte\n",
    "df_p['birthYear'].info()"
   ]
  },
  {
   "cell_type": "code",
   "execution_count": 192,
   "id": "fc39e9a0-2c3b-4fe5-be24-603b6a61a566",
   "metadata": {
    "execution": {
     "iopub.execute_input": "2025-08-24T18:45:50.476557Z",
     "iopub.status.busy": "2025-08-24T18:45:50.475655Z",
     "iopub.status.idle": "2025-08-24T18:45:50.492371Z",
     "shell.execute_reply": "2025-08-24T18:45:50.489694Z",
     "shell.execute_reply.started": "2025-08-24T18:45:50.476481Z"
    }
   },
   "outputs": [],
   "source": [
    "### On transforme le type de valeur de la colonne BirthYear\n",
    "# de objet à entier\n",
    "df_p['birthYear'] = df_p['birthYear'].astype(int)"
   ]
  },
  {
   "cell_type": "code",
   "execution_count": 193,
   "id": "d9f288a0-21e0-45f3-82d6-77e480ad9731",
   "metadata": {
    "execution": {
     "iopub.execute_input": "2025-08-24T18:45:50.633478Z",
     "iopub.status.busy": "2025-08-24T18:45:50.632605Z",
     "iopub.status.idle": "2025-08-24T18:45:50.665371Z",
     "shell.execute_reply": "2025-08-24T18:45:50.663150Z",
     "shell.execute_reply.started": "2025-08-24T18:45:50.633404Z"
    }
   },
   "outputs": [
    {
     "data": {
      "text/html": [
       "<div>\n",
       "<style scoped>\n",
       "    .dataframe tbody tr th:only-of-type {\n",
       "        vertical-align: middle;\n",
       "    }\n",
       "\n",
       "    .dataframe tbody tr th {\n",
       "        vertical-align: top;\n",
       "    }\n",
       "\n",
       "    .dataframe thead th {\n",
       "        text-align: right;\n",
       "    }\n",
       "</style>\n",
       "<table border=\"1\" class=\"dataframe\">\n",
       "  <thead>\n",
       "    <tr style=\"text-align: right;\">\n",
       "      <th></th>\n",
       "      <th>year</th>\n",
       "      <th>effectif</th>\n",
       "    </tr>\n",
       "  </thead>\n",
       "  <tbody>\n",
       "    <tr>\n",
       "      <th>0</th>\n",
       "      <td>1851</td>\n",
       "      <td>25</td>\n",
       "    </tr>\n",
       "    <tr>\n",
       "      <th>1</th>\n",
       "      <td>1852</td>\n",
       "      <td>28</td>\n",
       "    </tr>\n",
       "    <tr>\n",
       "      <th>2</th>\n",
       "      <td>1853</td>\n",
       "      <td>25</td>\n",
       "    </tr>\n",
       "    <tr>\n",
       "      <th>3</th>\n",
       "      <td>1854</td>\n",
       "      <td>21</td>\n",
       "    </tr>\n",
       "    <tr>\n",
       "      <th>4</th>\n",
       "      <td>1855</td>\n",
       "      <td>22</td>\n",
       "    </tr>\n",
       "    <tr>\n",
       "      <th>...</th>\n",
       "      <td>...</td>\n",
       "      <td>...</td>\n",
       "    </tr>\n",
       "    <tr>\n",
       "      <th>134</th>\n",
       "      <td>1985</td>\n",
       "      <td>15</td>\n",
       "    </tr>\n",
       "    <tr>\n",
       "      <th>135</th>\n",
       "      <td>1986</td>\n",
       "      <td>13</td>\n",
       "    </tr>\n",
       "    <tr>\n",
       "      <th>136</th>\n",
       "      <td>1987</td>\n",
       "      <td>6</td>\n",
       "    </tr>\n",
       "    <tr>\n",
       "      <th>137</th>\n",
       "      <td>1988</td>\n",
       "      <td>5</td>\n",
       "    </tr>\n",
       "    <tr>\n",
       "      <th>138</th>\n",
       "      <td>1989</td>\n",
       "      <td>6</td>\n",
       "    </tr>\n",
       "  </tbody>\n",
       "</table>\n",
       "<p>139 rows × 2 columns</p>\n",
       "</div>"
      ],
      "text/plain": [
       "     year  effectif\n",
       "0    1851        25\n",
       "1    1852        28\n",
       "2    1853        25\n",
       "3    1854        21\n",
       "4    1855        22\n",
       "..    ...       ...\n",
       "134  1985        15\n",
       "135  1986        13\n",
       "136  1987         6\n",
       "137  1988         5\n",
       "138  1989         6\n",
       "\n",
       "[139 rows x 2 columns]"
      ]
     },
     "execution_count": 193,
     "metadata": {},
     "output_type": "execute_result"
    }
   ],
   "source": [
    "### On transforme en DataFrame le résultat du regroupement par année\n",
    "# noter qu'un ajoute un filtre pour que l'année maximale de naissance soit 200\n",
    "years_count = pd.DataFrame(df_p[df_p['birthYear'] < 2001].groupby('birthYear').size())\\\n",
    "                .reset_index(drop=False)\n",
    "years_count.columns=['year','effectif']\n",
    "years_count"
   ]
  },
  {
   "cell_type": "code",
   "execution_count": 194,
   "id": "7fdc507e-f074-4c4a-bda5-ca2a6c69f387",
   "metadata": {
    "execution": {
     "iopub.execute_input": "2025-08-24T18:45:50.785720Z",
     "iopub.status.busy": "2025-08-24T18:45:50.784839Z",
     "iopub.status.idle": "2025-08-24T18:45:51.428749Z",
     "shell.execute_reply": "2025-08-24T18:45:51.426946Z",
     "shell.execute_reply.started": "2025-08-24T18:45:50.785646Z"
    }
   },
   "outputs": [
    {
     "data": {
      "image/png": "[encoded data removed]",
      "text/plain": [
       "<Figure size 1600x800 with 1 Axes>"
      ]
     },
     "metadata": {},
     "output_type": "display_data"
    }
   ],
   "source": [
    "### Représentation graphique des effectifs par année\n",
    "\n",
    "ax = years_count.plot(x='year', y='effectif', kind='bar',rot=60, fontsize=8, figsize=(16,8))\n",
    "\n",
    "\n",
    "max_xticks = 20\n",
    "xloc = plt.MaxNLocator(max_xticks)\n",
    "ax.xaxis.set_major_locator(xloc)\n",
    "\n",
    "plt.ylabel('Effectif')\n",
    "plt.xlabel('Années')\n",
    "plt.title('Nombre de naissances par année')\n",
    "plt.show()"
   ]
  },
  {
   "cell_type": "markdown",
   "id": "ab845937-6017-44df-bec9-d78867a706a2",
   "metadata": {},
   "source": [
    "## Regrouper les effectifs par périodes de 25 ans"
   ]
  },
  {
   "cell_type": "code",
   "execution_count": 195,
   "id": "dcd067cb-f58d-44a1-bdb6-991bbcc3811c",
   "metadata": {
    "execution": {
     "iopub.execute_input": "2025-08-24T18:45:51.430961Z",
     "iopub.status.busy": "2025-08-24T18:45:51.430676Z",
     "iopub.status.idle": "2025-08-24T18:45:51.442196Z",
     "shell.execute_reply": "2025-08-24T18:45:51.440301Z",
     "shell.execute_reply.started": "2025-08-24T18:45:51.430935Z"
    }
   },
   "outputs": [],
   "source": [
    "### Créer une copie indépendante du DataFrame (attention aux copies de variables qui sont seulement des alias) \n",
    "cdf_p = df_p[df_p['birthYear'] < 1951].copy(deep=True)"
   ]
  },
  {
   "cell_type": "code",
   "execution_count": 196,
   "id": "f7002b54-5b9a-41ff-b207-3d209bfea3b2",
   "metadata": {
    "execution": {
     "iopub.execute_input": "2025-08-24T18:45:51.443635Z",
     "iopub.status.busy": "2025-08-24T18:45:51.443387Z",
     "iopub.status.idle": "2025-08-24T18:45:51.503808Z",
     "shell.execute_reply": "2025-08-24T18:45:51.501756Z",
     "shell.execute_reply.started": "2025-08-24T18:45:51.443613Z"
    }
   },
   "outputs": [
    {
     "data": {
      "text/html": [
       "<div>\n",
       "<style scoped>\n",
       "    .dataframe tbody tr th:only-of-type {\n",
       "        vertical-align: middle;\n",
       "    }\n",
       "\n",
       "    .dataframe tbody tr th {\n",
       "        vertical-align: top;\n",
       "    }\n",
       "\n",
       "    .dataframe thead th {\n",
       "        text-align: right;\n",
       "    }\n",
       "</style>\n",
       "<table border=\"1\" class=\"dataframe\">\n",
       "  <thead>\n",
       "    <tr style=\"text-align: right;\">\n",
       "      <th></th>\n",
       "      <th>personUri</th>\n",
       "      <th>personLabel</th>\n",
       "      <th>birthYear</th>\n",
       "      <th>genderUri</th>\n",
       "      <th>genCode</th>\n",
       "    </tr>\n",
       "  </thead>\n",
       "  <tbody>\n",
       "    <tr>\n",
       "      <th>1</th>\n",
       "      <td>http://www.wikidata.org/entity/Q20164843</td>\n",
       "      <td>Günter Buchstab</td>\n",
       "      <td>1944</td>\n",
       "      <td>http://www.wikidata.org/entity/Q6581097</td>\n",
       "      <td>M</td>\n",
       "    </tr>\n",
       "    <tr>\n",
       "      <th>2</th>\n",
       "      <td>http://www.wikidata.org/entity/Q2637717</td>\n",
       "      <td>Albert Bruckner</td>\n",
       "      <td>1904</td>\n",
       "      <td>http://www.wikidata.org/entity/Q6581097</td>\n",
       "      <td>M</td>\n",
       "    </tr>\n",
       "    <tr>\n",
       "      <th>3</th>\n",
       "      <td>http://www.wikidata.org/entity/Q5783602</td>\n",
       "      <td>Conrado Morterero Simón</td>\n",
       "      <td>1915</td>\n",
       "      <td>http://www.wikidata.org/entity/Q6581097</td>\n",
       "      <td>M</td>\n",
       "    </tr>\n",
       "  </tbody>\n",
       "</table>\n",
       "</div>"
      ],
      "text/plain": [
       "                                  personUri              personLabel  \\\n",
       "1  http://www.wikidata.org/entity/Q20164843          Günter Buchstab   \n",
       "2   http://www.wikidata.org/entity/Q2637717          Albert Bruckner   \n",
       "3   http://www.wikidata.org/entity/Q5783602  Conrado Morterero Simón   \n",
       "\n",
       "   birthYear                                genderUri genCode  \n",
       "1       1944  http://www.wikidata.org/entity/Q6581097       M  \n",
       "2       1904  http://www.wikidata.org/entity/Q6581097       M  \n",
       "3       1915  http://www.wikidata.org/entity/Q6581097       M  "
      ]
     },
     "execution_count": 196,
     "metadata": {},
     "output_type": "execute_result"
    }
   ],
   "source": [
    "cdf_p.head(3)"
   ]
  },
  {
   "cell_type": "code",
   "execution_count": 197,
   "id": "15117967-9901-423a-a898-d5b710399439",
   "metadata": {
    "execution": {
     "iopub.execute_input": "2025-08-24T18:45:51.563824Z",
     "iopub.status.busy": "2025-08-24T18:45:51.562752Z",
     "iopub.status.idle": "2025-08-24T18:45:51.580469Z",
     "shell.execute_reply": "2025-08-24T18:45:51.578325Z",
     "shell.execute_reply.started": "2025-08-24T18:45:51.563746Z"
    }
   },
   "outputs": [
    {
     "name": "stdout",
     "output_type": "stream",
     "text": [
      "1851 1950\n"
     ]
    }
   ],
   "source": [
    "### Année minimale et maximale dans la population\n",
    "print(min(cdf_p['birthYear']), max(cdf_p['birthYear']))"
   ]
  },
  {
   "cell_type": "markdown",
   "id": "c60b84a9-99a7-46b0-8ae9-11bf26128fe7",
   "metadata": {},
   "source": [
    "### Codage par période de vingt-cinq ans"
   ]
  },
  {
   "cell_type": "code",
   "execution_count": 198,
   "id": "7c29f5c0-bf9f-444d-be57-2d39bf882e23",
   "metadata": {
    "execution": {
     "iopub.execute_input": "2025-08-24T18:45:52.063570Z",
     "iopub.status.busy": "2025-08-24T18:45:52.062519Z",
     "iopub.status.idle": "2025-08-24T18:45:52.076930Z",
     "shell.execute_reply": "2025-08-24T18:45:52.074445Z",
     "shell.execute_reply.started": "2025-08-24T18:45:52.063437Z"
    },
    "tags": []
   },
   "outputs": [
    {
     "name": "stdout",
     "output_type": "stream",
     "text": [
      "[1850, 1875, 1900, 1925, 1950] [1850, 1875, 1900, 1925, 1950]\n"
     ]
    }
   ],
   "source": [
    "### Créer une liste d'années pour séparer en périodes de 15 ans\n",
    "# noter que la dernière année sera exclue, \n",
    "# elle donc doit être supérieure à la valeur maximale \n",
    "l_25 = list(range(1850, 1975, 25))\n",
    "print(l_25[:5], l_25[-5:])"
   ]
  },
  {
   "cell_type": "code",
   "execution_count": 199,
   "id": "06ab381e-f317-4767-9790-a9fcbfcb1853",
   "metadata": {
    "execution": {
     "iopub.execute_input": "2025-08-24T18:45:52.214152Z",
     "iopub.status.busy": "2025-08-24T18:45:52.213281Z",
     "iopub.status.idle": "2025-08-24T18:45:52.246011Z",
     "shell.execute_reply": "2025-08-24T18:45:52.244693Z",
     "shell.execute_reply.started": "2025-08-24T18:45:52.214080Z"
    }
   },
   "outputs": [
    {
     "data": {
      "text/html": [
       "<div>\n",
       "<style scoped>\n",
       "    .dataframe tbody tr th:only-of-type {\n",
       "        vertical-align: middle;\n",
       "    }\n",
       "\n",
       "    .dataframe tbody tr th {\n",
       "        vertical-align: top;\n",
       "    }\n",
       "\n",
       "    .dataframe thead th {\n",
       "        text-align: right;\n",
       "    }\n",
       "</style>\n",
       "<table border=\"1\" class=\"dataframe\">\n",
       "  <thead>\n",
       "    <tr style=\"text-align: right;\">\n",
       "      <th></th>\n",
       "      <th>personUri</th>\n",
       "      <th>personLabel</th>\n",
       "      <th>birthYear</th>\n",
       "      <th>genderUri</th>\n",
       "      <th>genCode</th>\n",
       "      <th>periodes</th>\n",
       "    </tr>\n",
       "  </thead>\n",
       "  <tbody>\n",
       "    <tr>\n",
       "      <th>1</th>\n",
       "      <td>http://www.wikidata.org/entity/Q20164843</td>\n",
       "      <td>Günter Buchstab</td>\n",
       "      <td>1944</td>\n",
       "      <td>http://www.wikidata.org/entity/Q6581097</td>\n",
       "      <td>M</td>\n",
       "      <td>1925-1949</td>\n",
       "    </tr>\n",
       "    <tr>\n",
       "      <th>2</th>\n",
       "      <td>http://www.wikidata.org/entity/Q2637717</td>\n",
       "      <td>Albert Bruckner</td>\n",
       "      <td>1904</td>\n",
       "      <td>http://www.wikidata.org/entity/Q6581097</td>\n",
       "      <td>M</td>\n",
       "      <td>1900-1924</td>\n",
       "    </tr>\n",
       "    <tr>\n",
       "      <th>3</th>\n",
       "      <td>http://www.wikidata.org/entity/Q5783602</td>\n",
       "      <td>Conrado Morterero Simón</td>\n",
       "      <td>1915</td>\n",
       "      <td>http://www.wikidata.org/entity/Q6581097</td>\n",
       "      <td>M</td>\n",
       "      <td>1900-1924</td>\n",
       "    </tr>\n",
       "  </tbody>\n",
       "</table>\n",
       "</div>"
      ],
      "text/plain": [
       "                                  personUri              personLabel  \\\n",
       "1  http://www.wikidata.org/entity/Q20164843          Günter Buchstab   \n",
       "2   http://www.wikidata.org/entity/Q2637717          Albert Bruckner   \n",
       "3   http://www.wikidata.org/entity/Q5783602  Conrado Morterero Simón   \n",
       "\n",
       "   birthYear                                genderUri genCode   periodes  \n",
       "1       1944  http://www.wikidata.org/entity/Q6581097       M  1925-1949  \n",
       "2       1904  http://www.wikidata.org/entity/Q6581097       M  1900-1924  \n",
       "3       1915  http://www.wikidata.org/entity/Q6581097       M  1900-1924  "
      ]
     },
     "execution_count": 199,
     "metadata": {},
     "output_type": "execute_result"
    }
   ],
   "source": [
    "### fonction pd.cut : https://pandas.pydata.org/pandas-docs/stable/reference/api/pandas.cut.html\n",
    "# On ajoute une nouvelle colonne qui contient la période sur la base de la liste précédente\n",
    "# et de la valeur de l'année\n",
    "\n",
    "cdf_p['periodes'] = pd.cut(cdf_p['birthYear'], l_25, right=False)\n",
    "\n",
    "### Transformer le code ajouté pour qu'il soit plus lisible\n",
    "# noter qu'on a arrondi les valeurs\n",
    "cdf_p['periodes'] = cdf_p['periodes'].apply(lambda x : str(int(x.left))+'-'+ str(int(x.right)-1))\n",
    "\n",
    "# Inspection\n",
    "cdf_p.head(3)"
   ]
  },
  {
   "cell_type": "code",
   "execution_count": 200,
   "id": "4e943cfe-40d8-49c0-afa1-a55f964f657a",
   "metadata": {
    "execution": {
     "iopub.execute_input": "2025-08-24T18:45:52.364057Z",
     "iopub.status.busy": "2025-08-24T18:45:52.363189Z",
     "iopub.status.idle": "2025-08-24T18:45:52.384602Z",
     "shell.execute_reply": "2025-08-24T18:45:52.382693Z",
     "shell.execute_reply.started": "2025-08-24T18:45:52.363984Z"
    }
   },
   "outputs": [
    {
     "data": {
      "text/plain": [
       "periodes\n",
       "1850-1874     616\n",
       "1875-1899     832\n",
       "1900-1924    1177\n",
       "1925-1949    1188\n",
       "dtype: int64"
      ]
     },
     "execution_count": 200,
     "metadata": {},
     "output_type": "execute_result"
    }
   ],
   "source": [
    "### compter les naissances par périodes de 25 ans\n",
    "cdf_p.groupby(by='periodes',observed=True).size()"
   ]
  },
  {
   "cell_type": "code",
   "execution_count": 201,
   "id": "9a1dd793-210a-42c3-b68b-d0e1756277d1",
   "metadata": {
    "execution": {
     "iopub.execute_input": "2025-08-24T18:45:52.681456Z",
     "iopub.status.busy": "2025-08-24T18:45:52.680585Z",
     "iopub.status.idle": "2025-08-24T18:45:52.958782Z",
     "shell.execute_reply": "2025-08-24T18:45:52.957528Z",
     "shell.execute_reply.started": "2025-08-24T18:45:52.681384Z"
    }
   },
   "outputs": [
    {
     "data": {
      "image/png": "[encoded data removed]",
      "text/plain": [
       "<Figure size 1600x800 with 1 Axes>"
      ]
     },
     "metadata": {},
     "output_type": "display_data"
    }
   ],
   "source": [
    "ax = cdf_p.groupby(by='periodes', observed=True).size().plot(kind='bar',rot=60, fontsize=8, figsize=(16,8))\n",
    "plt.ylabel('Effectif')\n",
    "plt.xlabel('Périodes')\n",
    "plt.title('Naissances par périodes de vingt-cinq ans')\n",
    "plt.show()"
   ]
  },
  {
   "cell_type": "markdown",
   "id": "7d3da8ee-300d-4fb8-be6e-384e1e4186ef",
   "metadata": {},
   "source": [
    "## Ajouter la représentation des genres"
   ]
  },
  {
   "cell_type": "code",
   "execution_count": 202,
   "id": "e95d55b5",
   "metadata": {
    "execution": {
     "iopub.execute_input": "2025-08-24T18:45:53.008932Z",
     "iopub.status.busy": "2025-08-24T18:45:53.008025Z",
     "iopub.status.idle": "2025-08-24T18:45:53.038565Z",
     "shell.execute_reply": "2025-08-24T18:45:53.036096Z",
     "shell.execute_reply.started": "2025-08-24T18:45:53.008859Z"
    }
   },
   "outputs": [
    {
     "data": {
      "text/html": [
       "<div>\n",
       "<style scoped>\n",
       "    .dataframe tbody tr th:only-of-type {\n",
       "        vertical-align: middle;\n",
       "    }\n",
       "\n",
       "    .dataframe tbody tr th {\n",
       "        vertical-align: top;\n",
       "    }\n",
       "\n",
       "    .dataframe thead th {\n",
       "        text-align: right;\n",
       "    }\n",
       "</style>\n",
       "<table border=\"1\" class=\"dataframe\">\n",
       "  <thead>\n",
       "    <tr style=\"text-align: right;\">\n",
       "      <th></th>\n",
       "      <th>gen_m</th>\n",
       "    </tr>\n",
       "    <tr>\n",
       "      <th>periodes</th>\n",
       "      <th></th>\n",
       "    </tr>\n",
       "  </thead>\n",
       "  <tbody>\n",
       "    <tr>\n",
       "      <th>1850-1874</th>\n",
       "      <td>606</td>\n",
       "    </tr>\n",
       "    <tr>\n",
       "      <th>1875-1899</th>\n",
       "      <td>762</td>\n",
       "    </tr>\n",
       "    <tr>\n",
       "      <th>1900-1924</th>\n",
       "      <td>933</td>\n",
       "    </tr>\n",
       "    <tr>\n",
       "      <th>1925-1949</th>\n",
       "      <td>883</td>\n",
       "    </tr>\n",
       "  </tbody>\n",
       "</table>\n",
       "</div>"
      ],
      "text/plain": [
       "           gen_m\n",
       "periodes        \n",
       "1850-1874    606\n",
       "1875-1899    762\n",
       "1900-1924    933\n",
       "1925-1949    883"
      ]
     },
     "execution_count": 202,
     "metadata": {},
     "output_type": "execute_result"
    }
   ],
   "source": [
    "### Regrouper et compter avec un fitre sur le genre masculin\n",
    "gender_m = pd.DataFrame(cdf_p[cdf_p.genCode == 'M'].groupby('periodes', observed=True).size())\n",
    "gender_m.columns = ['gen_m']\n",
    "gender_m.tail()\n"
   ]
  },
  {
   "cell_type": "code",
   "execution_count": 203,
   "id": "17ae3b32-dc7c-4a5c-a2b8-b2f9c9886a5d",
   "metadata": {
    "execution": {
     "iopub.execute_input": "2025-08-24T18:45:53.183449Z",
     "iopub.status.busy": "2025-08-24T18:45:53.182485Z",
     "iopub.status.idle": "2025-08-24T18:45:53.211845Z",
     "shell.execute_reply": "2025-08-24T18:45:53.209812Z",
     "shell.execute_reply.started": "2025-08-24T18:45:53.183368Z"
    }
   },
   "outputs": [
    {
     "data": {
      "text/html": [
       "<div>\n",
       "<style scoped>\n",
       "    .dataframe tbody tr th:only-of-type {\n",
       "        vertical-align: middle;\n",
       "    }\n",
       "\n",
       "    .dataframe tbody tr th {\n",
       "        vertical-align: top;\n",
       "    }\n",
       "\n",
       "    .dataframe thead th {\n",
       "        text-align: right;\n",
       "    }\n",
       "</style>\n",
       "<table border=\"1\" class=\"dataframe\">\n",
       "  <thead>\n",
       "    <tr style=\"text-align: right;\">\n",
       "      <th></th>\n",
       "      <th>gen_f</th>\n",
       "    </tr>\n",
       "    <tr>\n",
       "      <th>periodes</th>\n",
       "      <th></th>\n",
       "    </tr>\n",
       "  </thead>\n",
       "  <tbody>\n",
       "    <tr>\n",
       "      <th>1850-1874</th>\n",
       "      <td>10</td>\n",
       "    </tr>\n",
       "    <tr>\n",
       "      <th>1875-1899</th>\n",
       "      <td>70</td>\n",
       "    </tr>\n",
       "    <tr>\n",
       "      <th>1900-1924</th>\n",
       "      <td>244</td>\n",
       "    </tr>\n",
       "    <tr>\n",
       "      <th>1925-1949</th>\n",
       "      <td>305</td>\n",
       "    </tr>\n",
       "  </tbody>\n",
       "</table>\n",
       "</div>"
      ],
      "text/plain": [
       "           gen_f\n",
       "periodes        \n",
       "1850-1874     10\n",
       "1875-1899     70\n",
       "1900-1924    244\n",
       "1925-1949    305"
      ]
     },
     "execution_count": 203,
     "metadata": {},
     "output_type": "execute_result"
    }
   ],
   "source": [
    "### Regrouper et compter avec un fitre sur le genre féminin\n",
    "gender_f = pd.DataFrame(cdf_p[cdf_p.genCode == 'F'].groupby('periodes', observed=True).size())\n",
    "gender_f.columns = ['gen_f']\n",
    "gender_f.tail()\n"
   ]
  },
  {
   "cell_type": "code",
   "execution_count": 204,
   "id": "fd7cc5e0-471f-469e-ae39-9365de7bfc18",
   "metadata": {
    "execution": {
     "iopub.execute_input": "2025-08-24T18:45:53.766379Z",
     "iopub.status.busy": "2025-08-24T18:45:53.765382Z",
     "iopub.status.idle": "2025-08-24T18:45:53.792324Z",
     "shell.execute_reply": "2025-08-24T18:45:53.790216Z",
     "shell.execute_reply.started": "2025-08-24T18:45:53.766245Z"
    }
   },
   "outputs": [
    {
     "data": {
      "text/html": [
       "<div>\n",
       "<style scoped>\n",
       "    .dataframe tbody tr th:only-of-type {\n",
       "        vertical-align: middle;\n",
       "    }\n",
       "\n",
       "    .dataframe tbody tr th {\n",
       "        vertical-align: top;\n",
       "    }\n",
       "\n",
       "    .dataframe thead th {\n",
       "        text-align: right;\n",
       "    }\n",
       "</style>\n",
       "<table border=\"1\" class=\"dataframe\">\n",
       "  <thead>\n",
       "    <tr style=\"text-align: right;\">\n",
       "      <th></th>\n",
       "      <th>gen_m</th>\n",
       "      <th>gen_f</th>\n",
       "    </tr>\n",
       "    <tr>\n",
       "      <th>periodes</th>\n",
       "      <th></th>\n",
       "      <th></th>\n",
       "    </tr>\n",
       "  </thead>\n",
       "  <tbody>\n",
       "    <tr>\n",
       "      <th>1850-1874</th>\n",
       "      <td>606</td>\n",
       "      <td>10</td>\n",
       "    </tr>\n",
       "    <tr>\n",
       "      <th>1875-1899</th>\n",
       "      <td>762</td>\n",
       "      <td>70</td>\n",
       "    </tr>\n",
       "    <tr>\n",
       "      <th>1900-1924</th>\n",
       "      <td>933</td>\n",
       "      <td>244</td>\n",
       "    </tr>\n",
       "    <tr>\n",
       "      <th>1925-1949</th>\n",
       "      <td>883</td>\n",
       "      <td>305</td>\n",
       "    </tr>\n",
       "  </tbody>\n",
       "</table>\n",
       "</div>"
      ],
      "text/plain": [
       "           gen_m  gen_f\n",
       "periodes               \n",
       "1850-1874    606     10\n",
       "1875-1899    762     70\n",
       "1900-1924    933    244\n",
       "1925-1949    883    305"
      ]
     },
     "execution_count": 204,
     "metadata": {},
     "output_type": "execute_result"
    }
   ],
   "source": [
    "### Fusionner les deux tableaux en utilisant l'index comme clé de jointure\n",
    "merged = pd.merge(gender_m, gender_f, left_index=True, right_index=True)\n",
    "merged.tail()"
   ]
  },
  {
   "cell_type": "code",
   "execution_count": 205,
   "id": "60190e17-c1df-4a22-9ec9-be6b77108c46",
   "metadata": {
    "execution": {
     "iopub.execute_input": "2025-08-24T18:45:54.159428Z",
     "iopub.status.busy": "2025-08-24T18:45:54.158515Z",
     "iopub.status.idle": "2025-08-24T18:45:54.183032Z",
     "shell.execute_reply": "2025-08-24T18:45:54.180955Z",
     "shell.execute_reply.started": "2025-08-24T18:45:54.159316Z"
    }
   },
   "outputs": [
    {
     "data": {
      "text/html": [
       "<div>\n",
       "<style scoped>\n",
       "    .dataframe tbody tr th:only-of-type {\n",
       "        vertical-align: middle;\n",
       "    }\n",
       "\n",
       "    .dataframe tbody tr th {\n",
       "        vertical-align: top;\n",
       "    }\n",
       "\n",
       "    .dataframe thead th {\n",
       "        text-align: right;\n",
       "    }\n",
       "</style>\n",
       "<table border=\"1\" class=\"dataframe\">\n",
       "  <thead>\n",
       "    <tr style=\"text-align: right;\">\n",
       "      <th></th>\n",
       "      <th>gen_m</th>\n",
       "      <th>gen_f</th>\n",
       "    </tr>\n",
       "    <tr>\n",
       "      <th>periodes</th>\n",
       "      <th></th>\n",
       "      <th></th>\n",
       "    </tr>\n",
       "  </thead>\n",
       "  <tbody>\n",
       "    <tr>\n",
       "      <th>1850-1874</th>\n",
       "      <td>606</td>\n",
       "      <td>10</td>\n",
       "    </tr>\n",
       "    <tr>\n",
       "      <th>1875-1899</th>\n",
       "      <td>762</td>\n",
       "      <td>70</td>\n",
       "    </tr>\n",
       "    <tr>\n",
       "      <th>1900-1924</th>\n",
       "      <td>933</td>\n",
       "      <td>244</td>\n",
       "    </tr>\n",
       "    <tr>\n",
       "      <th>1925-1949</th>\n",
       "      <td>883</td>\n",
       "      <td>305</td>\n",
       "    </tr>\n",
       "  </tbody>\n",
       "</table>\n",
       "</div>"
      ],
      "text/plain": [
       "           gen_m  gen_f\n",
       "periodes               \n",
       "1850-1874    606     10\n",
       "1875-1899    762     70\n",
       "1900-1924    933    244\n",
       "1925-1949    883    305"
      ]
     },
     "execution_count": 205,
     "metadata": {},
     "output_type": "execute_result"
    }
   ],
   "source": [
    "### Transformer l'index de séquence à chaîne de caractères\n",
    "# ce qui est indispensable pour l'affichage dans un graphique\n",
    "merged.index = merged.index.map(str)\n",
    "merged.tail()"
   ]
  },
  {
   "cell_type": "code",
   "execution_count": 206,
   "id": "d188f96f-feca-464b-b338-f87e3c9cb23b",
   "metadata": {
    "execution": {
     "iopub.execute_input": "2025-08-24T18:45:54.315076Z",
     "iopub.status.busy": "2025-08-24T18:45:54.314214Z",
     "iopub.status.idle": "2025-08-24T18:45:54.608941Z",
     "shell.execute_reply": "2025-08-24T18:45:54.607384Z",
     "shell.execute_reply.started": "2025-08-24T18:45:54.315004Z"
    }
   },
   "outputs": [
    {
     "data": {
      "image/png": "[encoded data removed]",
      "text/plain": [
       "<Figure size 2000x600 with 1 Axes>"
      ]
     },
     "metadata": {},
     "output_type": "display_data"
    }
   ],
   "source": [
    "### Documentation\n",
    "# https://pandas.pydata.org/pandas-docs/stable/reference/api/pandas.DataFrame.plot.bar.html\n",
    "ax = merged.plot.bar(stacked=True, rot=70, fontsize=9, figsize=(20,6), color=['LightSteelBlue', 'LightCoral'])\n",
    "plt.show()"
   ]
  },
  {
   "cell_type": "markdown",
   "id": "ba5a7825-df2b-4e94-9f90-2ffb03267ee3",
   "metadata": {},
   "source": [
    "### Codage par période de dix ans\n",
    "\n",
    "Comme on voit bien dans le graphique précédent qu'il y a deux périodes avec des effectifs radicalements différents, \n",
    "on restraint la période analysée à l'époque contemporaine et on affine avec un découpage par périodes de dix ans "
   ]
  },
  {
   "cell_type": "code",
   "execution_count": 207,
   "id": "999af2f6-438d-4dbb-91b5-ad4ee449c067",
   "metadata": {
    "execution": {
     "iopub.execute_input": "2025-08-24T18:45:54.871486Z",
     "iopub.status.busy": "2025-08-24T18:45:54.869965Z",
     "iopub.status.idle": "2025-08-24T18:45:54.885171Z",
     "shell.execute_reply": "2025-08-24T18:45:54.882392Z",
     "shell.execute_reply.started": "2025-08-24T18:45:54.871293Z"
    },
    "tags": []
   },
   "outputs": [
    {
     "name": "stdout",
     "output_type": "stream",
     "text": [
      "[1851, 1861, 1871, 1881, 1891] [1911, 1921, 1931, 1941, 1951]\n"
     ]
    }
   ],
   "source": [
    "l_10 = list(range(1851, 1960, 10))\n",
    "print(l_10[:5],l_10[-5:])"
   ]
  },
  {
   "cell_type": "code",
   "execution_count": 208,
   "id": "59fbb2a2-39c4-404b-b1c0-10be66742fae",
   "metadata": {
    "execution": {
     "iopub.execute_input": "2025-08-24T18:45:55.267863Z",
     "iopub.status.busy": "2025-08-24T18:45:55.266993Z",
     "iopub.status.idle": "2025-08-24T18:45:55.302519Z",
     "shell.execute_reply": "2025-08-24T18:45:55.300788Z",
     "shell.execute_reply.started": "2025-08-24T18:45:55.267790Z"
    }
   },
   "outputs": [
    {
     "data": {
      "text/html": [
       "<div>\n",
       "<style scoped>\n",
       "    .dataframe tbody tr th:only-of-type {\n",
       "        vertical-align: middle;\n",
       "    }\n",
       "\n",
       "    .dataframe tbody tr th {\n",
       "        vertical-align: top;\n",
       "    }\n",
       "\n",
       "    .dataframe thead th {\n",
       "        text-align: right;\n",
       "    }\n",
       "</style>\n",
       "<table border=\"1\" class=\"dataframe\">\n",
       "  <thead>\n",
       "    <tr style=\"text-align: right;\">\n",
       "      <th></th>\n",
       "      <th>personUri</th>\n",
       "      <th>personLabel</th>\n",
       "      <th>birthYear</th>\n",
       "      <th>genderUri</th>\n",
       "      <th>genCode</th>\n",
       "      <th>periodes</th>\n",
       "      <th>per_10</th>\n",
       "    </tr>\n",
       "  </thead>\n",
       "  <tbody>\n",
       "    <tr>\n",
       "      <th>1</th>\n",
       "      <td>http://www.wikidata.org/entity/Q20164843</td>\n",
       "      <td>Günter Buchstab</td>\n",
       "      <td>1944</td>\n",
       "      <td>http://www.wikidata.org/entity/Q6581097</td>\n",
       "      <td>M</td>\n",
       "      <td>1925-1949</td>\n",
       "      <td>1941-1950</td>\n",
       "    </tr>\n",
       "    <tr>\n",
       "      <th>2</th>\n",
       "      <td>http://www.wikidata.org/entity/Q2637717</td>\n",
       "      <td>Albert Bruckner</td>\n",
       "      <td>1904</td>\n",
       "      <td>http://www.wikidata.org/entity/Q6581097</td>\n",
       "      <td>M</td>\n",
       "      <td>1900-1924</td>\n",
       "      <td>1901-1910</td>\n",
       "    </tr>\n",
       "    <tr>\n",
       "      <th>3</th>\n",
       "      <td>http://www.wikidata.org/entity/Q5783602</td>\n",
       "      <td>Conrado Morterero Simón</td>\n",
       "      <td>1915</td>\n",
       "      <td>http://www.wikidata.org/entity/Q6581097</td>\n",
       "      <td>M</td>\n",
       "      <td>1900-1924</td>\n",
       "      <td>1911-1920</td>\n",
       "    </tr>\n",
       "  </tbody>\n",
       "</table>\n",
       "</div>"
      ],
      "text/plain": [
       "                                  personUri              personLabel  \\\n",
       "1  http://www.wikidata.org/entity/Q20164843          Günter Buchstab   \n",
       "2   http://www.wikidata.org/entity/Q2637717          Albert Bruckner   \n",
       "3   http://www.wikidata.org/entity/Q5783602  Conrado Morterero Simón   \n",
       "\n",
       "   birthYear                                genderUri genCode   periodes  \\\n",
       "1       1944  http://www.wikidata.org/entity/Q6581097       M  1925-1949   \n",
       "2       1904  http://www.wikidata.org/entity/Q6581097       M  1900-1924   \n",
       "3       1915  http://www.wikidata.org/entity/Q6581097       M  1900-1924   \n",
       "\n",
       "      per_10  \n",
       "1  1941-1950  \n",
       "2  1901-1910  \n",
       "3  1911-1920  "
      ]
     },
     "execution_count": 208,
     "metadata": {},
     "output_type": "execute_result"
    }
   ],
   "source": [
    "### Découpage par décennies\n",
    "## fonction pd.cut : https://pandas.pydata.org/pandas-docs/stable/reference/api/pandas.cut.html\n",
    "\n",
    "cdf_p['per_10'] = pd.cut(cdf_p['birthYear'], l_10, right=False)\n",
    "\n",
    "### Transformer le code ajouté pour qu'il soit plus lisible\n",
    "# noter qu'on a arrondi les valeurs\n",
    "cdf_p['per_10'] = cdf_p['per_10'].apply(lambda x : str(int(x.left))+'-'+ str(int(x.right)-1))\n",
    "\n",
    "# Inspection\n",
    "cdf_p.head(3)"
   ]
  },
  {
   "cell_type": "code",
   "execution_count": 209,
   "id": "1c28f1d0-f1e2-4dfc-9892-2b3204544f45",
   "metadata": {
    "execution": {
     "iopub.execute_input": "2025-08-24T18:45:55.493429Z",
     "iopub.status.busy": "2025-08-24T18:45:55.492543Z",
     "iopub.status.idle": "2025-08-24T18:45:55.525669Z",
     "shell.execute_reply": "2025-08-24T18:45:55.523300Z",
     "shell.execute_reply.started": "2025-08-24T18:45:55.493311Z"
    }
   },
   "outputs": [
    {
     "data": {
      "text/html": [
       "<div>\n",
       "<style scoped>\n",
       "    .dataframe tbody tr th:only-of-type {\n",
       "        vertical-align: middle;\n",
       "    }\n",
       "\n",
       "    .dataframe tbody tr th {\n",
       "        vertical-align: top;\n",
       "    }\n",
       "\n",
       "    .dataframe thead th {\n",
       "        text-align: right;\n",
       "    }\n",
       "</style>\n",
       "<table border=\"1\" class=\"dataframe\">\n",
       "  <thead>\n",
       "    <tr style=\"text-align: right;\">\n",
       "      <th></th>\n",
       "      <th>gen_m</th>\n",
       "    </tr>\n",
       "    <tr>\n",
       "      <th>per_10</th>\n",
       "      <th></th>\n",
       "    </tr>\n",
       "  </thead>\n",
       "  <tbody>\n",
       "    <tr>\n",
       "      <th>1901-1910</th>\n",
       "      <td>420</td>\n",
       "    </tr>\n",
       "    <tr>\n",
       "      <th>1911-1920</th>\n",
       "      <td>308</td>\n",
       "    </tr>\n",
       "    <tr>\n",
       "      <th>1921-1930</th>\n",
       "      <td>387</td>\n",
       "    </tr>\n",
       "    <tr>\n",
       "      <th>1931-1940</th>\n",
       "      <td>328</td>\n",
       "    </tr>\n",
       "    <tr>\n",
       "      <th>1941-1950</th>\n",
       "      <td>369</td>\n",
       "    </tr>\n",
       "  </tbody>\n",
       "</table>\n",
       "</div>"
      ],
      "text/plain": [
       "           gen_m\n",
       "per_10          \n",
       "1901-1910    420\n",
       "1911-1920    308\n",
       "1921-1930    387\n",
       "1931-1940    328\n",
       "1941-1950    369"
      ]
     },
     "execution_count": 209,
     "metadata": {},
     "output_type": "execute_result"
    }
   ],
   "source": [
    "### On regroupe par genre comme ci-dessus\n",
    "gender_m_10 = pd.DataFrame(cdf_p[(cdf_p.genCode == 'M') & (cdf_p.birthYear > 1850)].groupby('per_10', observed=True).size())\n",
    "gender_m_10.columns = ['gen_m']\n",
    "gender_m_10.tail()\n"
   ]
  },
  {
   "cell_type": "code",
   "execution_count": 210,
   "id": "0e28a9c3-ab14-40db-bf3a-469dbcb93500",
   "metadata": {
    "execution": {
     "iopub.execute_input": "2025-08-24T18:45:55.876257Z",
     "iopub.status.busy": "2025-08-24T18:45:55.875274Z",
     "iopub.status.idle": "2025-08-24T18:45:55.907435Z",
     "shell.execute_reply": "2025-08-24T18:45:55.905153Z",
     "shell.execute_reply.started": "2025-08-24T18:45:55.876177Z"
    }
   },
   "outputs": [
    {
     "data": {
      "text/html": [
       "<div>\n",
       "<style scoped>\n",
       "    .dataframe tbody tr th:only-of-type {\n",
       "        vertical-align: middle;\n",
       "    }\n",
       "\n",
       "    .dataframe tbody tr th {\n",
       "        vertical-align: top;\n",
       "    }\n",
       "\n",
       "    .dataframe thead th {\n",
       "        text-align: right;\n",
       "    }\n",
       "</style>\n",
       "<table border=\"1\" class=\"dataframe\">\n",
       "  <thead>\n",
       "    <tr style=\"text-align: right;\">\n",
       "      <th></th>\n",
       "      <th>gen_f</th>\n",
       "    </tr>\n",
       "    <tr>\n",
       "      <th>per_10</th>\n",
       "      <th></th>\n",
       "    </tr>\n",
       "  </thead>\n",
       "  <tbody>\n",
       "    <tr>\n",
       "      <th>1901-1910</th>\n",
       "      <td>90</td>\n",
       "    </tr>\n",
       "    <tr>\n",
       "      <th>1911-1920</th>\n",
       "      <td>95</td>\n",
       "    </tr>\n",
       "    <tr>\n",
       "      <th>1921-1930</th>\n",
       "      <td>124</td>\n",
       "    </tr>\n",
       "    <tr>\n",
       "      <th>1931-1940</th>\n",
       "      <td>104</td>\n",
       "    </tr>\n",
       "    <tr>\n",
       "      <th>1941-1950</th>\n",
       "      <td>160</td>\n",
       "    </tr>\n",
       "  </tbody>\n",
       "</table>\n",
       "</div>"
      ],
      "text/plain": [
       "           gen_f\n",
       "per_10          \n",
       "1901-1910     90\n",
       "1911-1920     95\n",
       "1921-1930    124\n",
       "1931-1940    104\n",
       "1941-1950    160"
      ]
     },
     "execution_count": 210,
     "metadata": {},
     "output_type": "execute_result"
    }
   ],
   "source": [
    "### Idem\n",
    "gender_f_10 = pd.DataFrame(cdf_p[(cdf_p.genCode == 'F')& (cdf_p.birthYear > 1850)].groupby('per_10', observed=True).size())\n",
    "gender_f_10.columns = ['gen_f']\n",
    "gender_f_10.tail()\n"
   ]
  },
  {
   "cell_type": "code",
   "execution_count": 211,
   "id": "ebcbeed3-851b-416e-9f30-d1251ac5e579",
   "metadata": {
    "execution": {
     "iopub.execute_input": "2025-08-24T18:45:56.180212Z",
     "iopub.status.busy": "2025-08-24T18:45:56.179212Z",
     "iopub.status.idle": "2025-08-24T18:45:56.209415Z",
     "shell.execute_reply": "2025-08-24T18:45:56.206929Z",
     "shell.execute_reply.started": "2025-08-24T18:45:56.180132Z"
    }
   },
   "outputs": [
    {
     "data": {
      "text/html": [
       "<div>\n",
       "<style scoped>\n",
       "    .dataframe tbody tr th:only-of-type {\n",
       "        vertical-align: middle;\n",
       "    }\n",
       "\n",
       "    .dataframe tbody tr th {\n",
       "        vertical-align: top;\n",
       "    }\n",
       "\n",
       "    .dataframe thead th {\n",
       "        text-align: right;\n",
       "    }\n",
       "</style>\n",
       "<table border=\"1\" class=\"dataframe\">\n",
       "  <thead>\n",
       "    <tr style=\"text-align: right;\">\n",
       "      <th></th>\n",
       "      <th>gen_m</th>\n",
       "      <th>gen_f</th>\n",
       "    </tr>\n",
       "    <tr>\n",
       "      <th>per_10</th>\n",
       "      <th></th>\n",
       "      <th></th>\n",
       "    </tr>\n",
       "  </thead>\n",
       "  <tbody>\n",
       "    <tr>\n",
       "      <th>1901-1910</th>\n",
       "      <td>420</td>\n",
       "      <td>90</td>\n",
       "    </tr>\n",
       "    <tr>\n",
       "      <th>1911-1920</th>\n",
       "      <td>308</td>\n",
       "      <td>95</td>\n",
       "    </tr>\n",
       "    <tr>\n",
       "      <th>1921-1930</th>\n",
       "      <td>387</td>\n",
       "      <td>124</td>\n",
       "    </tr>\n",
       "    <tr>\n",
       "      <th>1931-1940</th>\n",
       "      <td>328</td>\n",
       "      <td>104</td>\n",
       "    </tr>\n",
       "    <tr>\n",
       "      <th>1941-1950</th>\n",
       "      <td>369</td>\n",
       "      <td>160</td>\n",
       "    </tr>\n",
       "  </tbody>\n",
       "</table>\n",
       "</div>"
      ],
      "text/plain": [
       "           gen_m  gen_f\n",
       "per_10                 \n",
       "1901-1910    420     90\n",
       "1911-1920    308     95\n",
       "1921-1930    387    124\n",
       "1931-1940    328    104\n",
       "1941-1950    369    160"
      ]
     },
     "execution_count": 211,
     "metadata": {},
     "output_type": "execute_result"
    }
   ],
   "source": [
    "merged_10 = pd.merge(gender_m_10, gender_f_10, left_index=True, right_index=True)\n",
    "merged_10.tail()"
   ]
  },
  {
   "cell_type": "code",
   "execution_count": 212,
   "id": "ae8f6224-9c2b-47ce-ace0-c1d4a05c4869",
   "metadata": {
    "execution": {
     "iopub.execute_input": "2025-08-24T18:45:56.485237Z",
     "iopub.status.busy": "2025-08-24T18:45:56.484398Z",
     "iopub.status.idle": "2025-08-24T18:45:56.511987Z",
     "shell.execute_reply": "2025-08-24T18:45:56.510083Z",
     "shell.execute_reply.started": "2025-08-24T18:45:56.485164Z"
    }
   },
   "outputs": [
    {
     "data": {
      "text/html": [
       "<div>\n",
       "<style scoped>\n",
       "    .dataframe tbody tr th:only-of-type {\n",
       "        vertical-align: middle;\n",
       "    }\n",
       "\n",
       "    .dataframe tbody tr th {\n",
       "        vertical-align: top;\n",
       "    }\n",
       "\n",
       "    .dataframe thead th {\n",
       "        text-align: right;\n",
       "    }\n",
       "</style>\n",
       "<table border=\"1\" class=\"dataframe\">\n",
       "  <thead>\n",
       "    <tr style=\"text-align: right;\">\n",
       "      <th></th>\n",
       "      <th>gen_m</th>\n",
       "      <th>gen_f</th>\n",
       "      <th>tot</th>\n",
       "    </tr>\n",
       "    <tr>\n",
       "      <th>per_10</th>\n",
       "      <th></th>\n",
       "      <th></th>\n",
       "      <th></th>\n",
       "    </tr>\n",
       "  </thead>\n",
       "  <tbody>\n",
       "    <tr>\n",
       "      <th>1901-1910</th>\n",
       "      <td>420</td>\n",
       "      <td>90</td>\n",
       "      <td>510</td>\n",
       "    </tr>\n",
       "    <tr>\n",
       "      <th>1911-1920</th>\n",
       "      <td>308</td>\n",
       "      <td>95</td>\n",
       "      <td>403</td>\n",
       "    </tr>\n",
       "    <tr>\n",
       "      <th>1921-1930</th>\n",
       "      <td>387</td>\n",
       "      <td>124</td>\n",
       "      <td>511</td>\n",
       "    </tr>\n",
       "    <tr>\n",
       "      <th>1931-1940</th>\n",
       "      <td>328</td>\n",
       "      <td>104</td>\n",
       "      <td>432</td>\n",
       "    </tr>\n",
       "    <tr>\n",
       "      <th>1941-1950</th>\n",
       "      <td>369</td>\n",
       "      <td>160</td>\n",
       "      <td>529</td>\n",
       "    </tr>\n",
       "  </tbody>\n",
       "</table>\n",
       "</div>"
      ],
      "text/plain": [
       "           gen_m  gen_f  tot\n",
       "per_10                      \n",
       "1901-1910    420     90  510\n",
       "1911-1920    308     95  403\n",
       "1921-1930    387    124  511\n",
       "1931-1940    328    104  432\n",
       "1941-1950    369    160  529"
      ]
     },
     "execution_count": 212,
     "metadata": {},
     "output_type": "execute_result"
    }
   ],
   "source": [
    "### On transforme le type de valeur de l'index\n",
    "# et on ajoute une colonne avec le total\n",
    "merged_10.index = merged_10.index.map(str)\n",
    "merged_10['tot']=merged_10['gen_m']+merged_10['gen_f']\n",
    "merged_10.tail()"
   ]
  },
  {
   "cell_type": "code",
   "execution_count": 213,
   "id": "5569f274-e09d-4be4-a3bc-352f99d58997",
   "metadata": {
    "execution": {
     "iopub.execute_input": "2025-08-24T18:45:56.807724Z",
     "iopub.status.busy": "2025-08-24T18:45:56.806849Z",
     "iopub.status.idle": "2025-08-24T18:45:56.829113Z",
     "shell.execute_reply": "2025-08-24T18:45:56.826518Z",
     "shell.execute_reply.started": "2025-08-24T18:45:56.807652Z"
    }
   },
   "outputs": [
    {
     "data": {
      "text/plain": [
       "[1.0, 0.97, 0.98]"
      ]
     },
     "execution_count": 213,
     "metadata": {},
     "output_type": "execute_result"
    }
   ],
   "source": [
    "### On prépare les valeurs pour l'affichage des fréquences (proportion par rapport au total)\n",
    "\n",
    "# liste qui contient toutes les valeurs à la suite\n",
    "m_f = merged_10.gen_m.to_list()+merged_10.gen_f.to_list()\n",
    "\n",
    "# liste d'égale longueur que la précédente qui contient \n",
    "# les valeurs de l'index, i.e. les périodes\n",
    "tot = merged_10.tot.to_list()*2\n",
    "\n",
    "# liste qui contient les valeurs des fréquences\n",
    "lp = [round(v/t, 2) for v,t in zip(m_f, tot)]\n",
    "lp[:3]"
   ]
  },
  {
   "cell_type": "code",
   "execution_count": 214,
   "id": "b4115b87-9113-4f52-ab7e-a542faea1555",
   "metadata": {
    "execution": {
     "iopub.execute_input": "2025-08-24T18:45:57.189025Z",
     "iopub.status.busy": "2025-08-24T18:45:57.188132Z",
     "iopub.status.idle": "2025-08-24T18:45:57.246060Z",
     "shell.execute_reply": "2025-08-24T18:45:57.243194Z",
     "shell.execute_reply.started": "2025-08-24T18:45:57.188952Z"
    }
   },
   "outputs": [
    {
     "data": {
      "text/plain": [
       "<Figure size 640x480 with 0 Axes>"
      ]
     },
     "metadata": {},
     "output_type": "display_data"
    }
   ],
   "source": [
    "import os\n",
    "\n",
    "# Vérifier si le dossier 'images' existe, sinon le créer\n",
    "if not os.path.exists('images'):\n",
    "    os.makedirs('images')\n",
    "\n",
    "# Sauvegarde de l'image\n",
    "plt.savefig('images/naissances_distribution_10ans_genre.jpg', bbox_inches='tight', pad_inches=0.2)\n",
    "plt.show()\n"
   ]
  },
  {
   "cell_type": "code",
   "execution_count": 215,
   "id": "928a67b9-19f2-44e7-b4eb-7b20b534f73c",
   "metadata": {
    "editable": true,
    "execution": {
     "iopub.execute_input": "2025-08-24T18:45:57.594826Z",
     "iopub.status.busy": "2025-08-24T18:45:57.592537Z",
     "iopub.status.idle": "2025-08-24T18:45:58.383865Z",
     "shell.execute_reply": "2025-08-24T18:45:58.382099Z",
     "shell.execute_reply.started": "2025-08-24T18:45:57.594746Z"
    },
    "slideshow": {
     "slide_type": ""
    },
    "tags": []
   },
   "outputs": [
    {
     "data": {
      "image/png": "[encoded data removed]",
      "text/plain": [
       "<Figure size 2000x800 with 1 Axes>"
      ]
     },
     "metadata": {},
     "output_type": "display_data"
    }
   ],
   "source": [
    "### Graphique avec la distribution par période et genre (M,F)\n",
    "# Noter que les effectifs du genre 'Autres' étant très faibles,\n",
    "# on ne les analyse pas de manière sérielle mais on peut les analyser qualitatiement\n",
    "\n",
    "ax = merged_10.plot.bar(stacked=True, y=['gen_m', 'gen_f'], \\\n",
    "                        rot=70, fontsize=9, figsize=(20,8), color=['LightSteelBlue', 'LightCoral'])\n",
    "\n",
    "\n",
    "### https://www.pythoncharts.com/matplotlib/stacked-bar-charts-labels/\n",
    "\n",
    "\n",
    "## On ajoute une étiquette concernant la valeur de fréquence\n",
    "# à chaque rectangle dans le graphe, en utilisant la list 'lp' préparée précédemment\n",
    "# Il y a autant de triangles que les valeurs d'index x le nombre de variables\n",
    "\n",
    "for bar,v in zip(ax.patches,lp): \n",
    "\n",
    "    ax.text(\n",
    "      # Met les étiquette aux centre des rectangles\n",
    "      bar.get_x() + bar.get_width() / 2,\n",
    "        \n",
    "      # Ajoute les coordonnées verticales\n",
    "      bar.get_height()/2 + bar.get_y(), \n",
    "      \n",
    "      # Ajoute les valeurs\n",
    "      v,\n",
    "\n",
    "      # centre et met du style aux étiquettes\n",
    "      ha='center',\n",
    "      color='black',\n",
    "      weight='bold',\n",
    "      size=10\n",
    "  )\n",
    "\n",
    "plt.ylabel('Effectifs par période avec proportion des genres')\n",
    "plt.xlabel('Périodes')\n",
    "plt.title('Distribution des naissances par périodes de dix ans, proportion des genres par période')\n",
    "\n",
    "## On peut enregistrer l'image dans un fichier (noter le dossier créé préalablement)\n",
    "# qu'on pourra ensuite introduire dans un travail et commenter\n",
    "\n",
    "# Doc.: https://matplotlib.org/stable/api/_as_gen/matplotlib.pyplot.savefig.html\n",
    "plt.savefig('images/naissances_distribution_10ans_genre.jpg', bbox_inches='tight',\n",
    "                       pad_inches=0.2)\n",
    "plt.show()"
   ]
  },
  {
   "cell_type": "code",
   "execution_count": null,
   "id": "3ecca5ba-c481-4224-a739-3f430da8448b",
   "metadata": {},
   "outputs": [],
   "source": []
  },
  {
   "cell_type": "code",
   "execution_count": null,
   "id": "053dc8fe-21ac-406b-890d-4c2dec43b47d",
   "metadata": {},
   "outputs": [],
   "source": []
  }
 ],
 "metadata": {
  "kernelspec": {
   "display_name": "sparql",
   "language": "python",
   "name": "sparql"
  },
  "language_info": {
   "codemirror_mode": {
    "name": "ipython",
    "version": 3
   },
   "file_extension": ".py",
   "mimetype": "text/x-python",
   "name": "python",
   "nbconvert_exporter": "python",
   "pygments_lexer": "ipython3",
   "version": "3.12.5"
  }
 },
 "nbformat": 4,
 "nbformat_minor": 5
}
