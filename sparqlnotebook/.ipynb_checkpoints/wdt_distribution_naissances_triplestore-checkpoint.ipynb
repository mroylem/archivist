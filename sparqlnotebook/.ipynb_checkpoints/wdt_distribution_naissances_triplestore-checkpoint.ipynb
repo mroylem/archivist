{
 "cells": [
  {
   "cell_type": "markdown",
   "id": "9150426b-5190-4539-8204-61253a0f1bd4",
   "metadata": {},
   "source": [
    "# Distribution des naissances dans le temps \n",
    "\n",
    "Dans ce carnet est proposée une analyse de la distribution dans le temps des années de naissance de la population retenue, et la mise en évidence de générations.\n",
    "\n",
    "On met aussi en évidence l'évolution dans le temps des genres"
   ]
  },
  {
   "cell_type": "code",
   "execution_count": 77,
   "id": "231af92f-a7b1-479a-a734-0b8a9c0722e8",
   "metadata": {
    "editable": true,
    "execution": {
     "iopub.execute_input": "2025-08-19T19:54:32.278318Z",
     "iopub.status.busy": "2025-08-19T19:54:32.277030Z",
     "iopub.status.idle": "2025-08-19T19:54:32.294134Z",
     "shell.execute_reply": "2025-08-19T19:54:32.291427Z",
     "shell.execute_reply.started": "2025-08-19T19:54:32.278151Z"
    },
    "slideshow": {
     "slide_type": ""
    },
    "tags": []
   },
   "outputs": [],
   "source": [
    "### Librairie à installer dans l'environnement conda (si on exécute en local)\n",
    "# qui sera choisi pour exécuter le carnet\n",
    "from SPARQLWrapper import SPARQLWrapper, JSON, TURTLE, XML, RDFXML\n",
    "import pandas as pd\n",
    "\n",
    "import matplotlib.pyplot as plt\n",
    "import numpy as np"
   ]
  },
  {
   "cell_type": "code",
   "execution_count": 78,
   "id": "e6ce0f0e-db36-47cd-8015-a5bf33f0f7fa",
   "metadata": {
    "editable": true,
    "execution": {
     "iopub.execute_input": "2025-08-19T19:54:32.577990Z",
     "iopub.status.busy": "2025-08-19T19:54:32.576884Z",
     "iopub.status.idle": "2025-08-19T19:54:32.591869Z",
     "shell.execute_reply": "2025-08-19T19:54:32.589182Z",
     "shell.execute_reply.started": "2025-08-19T19:54:32.577885Z"
    },
    "slideshow": {
     "slide_type": ""
    },
    "tags": []
   },
   "outputs": [],
   "source": [
    "### Librairies déjà installées avec Python\n",
    "import pprint\n",
    "import csv\n",
    "import sys\n",
    "\n",
    "import sqlite3 as sql\n",
    "\n",
    "import time\n",
    "import datetime\n",
    "from dateutil import parser\n",
    "\n",
    "from importlib import reload\n",
    "from shutil import copyfile\n"
   ]
  },
  {
   "cell_type": "code",
   "execution_count": 79,
   "id": "9b90838d-2160-49e3-8adb-a67ff2cd112e",
   "metadata": {
    "editable": true,
    "execution": {
     "iopub.execute_input": "2025-08-19T19:54:32.920745Z",
     "iopub.status.busy": "2025-08-19T19:54:32.919824Z",
     "iopub.status.idle": "2025-08-19T19:54:32.934025Z",
     "shell.execute_reply": "2025-08-19T19:54:32.931278Z",
     "shell.execute_reply.started": "2025-08-19T19:54:32.920666Z"
    },
    "slideshow": {
     "slide_type": ""
    },
    "tags": []
   },
   "outputs": [],
   "source": [
    "### Importer un module de fonctions crées ad hoc\n",
    "##  ATTENTION : le fichier 'sparql_functions.py' doit se trouver \n",
    "#   dans un dossier qui se situe dans le chemin ('path') de recherche\n",
    "#   vu par le présent carnet Jupyter afin que\n",
    "#   l'importation fonctionne correctement\n",
    "\n",
    "# Add parent directory to the path\n",
    "sys.path.insert(0, '..')\n",
    "\n",
    "### If you want to add the parent-parent directory,\n",
    "sys.path.insert(0, '../..')\n",
    "\n",
    "\n",
    "import sparql_functions as spqf"
   ]
  },
  {
   "cell_type": "markdown",
   "id": "3fe8665b-f64c-42bb-8786-4aee3673867c",
   "metadata": {},
   "source": [
    "## SPARQL Query qui récupère les données\n",
    "\n",
    "On exécute la requête grâce à une fonction de la librairie locale qui réalise la mise en forme"
   ]
  },
  {
   "cell_type": "code",
   "execution_count": 80,
   "id": "cf08874b-9ba0-4f5c-8eee-aebd9f0d0d26",
   "metadata": {
    "execution": {
     "iopub.execute_input": "2025-08-19T19:54:33.550436Z",
     "iopub.status.busy": "2025-08-19T19:54:33.547086Z",
     "iopub.status.idle": "2025-08-19T19:54:33.560464Z",
     "shell.execute_reply": "2025-08-19T19:54:33.557454Z",
     "shell.execute_reply.started": "2025-08-19T19:54:33.550290Z"
    }
   },
   "outputs": [],
   "source": [
    "## define SPARQL enpoint\n",
    "endpoint = \"https://ag1mdzaeq7qnj00h.allegrograph.cloud/repositories/archivist\""
   ]
  },
  {
   "cell_type": "code",
   "execution_count": 81,
   "id": "164e80e8-1834-473a-a605-a3c1a660eff3",
   "metadata": {
    "execution": {
     "iopub.execute_input": "2025-08-19T19:54:33.889862Z",
     "iopub.status.busy": "2025-08-19T19:54:33.888957Z",
     "iopub.status.idle": "2025-08-19T19:54:33.901447Z",
     "shell.execute_reply": "2025-08-19T19:54:33.898730Z",
     "shell.execute_reply.started": "2025-08-19T19:54:33.889787Z"
    }
   },
   "outputs": [],
   "source": [
    "query = \"\"\"\n",
    "PREFIX wd: <http://www.wikidata.org/entity/>\n",
    "PREFIX wdt: <http://www.wikidata.org/prop/direct/>\n",
    "PREFIX rdfs: <http://www.w3.org/2000/01/rdf-schema#>\n",
    "\n",
    "\n",
    "SELECT  ?s (MAX(?label) as ?label) (xsd:integer(MAX(?birthDate)) as ?birthDate) (MAX(?gen) as ?gen)\n",
    "WHERE {\n",
    "    GRAPH <https://github.com/mroylem/archivist/blob/main/Wikidata/graph/imported-data.md>\n",
    "        {?s wdt:P21 ?gen;\n",
    "            rdfs:label ?label;\n",
    "            wdt:P569 ?birthDate.\n",
    "          }\n",
    "}\n",
    "GROUP BY ?s\n",
    "\"\"\""
   ]
  },
  {
   "cell_type": "code",
   "execution_count": 82,
   "id": "70f2370f-e287-404f-ba7b-aaf79021047e",
   "metadata": {
    "editable": true,
    "execution": {
     "iopub.execute_input": "2025-08-19T19:54:34.197647Z",
     "iopub.status.busy": "2025-08-19T19:54:34.196735Z",
     "iopub.status.idle": "2025-08-19T19:54:34.692632Z",
     "shell.execute_reply": "2025-08-19T19:54:34.690247Z",
     "shell.execute_reply.started": "2025-08-19T19:54:34.197572Z"
    },
    "slideshow": {
     "slide_type": ""
    },
    "tags": []
   },
   "outputs": [],
   "source": [
    "### Executer la requête avec les fonctions de la librairie locale\n",
    "qr = spqf.get_json_sparql_result(endpoint,query)"
   ]
  },
  {
   "cell_type": "code",
   "execution_count": 83,
   "id": "21bfd9f5-4c63-4b8c-af10-f9ddec203db2",
   "metadata": {
    "editable": true,
    "execution": {
     "iopub.execute_input": "2025-08-19T19:54:34.694871Z",
     "iopub.status.busy": "2025-08-19T19:54:34.694567Z",
     "iopub.status.idle": "2025-08-19T19:54:34.866691Z",
     "shell.execute_reply": "2025-08-19T19:54:34.865011Z",
     "shell.execute_reply.started": "2025-08-19T19:54:34.694846Z"
    },
    "slideshow": {
     "slide_type": ""
    },
    "tags": []
   },
   "outputs": [
    {
     "name": "stdout",
     "output_type": "stream",
     "text": [
      "5082\n"
     ]
    },
    {
     "data": {
      "text/plain": [
       "[['http://www.wikidata.org/entity/Q54553381',\n",
       "  'Waverly Lowell',\n",
       "  '1951',\n",
       "  'http://www.wikidata.org/entity/Q6581072'],\n",
       " ['http://www.wikidata.org/entity/Q20164843',\n",
       "  'Günter Buchstab',\n",
       "  '1944',\n",
       "  'http://www.wikidata.org/entity/Q6581097'],\n",
       " ['http://www.wikidata.org/entity/Q2637717',\n",
       "  'Albert Bruckner',\n",
       "  '1904',\n",
       "  'http://www.wikidata.org/entity/Q6581097']]"
      ]
     },
     "execution_count": 83,
     "metadata": {},
     "output_type": "execute_result"
    }
   ],
   "source": [
    "r = [l for l in spqf.sparql_result_to_list(qr)]\n",
    "print(len(r))\n",
    "r[:3]"
   ]
  },
  {
   "cell_type": "code",
   "execution_count": 84,
   "id": "236bbba5-a4df-4a7b-b215-44c9bc3f355f",
   "metadata": {
    "execution": {
     "iopub.execute_input": "2025-08-19T19:54:34.869026Z",
     "iopub.status.busy": "2025-08-19T19:54:34.868726Z",
     "iopub.status.idle": "2025-08-19T19:54:34.917999Z",
     "shell.execute_reply": "2025-08-19T19:54:34.916350Z",
     "shell.execute_reply.started": "2025-08-19T19:54:34.869002Z"
    }
   },
   "outputs": [
    {
     "data": {
      "text/html": [
       "<div>\n",
       "<style scoped>\n",
       "    .dataframe tbody tr th:only-of-type {\n",
       "        vertical-align: middle;\n",
       "    }\n",
       "\n",
       "    .dataframe tbody tr th {\n",
       "        vertical-align: top;\n",
       "    }\n",
       "\n",
       "    .dataframe thead th {\n",
       "        text-align: right;\n",
       "    }\n",
       "</style>\n",
       "<table border=\"1\" class=\"dataframe\">\n",
       "  <thead>\n",
       "    <tr style=\"text-align: right;\">\n",
       "      <th></th>\n",
       "      <th>personUri</th>\n",
       "      <th>personLabel</th>\n",
       "      <th>birthYear</th>\n",
       "      <th>genderUri</th>\n",
       "    </tr>\n",
       "  </thead>\n",
       "  <tbody>\n",
       "    <tr>\n",
       "      <th>0</th>\n",
       "      <td>http://www.wikidata.org/entity/Q54553381</td>\n",
       "      <td>Waverly Lowell</td>\n",
       "      <td>1951</td>\n",
       "      <td>http://www.wikidata.org/entity/Q6581072</td>\n",
       "    </tr>\n",
       "    <tr>\n",
       "      <th>1</th>\n",
       "      <td>http://www.wikidata.org/entity/Q20164843</td>\n",
       "      <td>Günter Buchstab</td>\n",
       "      <td>1944</td>\n",
       "      <td>http://www.wikidata.org/entity/Q6581097</td>\n",
       "    </tr>\n",
       "    <tr>\n",
       "      <th>2</th>\n",
       "      <td>http://www.wikidata.org/entity/Q2637717</td>\n",
       "      <td>Albert Bruckner</td>\n",
       "      <td>1904</td>\n",
       "      <td>http://www.wikidata.org/entity/Q6581097</td>\n",
       "    </tr>\n",
       "    <tr>\n",
       "      <th>3</th>\n",
       "      <td>http://www.wikidata.org/entity/Q5783602</td>\n",
       "      <td>Conrado Morterero Simón</td>\n",
       "      <td>1915</td>\n",
       "      <td>http://www.wikidata.org/entity/Q6581097</td>\n",
       "    </tr>\n",
       "    <tr>\n",
       "      <th>4</th>\n",
       "      <td>http://www.wikidata.org/entity/Q15429548</td>\n",
       "      <td>Karlheinz Geppert</td>\n",
       "      <td>1955</td>\n",
       "      <td>http://www.wikidata.org/entity/Q6581097</td>\n",
       "    </tr>\n",
       "  </tbody>\n",
       "</table>\n",
       "</div>"
      ],
      "text/plain": [
       "                                  personUri              personLabel  \\\n",
       "0  http://www.wikidata.org/entity/Q54553381           Waverly Lowell   \n",
       "1  http://www.wikidata.org/entity/Q20164843          Günter Buchstab   \n",
       "2   http://www.wikidata.org/entity/Q2637717          Albert Bruckner   \n",
       "3   http://www.wikidata.org/entity/Q5783602  Conrado Morterero Simón   \n",
       "4  http://www.wikidata.org/entity/Q15429548        Karlheinz Geppert   \n",
       "\n",
       "  birthYear                                genderUri  \n",
       "0      1951  http://www.wikidata.org/entity/Q6581072  \n",
       "1      1944  http://www.wikidata.org/entity/Q6581097  \n",
       "2      1904  http://www.wikidata.org/entity/Q6581097  \n",
       "3      1915  http://www.wikidata.org/entity/Q6581097  \n",
       "4      1955  http://www.wikidata.org/entity/Q6581097  "
      ]
     },
     "execution_count": 84,
     "metadata": {},
     "output_type": "execute_result"
    }
   ],
   "source": [
    "### Créer un DataFrame à partir du résultat\n",
    "df_p = pd.DataFrame(r)\n",
    "df_p.columns = ['personUri', 'personLabel', 'birthYear', 'genderUri']\n",
    "df_p.head()"
   ]
  },
  {
   "cell_type": "code",
   "execution_count": 85,
   "id": "eb664e6b-7fd0-4757-8bff-db79a0d52f97",
   "metadata": {
    "execution": {
     "iopub.execute_input": "2025-08-19T19:54:35.146301Z",
     "iopub.status.busy": "2025-08-19T19:54:35.145422Z",
     "iopub.status.idle": "2025-08-19T19:54:35.174594Z",
     "shell.execute_reply": "2025-08-19T19:54:35.172283Z",
     "shell.execute_reply.started": "2025-08-19T19:54:35.146224Z"
    },
    "tags": []
   },
   "outputs": [
    {
     "name": "stdout",
     "output_type": "stream",
     "text": [
      "<class 'pandas.core.frame.DataFrame'>\n",
      "RangeIndex: 5082 entries, 0 to 5081\n",
      "Data columns (total 4 columns):\n",
      " #   Column       Non-Null Count  Dtype \n",
      "---  ------       --------------  ----- \n",
      " 0   personUri    5082 non-null   object\n",
      " 1   personLabel  5082 non-null   object\n",
      " 2   birthYear    5082 non-null   object\n",
      " 3   genderUri    5082 non-null   object\n",
      "dtypes: object(4)\n",
      "memory usage: 158.9+ KB\n"
     ]
    }
   ],
   "source": [
    "df_p.info()"
   ]
  },
  {
   "cell_type": "markdown",
   "id": "4912fbea-fc0a-443c-a015-034431fbf194",
   "metadata": {},
   "source": [
    "### Vérifier les genres présents directement sur la base de données\n",
    "\n",
    "\n",
    "Voir les requêtes correspondantes dans le [SPARQL notebook qui créé la population](../../sparqlbooks/wikidata_import_population.sparqlbook)"
   ]
  },
  {
   "cell_type": "markdown",
   "id": "2de05023-549c-4de3-8dd8-1c78afaf6227",
   "metadata": {},
   "source": [
    "### Ajouter une colonne au DataFrame avec le code du genre "
   ]
  },
  {
   "cell_type": "code",
   "execution_count": 86,
   "id": "0a674d8c-3a47-4c0a-9af4-7b68d6512e7a",
   "metadata": {
    "execution": {
     "iopub.execute_input": "2025-08-19T19:54:37.407064Z",
     "iopub.status.busy": "2025-08-19T19:54:37.405574Z",
     "iopub.status.idle": "2025-08-19T19:54:37.424051Z",
     "shell.execute_reply": "2025-08-19T19:54:37.421431Z",
     "shell.execute_reply.started": "2025-08-19T19:54:37.406926Z"
    }
   },
   "outputs": [],
   "source": [
    "### On créé d'abord une fonction qui effectue le travail\n",
    "\n",
    "## l'argument de la fonction 'g_uri' est un nom choisi librement\n",
    "# il est ensuite appelé dans la fonction comme variable\n",
    "# et contient la valeur introduite lors de l'utilisation de la fonction \n",
    "def code_gender(g_uri):\n",
    "    if g_uri == 'http://www.wikidata.org/entity/Q6581097':\n",
    "        # genre masculin\n",
    "        a = 'M'\n",
    "    elif g_uri =='http://www.wikidata.org/entity/Q6581072':\n",
    "        # genre féminin\n",
    "        a = 'F'\n",
    "    else:\n",
    "        # genre autre\n",
    "        a = 'A'\n",
    "    return a    "
   ]
  },
  {
   "cell_type": "code",
   "execution_count": 87,
   "id": "449fc512-efbd-4dcb-9e47-219f80ed8a4e",
   "metadata": {
    "execution": {
     "iopub.execute_input": "2025-08-19T19:54:37.719104Z",
     "iopub.status.busy": "2025-08-19T19:54:37.718152Z",
     "iopub.status.idle": "2025-08-19T19:54:37.731569Z",
     "shell.execute_reply": "2025-08-19T19:54:37.728824Z",
     "shell.execute_reply.started": "2025-08-19T19:54:37.719029Z"
    }
   },
   "outputs": [
    {
     "name": "stdout",
     "output_type": "stream",
     "text": [
      "A\n"
     ]
    }
   ],
   "source": [
    "### On teste la fonction\n",
    "print(code_gender('http://www.wikidata.org/entity/Q48270'))"
   ]
  },
  {
   "cell_type": "code",
   "execution_count": 88,
   "id": "199ee5a4-1cdb-4a0f-962a-7675ec3f26f2",
   "metadata": {
    "execution": {
     "iopub.execute_input": "2025-08-19T19:54:38.023840Z",
     "iopub.status.busy": "2025-08-19T19:54:38.022958Z",
     "iopub.status.idle": "2025-08-19T19:54:38.083356Z",
     "shell.execute_reply": "2025-08-19T19:54:38.081908Z",
     "shell.execute_reply.started": "2025-08-19T19:54:38.023765Z"
    }
   },
   "outputs": [],
   "source": [
    "### On ajoute une nouvelle colonne et y on met pour chaque ligne le résultat de la fonction\n",
    "df_p['genCode'] = df_p.apply(lambda x: code_gender(x['genderUri']), axis=1)"
   ]
  },
  {
   "cell_type": "code",
   "execution_count": 89,
   "id": "db6fb789-227b-40ef-9c11-78edf1b9d12c",
   "metadata": {
    "execution": {
     "iopub.execute_input": "2025-08-19T19:54:38.474026Z",
     "iopub.status.busy": "2025-08-19T19:54:38.473004Z",
     "iopub.status.idle": "2025-08-19T19:54:38.503785Z",
     "shell.execute_reply": "2025-08-19T19:54:38.501669Z",
     "shell.execute_reply.started": "2025-08-19T19:54:38.473948Z"
    }
   },
   "outputs": [
    {
     "data": {
      "text/html": [
       "<div>\n",
       "<style scoped>\n",
       "    .dataframe tbody tr th:only-of-type {\n",
       "        vertical-align: middle;\n",
       "    }\n",
       "\n",
       "    .dataframe tbody tr th {\n",
       "        vertical-align: top;\n",
       "    }\n",
       "\n",
       "    .dataframe thead th {\n",
       "        text-align: right;\n",
       "    }\n",
       "</style>\n",
       "<table border=\"1\" class=\"dataframe\">\n",
       "  <thead>\n",
       "    <tr style=\"text-align: right;\">\n",
       "      <th></th>\n",
       "      <th>personUri</th>\n",
       "      <th>personLabel</th>\n",
       "      <th>birthYear</th>\n",
       "      <th>genderUri</th>\n",
       "      <th>genCode</th>\n",
       "    </tr>\n",
       "  </thead>\n",
       "  <tbody>\n",
       "    <tr>\n",
       "      <th>702</th>\n",
       "      <td>http://www.wikidata.org/entity/Q57304412</td>\n",
       "      <td>María Belén Correa</td>\n",
       "      <td>1973</td>\n",
       "      <td>http://www.wikidata.org/entity/Q1052281</td>\n",
       "      <td>A</td>\n",
       "    </tr>\n",
       "    <tr>\n",
       "      <th>1221</th>\n",
       "      <td>http://www.wikidata.org/entity/Q107444649</td>\n",
       "      <td>Joyce Gabiola</td>\n",
       "      <td>1974</td>\n",
       "      <td>http://www.wikidata.org/entity/Q48270</td>\n",
       "      <td>A</td>\n",
       "    </tr>\n",
       "    <tr>\n",
       "      <th>3140</th>\n",
       "      <td>http://www.wikidata.org/entity/Q74593255</td>\n",
       "      <td>Q74593255</td>\n",
       "      <td>1975</td>\n",
       "      <td>http://www.wikidata.org/entity/Q113124952</td>\n",
       "      <td>A</td>\n",
       "    </tr>\n",
       "    <tr>\n",
       "      <th>4543</th>\n",
       "      <td>http://www.wikidata.org/entity/Q2540350</td>\n",
       "      <td>Jessica Mink</td>\n",
       "      <td>1951</td>\n",
       "      <td>http://www.wikidata.org/entity/Q1052281</td>\n",
       "      <td>A</td>\n",
       "    </tr>\n",
       "  </tbody>\n",
       "</table>\n",
       "</div>"
      ],
      "text/plain": [
       "                                      personUri         personLabel birthYear  \\\n",
       "702    http://www.wikidata.org/entity/Q57304412  María Belén Correa      1973   \n",
       "1221  http://www.wikidata.org/entity/Q107444649       Joyce Gabiola      1974   \n",
       "3140   http://www.wikidata.org/entity/Q74593255           Q74593255      1975   \n",
       "4543    http://www.wikidata.org/entity/Q2540350        Jessica Mink      1951   \n",
       "\n",
       "                                      genderUri genCode  \n",
       "702     http://www.wikidata.org/entity/Q1052281       A  \n",
       "1221      http://www.wikidata.org/entity/Q48270       A  \n",
       "3140  http://www.wikidata.org/entity/Q113124952       A  \n",
       "4543    http://www.wikidata.org/entity/Q1052281       A  "
      ]
     },
     "execution_count": 89,
     "metadata": {},
     "output_type": "execute_result"
    }
   ],
   "source": [
    "### On inspecte les cinq premières lignes qui ont la valeur 'A' = autre\n",
    "df_p[df_p['genCode']=='A'][:5]"
   ]
  },
  {
   "cell_type": "markdown",
   "id": "c741c989-50ea-4f3d-a28d-89959d2c739a",
   "metadata": {},
   "source": [
    "## Effectifs par année"
   ]
  },
  {
   "cell_type": "code",
   "execution_count": 90,
   "id": "136263a8-722c-460e-bcc0-1aef61051025",
   "metadata": {
    "execution": {
     "iopub.execute_input": "2025-08-19T19:54:39.262308Z",
     "iopub.status.busy": "2025-08-19T19:54:39.261373Z",
     "iopub.status.idle": "2025-08-19T19:54:39.287040Z",
     "shell.execute_reply": "2025-08-19T19:54:39.284668Z",
     "shell.execute_reply.started": "2025-08-19T19:54:39.262230Z"
    }
   },
   "outputs": [
    {
     "name": "stdout",
     "output_type": "stream",
     "text": [
      "<class 'pandas.core.series.Series'>\n",
      "RangeIndex: 5082 entries, 0 to 5081\n",
      "Series name: birthYear\n",
      "Non-Null Count  Dtype \n",
      "--------------  ----- \n",
      "5082 non-null   object\n",
      "dtypes: object(1)\n",
      "memory usage: 39.8+ KB\n"
     ]
    }
   ],
   "source": [
    "### On inspecte les valeurs de la colonne 'birthYear' \n",
    "# et on observe que le type de données est 'object', ici texte\n",
    "df_p['birthYear'].info()"
   ]
  },
  {
   "cell_type": "code",
   "execution_count": 91,
   "id": "fc39e9a0-2c3b-4fe5-be24-603b6a61a566",
   "metadata": {
    "execution": {
     "iopub.execute_input": "2025-08-19T19:54:39.675459Z",
     "iopub.status.busy": "2025-08-19T19:54:39.674539Z",
     "iopub.status.idle": "2025-08-19T19:54:39.690997Z",
     "shell.execute_reply": "2025-08-19T19:54:39.688456Z",
     "shell.execute_reply.started": "2025-08-19T19:54:39.675382Z"
    }
   },
   "outputs": [],
   "source": [
    "### On transforme le type de valeur de la colonne BirthYear\n",
    "# de objet à entier\n",
    "df_p['birthYear'] = df_p['birthYear'].astype(int)"
   ]
  },
  {
   "cell_type": "code",
   "execution_count": 92,
   "id": "d9f288a0-21e0-45f3-82d6-77e480ad9731",
   "metadata": {
    "execution": {
     "iopub.execute_input": "2025-08-19T19:54:40.026555Z",
     "iopub.status.busy": "2025-08-19T19:54:40.025605Z",
     "iopub.status.idle": "2025-08-19T19:54:40.057912Z",
     "shell.execute_reply": "2025-08-19T19:54:40.056045Z",
     "shell.execute_reply.started": "2025-08-19T19:54:40.026478Z"
    }
   },
   "outputs": [
    {
     "data": {
      "text/html": [
       "<div>\n",
       "<style scoped>\n",
       "    .dataframe tbody tr th:only-of-type {\n",
       "        vertical-align: middle;\n",
       "    }\n",
       "\n",
       "    .dataframe tbody tr th {\n",
       "        vertical-align: top;\n",
       "    }\n",
       "\n",
       "    .dataframe thead th {\n",
       "        text-align: right;\n",
       "    }\n",
       "</style>\n",
       "<table border=\"1\" class=\"dataframe\">\n",
       "  <thead>\n",
       "    <tr style=\"text-align: right;\">\n",
       "      <th></th>\n",
       "      <th>year</th>\n",
       "      <th>effectif</th>\n",
       "    </tr>\n",
       "  </thead>\n",
       "  <tbody>\n",
       "    <tr>\n",
       "      <th>0</th>\n",
       "      <td>1851</td>\n",
       "      <td>25</td>\n",
       "    </tr>\n",
       "    <tr>\n",
       "      <th>1</th>\n",
       "      <td>1852</td>\n",
       "      <td>28</td>\n",
       "    </tr>\n",
       "    <tr>\n",
       "      <th>2</th>\n",
       "      <td>1853</td>\n",
       "      <td>25</td>\n",
       "    </tr>\n",
       "    <tr>\n",
       "      <th>3</th>\n",
       "      <td>1854</td>\n",
       "      <td>21</td>\n",
       "    </tr>\n",
       "    <tr>\n",
       "      <th>4</th>\n",
       "      <td>1855</td>\n",
       "      <td>22</td>\n",
       "    </tr>\n",
       "    <tr>\n",
       "      <th>...</th>\n",
       "      <td>...</td>\n",
       "      <td>...</td>\n",
       "    </tr>\n",
       "    <tr>\n",
       "      <th>134</th>\n",
       "      <td>1985</td>\n",
       "      <td>15</td>\n",
       "    </tr>\n",
       "    <tr>\n",
       "      <th>135</th>\n",
       "      <td>1986</td>\n",
       "      <td>13</td>\n",
       "    </tr>\n",
       "    <tr>\n",
       "      <th>136</th>\n",
       "      <td>1987</td>\n",
       "      <td>6</td>\n",
       "    </tr>\n",
       "    <tr>\n",
       "      <th>137</th>\n",
       "      <td>1988</td>\n",
       "      <td>5</td>\n",
       "    </tr>\n",
       "    <tr>\n",
       "      <th>138</th>\n",
       "      <td>1989</td>\n",
       "      <td>6</td>\n",
       "    </tr>\n",
       "  </tbody>\n",
       "</table>\n",
       "<p>139 rows × 2 columns</p>\n",
       "</div>"
      ],
      "text/plain": [
       "     year  effectif\n",
       "0    1851        25\n",
       "1    1852        28\n",
       "2    1853        25\n",
       "3    1854        21\n",
       "4    1855        22\n",
       "..    ...       ...\n",
       "134  1985        15\n",
       "135  1986        13\n",
       "136  1987         6\n",
       "137  1988         5\n",
       "138  1989         6\n",
       "\n",
       "[139 rows x 2 columns]"
      ]
     },
     "execution_count": 92,
     "metadata": {},
     "output_type": "execute_result"
    }
   ],
   "source": [
    "### On transforme en DataFrame le résultat du regroupement par année\n",
    "# noter qu'un ajoute un filtre pour que l'année maximale de naissance soit 200\n",
    "years_count = pd.DataFrame(df_p[df_p['birthYear'] < 2001].groupby('birthYear').size())\\\n",
    "                .reset_index(drop=False)\n",
    "years_count.columns=['year','effectif']\n",
    "years_count"
   ]
  },
  {
   "cell_type": "code",
   "execution_count": 93,
   "id": "7fdc507e-f074-4c4a-bda5-ca2a6c69f387",
   "metadata": {
    "execution": {
     "iopub.execute_input": "2025-08-19T19:54:40.486504Z",
     "iopub.status.busy": "2025-08-19T19:54:40.485466Z",
     "iopub.status.idle": "2025-08-19T19:54:41.168873Z",
     "shell.execute_reply": "2025-08-19T19:54:41.167167Z",
     "shell.execute_reply.started": "2025-08-19T19:54:40.486424Z"
    }
   },
   "outputs": [
    {
     "data": {
      "image/png": "[encoded data removed]",
      "text/plain": [
       "<Figure size 1600x800 with 1 Axes>"
      ]
     },
     "metadata": {},
     "output_type": "display_data"
    }
   ],
   "source": [
    "### Représentation graphique des effectifs par année\n",
    "\n",
    "ax = years_count.plot(x='year', y='effectif', kind='bar',rot=60, fontsize=8, figsize=(16,8))\n",
    "\n",
    "\n",
    "max_xticks = 20\n",
    "xloc = plt.MaxNLocator(max_xticks)\n",
    "ax.xaxis.set_major_locator(xloc)\n",
    "\n",
    "plt.ylabel('Effectif')\n",
    "plt.xlabel('Années')\n",
    "plt.title('Nombre de naissances par année')\n",
    "plt.show()"
   ]
  },
  {
   "cell_type": "markdown",
   "id": "ab845937-6017-44df-bec9-d78867a706a2",
   "metadata": {},
   "source": [
    "## Regrouper les effectifs par périodes de 25 ans"
   ]
  },
  {
   "cell_type": "code",
   "execution_count": 94,
   "id": "dcd067cb-f58d-44a1-bdb6-991bbcc3811c",
   "metadata": {
    "execution": {
     "iopub.execute_input": "2025-08-19T19:54:41.415729Z",
     "iopub.status.busy": "2025-08-19T19:54:41.414790Z",
     "iopub.status.idle": "2025-08-19T19:54:41.433675Z",
     "shell.execute_reply": "2025-08-19T19:54:41.431445Z",
     "shell.execute_reply.started": "2025-08-19T19:54:41.415651Z"
    }
   },
   "outputs": [],
   "source": [
    "### Créer une copie indépendante du DataFrame (attention aux copies de variables qui sont seulement des alias) \n",
    "cdf_p = df_p[df_p['birthYear'] < 1951].copy(deep=True)"
   ]
  },
  {
   "cell_type": "code",
   "execution_count": 95,
   "id": "f7002b54-5b9a-41ff-b207-3d209bfea3b2",
   "metadata": {
    "execution": {
     "iopub.execute_input": "2025-08-19T19:54:41.821385Z",
     "iopub.status.busy": "2025-08-19T19:54:41.820478Z",
     "iopub.status.idle": "2025-08-19T19:54:41.848021Z",
     "shell.execute_reply": "2025-08-19T19:54:41.846403Z",
     "shell.execute_reply.started": "2025-08-19T19:54:41.821274Z"
    }
   },
   "outputs": [
    {
     "data": {
      "text/html": [
       "<div>\n",
       "<style scoped>\n",
       "    .dataframe tbody tr th:only-of-type {\n",
       "        vertical-align: middle;\n",
       "    }\n",
       "\n",
       "    .dataframe tbody tr th {\n",
       "        vertical-align: top;\n",
       "    }\n",
       "\n",
       "    .dataframe thead th {\n",
       "        text-align: right;\n",
       "    }\n",
       "</style>\n",
       "<table border=\"1\" class=\"dataframe\">\n",
       "  <thead>\n",
       "    <tr style=\"text-align: right;\">\n",
       "      <th></th>\n",
       "      <th>personUri</th>\n",
       "      <th>personLabel</th>\n",
       "      <th>birthYear</th>\n",
       "      <th>genderUri</th>\n",
       "      <th>genCode</th>\n",
       "    </tr>\n",
       "  </thead>\n",
       "  <tbody>\n",
       "    <tr>\n",
       "      <th>1</th>\n",
       "      <td>http://www.wikidata.org/entity/Q20164843</td>\n",
       "      <td>Günter Buchstab</td>\n",
       "      <td>1944</td>\n",
       "      <td>http://www.wikidata.org/entity/Q6581097</td>\n",
       "      <td>M</td>\n",
       "    </tr>\n",
       "    <tr>\n",
       "      <th>2</th>\n",
       "      <td>http://www.wikidata.org/entity/Q2637717</td>\n",
       "      <td>Albert Bruckner</td>\n",
       "      <td>1904</td>\n",
       "      <td>http://www.wikidata.org/entity/Q6581097</td>\n",
       "      <td>M</td>\n",
       "    </tr>\n",
       "    <tr>\n",
       "      <th>3</th>\n",
       "      <td>http://www.wikidata.org/entity/Q5783602</td>\n",
       "      <td>Conrado Morterero Simón</td>\n",
       "      <td>1915</td>\n",
       "      <td>http://www.wikidata.org/entity/Q6581097</td>\n",
       "      <td>M</td>\n",
       "    </tr>\n",
       "  </tbody>\n",
       "</table>\n",
       "</div>"
      ],
      "text/plain": [
       "                                  personUri              personLabel  \\\n",
       "1  http://www.wikidata.org/entity/Q20164843          Günter Buchstab   \n",
       "2   http://www.wikidata.org/entity/Q2637717          Albert Bruckner   \n",
       "3   http://www.wikidata.org/entity/Q5783602  Conrado Morterero Simón   \n",
       "\n",
       "   birthYear                                genderUri genCode  \n",
       "1       1944  http://www.wikidata.org/entity/Q6581097       M  \n",
       "2       1904  http://www.wikidata.org/entity/Q6581097       M  \n",
       "3       1915  http://www.wikidata.org/entity/Q6581097       M  "
      ]
     },
     "execution_count": 95,
     "metadata": {},
     "output_type": "execute_result"
    }
   ],
   "source": [
    "cdf_p.head(3)"
   ]
  },
  {
   "cell_type": "code",
   "execution_count": 96,
   "id": "15117967-9901-423a-a898-d5b710399439",
   "metadata": {
    "execution": {
     "iopub.execute_input": "2025-08-19T19:54:42.136329Z",
     "iopub.status.busy": "2025-08-19T19:54:42.135477Z",
     "iopub.status.idle": "2025-08-19T19:54:42.154038Z",
     "shell.execute_reply": "2025-08-19T19:54:42.151866Z",
     "shell.execute_reply.started": "2025-08-19T19:54:42.136255Z"
    }
   },
   "outputs": [
    {
     "name": "stdout",
     "output_type": "stream",
     "text": [
      "1851 1950\n"
     ]
    }
   ],
   "source": [
    "### Année minimale et maximale dans la population\n",
    "print(min(cdf_p['birthYear']), max(cdf_p['birthYear']))"
   ]
  },
  {
   "cell_type": "markdown",
   "id": "c60b84a9-99a7-46b0-8ae9-11bf26128fe7",
   "metadata": {},
   "source": [
    "### Codage par période de vingt-cinq ans"
   ]
  },
  {
   "cell_type": "code",
   "execution_count": 97,
   "id": "7c29f5c0-bf9f-444d-be57-2d39bf882e23",
   "metadata": {
    "execution": {
     "iopub.execute_input": "2025-08-19T19:54:42.793044Z",
     "iopub.status.busy": "2025-08-19T19:54:42.792110Z",
     "iopub.status.idle": "2025-08-19T19:54:42.806040Z",
     "shell.execute_reply": "2025-08-19T19:54:42.803448Z",
     "shell.execute_reply.started": "2025-08-19T19:54:42.792968Z"
    },
    "tags": []
   },
   "outputs": [
    {
     "name": "stdout",
     "output_type": "stream",
     "text": [
      "[1850, 1875, 1900, 1925, 1950] [1850, 1875, 1900, 1925, 1950]\n"
     ]
    }
   ],
   "source": [
    "### Créer une liste d'années pour séparer en périodes de 15 ans\n",
    "# noter que la dernière année sera exclue, \n",
    "# elle donc doit être supérieure à la valeur maximale \n",
    "l_25 = list(range(1850, 1975, 25))\n",
    "print(l_25[:5], l_25[-5:])"
   ]
  },
  {
   "cell_type": "code",
   "execution_count": 98,
   "id": "06ab381e-f317-4767-9790-a9fcbfcb1853",
   "metadata": {
    "execution": {
     "iopub.execute_input": "2025-08-19T19:54:43.126575Z",
     "iopub.status.busy": "2025-08-19T19:54:43.125621Z",
     "iopub.status.idle": "2025-08-19T19:54:43.159733Z",
     "shell.execute_reply": "2025-08-19T19:54:43.158296Z",
     "shell.execute_reply.started": "2025-08-19T19:54:43.126499Z"
    }
   },
   "outputs": [
    {
     "data": {
      "text/html": [
       "<div>\n",
       "<style scoped>\n",
       "    .dataframe tbody tr th:only-of-type {\n",
       "        vertical-align: middle;\n",
       "    }\n",
       "\n",
       "    .dataframe tbody tr th {\n",
       "        vertical-align: top;\n",
       "    }\n",
       "\n",
       "    .dataframe thead th {\n",
       "        text-align: right;\n",
       "    }\n",
       "</style>\n",
       "<table border=\"1\" class=\"dataframe\">\n",
       "  <thead>\n",
       "    <tr style=\"text-align: right;\">\n",
       "      <th></th>\n",
       "      <th>personUri</th>\n",
       "      <th>personLabel</th>\n",
       "      <th>birthYear</th>\n",
       "      <th>genderUri</th>\n",
       "      <th>genCode</th>\n",
       "      <th>periodes</th>\n",
       "    </tr>\n",
       "  </thead>\n",
       "  <tbody>\n",
       "    <tr>\n",
       "      <th>1</th>\n",
       "      <td>http://www.wikidata.org/entity/Q20164843</td>\n",
       "      <td>Günter Buchstab</td>\n",
       "      <td>1944</td>\n",
       "      <td>http://www.wikidata.org/entity/Q6581097</td>\n",
       "      <td>M</td>\n",
       "      <td>1925-1949</td>\n",
       "    </tr>\n",
       "    <tr>\n",
       "      <th>2</th>\n",
       "      <td>http://www.wikidata.org/entity/Q2637717</td>\n",
       "      <td>Albert Bruckner</td>\n",
       "      <td>1904</td>\n",
       "      <td>http://www.wikidata.org/entity/Q6581097</td>\n",
       "      <td>M</td>\n",
       "      <td>1900-1924</td>\n",
       "    </tr>\n",
       "    <tr>\n",
       "      <th>3</th>\n",
       "      <td>http://www.wikidata.org/entity/Q5783602</td>\n",
       "      <td>Conrado Morterero Simón</td>\n",
       "      <td>1915</td>\n",
       "      <td>http://www.wikidata.org/entity/Q6581097</td>\n",
       "      <td>M</td>\n",
       "      <td>1900-1924</td>\n",
       "    </tr>\n",
       "  </tbody>\n",
       "</table>\n",
       "</div>"
      ],
      "text/plain": [
       "                                  personUri              personLabel  \\\n",
       "1  http://www.wikidata.org/entity/Q20164843          Günter Buchstab   \n",
       "2   http://www.wikidata.org/entity/Q2637717          Albert Bruckner   \n",
       "3   http://www.wikidata.org/entity/Q5783602  Conrado Morterero Simón   \n",
       "\n",
       "   birthYear                                genderUri genCode   periodes  \n",
       "1       1944  http://www.wikidata.org/entity/Q6581097       M  1925-1949  \n",
       "2       1904  http://www.wikidata.org/entity/Q6581097       M  1900-1924  \n",
       "3       1915  http://www.wikidata.org/entity/Q6581097       M  1900-1924  "
      ]
     },
     "execution_count": 98,
     "metadata": {},
     "output_type": "execute_result"
    }
   ],
   "source": [
    "### fonction pd.cut : https://pandas.pydata.org/pandas-docs/stable/reference/api/pandas.cut.html\n",
    "# On ajoute une nouvelle colonne qui contient la période sur la base de la liste précédente\n",
    "# et de la valeur de l'année\n",
    "\n",
    "cdf_p['periodes'] = pd.cut(cdf_p['birthYear'], l_25, right=False)\n",
    "\n",
    "### Transformer le code ajouté pour qu'il soit plus lisible\n",
    "# noter qu'on a arrondi les valeurs\n",
    "cdf_p['periodes'] = cdf_p['periodes'].apply(lambda x : str(int(x.left))+'-'+ str(int(x.right)-1))\n",
    "\n",
    "# Inspection\n",
    "cdf_p.head(3)"
   ]
  },
  {
   "cell_type": "code",
   "execution_count": 99,
   "id": "4e943cfe-40d8-49c0-afa1-a55f964f657a",
   "metadata": {
    "execution": {
     "iopub.execute_input": "2025-08-19T19:54:43.432527Z",
     "iopub.status.busy": "2025-08-19T19:54:43.431603Z",
     "iopub.status.idle": "2025-08-19T19:54:43.455069Z",
     "shell.execute_reply": "2025-08-19T19:54:43.453059Z",
     "shell.execute_reply.started": "2025-08-19T19:54:43.432451Z"
    }
   },
   "outputs": [
    {
     "data": {
      "text/plain": [
       "periodes\n",
       "1850-1874     615\n",
       "1875-1899     831\n",
       "1900-1924    1177\n",
       "1925-1949    1188\n",
       "dtype: int64"
      ]
     },
     "execution_count": 99,
     "metadata": {},
     "output_type": "execute_result"
    }
   ],
   "source": [
    "### compter les naissances par périodes de 25 ans\n",
    "cdf_p.groupby(by='periodes',observed=True).size()"
   ]
  },
  {
   "cell_type": "code",
   "execution_count": 100,
   "id": "9a1dd793-210a-42c3-b68b-d0e1756277d1",
   "metadata": {
    "execution": {
     "iopub.execute_input": "2025-08-19T19:54:43.761825Z",
     "iopub.status.busy": "2025-08-19T19:54:43.759941Z",
     "iopub.status.idle": "2025-08-19T19:54:44.067761Z",
     "shell.execute_reply": "2025-08-19T19:54:44.066052Z",
     "shell.execute_reply.started": "2025-08-19T19:54:43.761742Z"
    }
   },
   "outputs": [
    {
     "data": {
      "image/png": "[encoded data removed]",
      "text/plain": [
       "<Figure size 1600x800 with 1 Axes>"
      ]
     },
     "metadata": {},
     "output_type": "display_data"
    }
   ],
   "source": [
    "ax = cdf_p.groupby(by='periodes', observed=True).size().plot(kind='bar',rot=60, fontsize=8, figsize=(16,8))\n",
    "plt.ylabel('Effectif')\n",
    "plt.xlabel('Périodes')\n",
    "plt.title('Naissances par périodes de vingt-cinq ans')\n",
    "plt.show()"
   ]
  },
  {
   "cell_type": "markdown",
   "id": "7d3da8ee-300d-4fb8-be6e-384e1e4186ef",
   "metadata": {},
   "source": [
    "## Ajouter la représentation des genres"
   ]
  },
  {
   "cell_type": "code",
   "execution_count": 101,
   "id": "e95d55b5",
   "metadata": {
    "execution": {
     "iopub.execute_input": "2025-08-19T19:54:44.405084Z",
     "iopub.status.busy": "2025-08-19T19:54:44.404077Z",
     "iopub.status.idle": "2025-08-19T19:54:44.439403Z",
     "shell.execute_reply": "2025-08-19T19:54:44.437396Z",
     "shell.execute_reply.started": "2025-08-19T19:54:44.404988Z"
    }
   },
   "outputs": [
    {
     "data": {
      "text/html": [
       "<div>\n",
       "<style scoped>\n",
       "    .dataframe tbody tr th:only-of-type {\n",
       "        vertical-align: middle;\n",
       "    }\n",
       "\n",
       "    .dataframe tbody tr th {\n",
       "        vertical-align: top;\n",
       "    }\n",
       "\n",
       "    .dataframe thead th {\n",
       "        text-align: right;\n",
       "    }\n",
       "</style>\n",
       "<table border=\"1\" class=\"dataframe\">\n",
       "  <thead>\n",
       "    <tr style=\"text-align: right;\">\n",
       "      <th></th>\n",
       "      <th>gen_m</th>\n",
       "    </tr>\n",
       "    <tr>\n",
       "      <th>periodes</th>\n",
       "      <th></th>\n",
       "    </tr>\n",
       "  </thead>\n",
       "  <tbody>\n",
       "    <tr>\n",
       "      <th>1850-1874</th>\n",
       "      <td>605</td>\n",
       "    </tr>\n",
       "    <tr>\n",
       "      <th>1875-1899</th>\n",
       "      <td>761</td>\n",
       "    </tr>\n",
       "    <tr>\n",
       "      <th>1900-1924</th>\n",
       "      <td>933</td>\n",
       "    </tr>\n",
       "    <tr>\n",
       "      <th>1925-1949</th>\n",
       "      <td>883</td>\n",
       "    </tr>\n",
       "  </tbody>\n",
       "</table>\n",
       "</div>"
      ],
      "text/plain": [
       "           gen_m\n",
       "periodes        \n",
       "1850-1874    605\n",
       "1875-1899    761\n",
       "1900-1924    933\n",
       "1925-1949    883"
      ]
     },
     "execution_count": 101,
     "metadata": {},
     "output_type": "execute_result"
    }
   ],
   "source": [
    "### Regrouper et compter avec un fitre sur le genre masculin\n",
    "gender_m = pd.DataFrame(cdf_p[cdf_p.genCode == 'M'].groupby('periodes', observed=True).size())\n",
    "gender_m.columns = ['gen_m']\n",
    "gender_m.tail()\n"
   ]
  },
  {
   "cell_type": "code",
   "execution_count": 102,
   "id": "17ae3b32-dc7c-4a5c-a2b8-b2f9c9886a5d",
   "metadata": {
    "execution": {
     "iopub.execute_input": "2025-08-19T19:54:44.721670Z",
     "iopub.status.busy": "2025-08-19T19:54:44.720685Z",
     "iopub.status.idle": "2025-08-19T19:54:44.748505Z",
     "shell.execute_reply": "2025-08-19T19:54:44.746735Z",
     "shell.execute_reply.started": "2025-08-19T19:54:44.721591Z"
    }
   },
   "outputs": [
    {
     "data": {
      "text/html": [
       "<div>\n",
       "<style scoped>\n",
       "    .dataframe tbody tr th:only-of-type {\n",
       "        vertical-align: middle;\n",
       "    }\n",
       "\n",
       "    .dataframe tbody tr th {\n",
       "        vertical-align: top;\n",
       "    }\n",
       "\n",
       "    .dataframe thead th {\n",
       "        text-align: right;\n",
       "    }\n",
       "</style>\n",
       "<table border=\"1\" class=\"dataframe\">\n",
       "  <thead>\n",
       "    <tr style=\"text-align: right;\">\n",
       "      <th></th>\n",
       "      <th>gen_f</th>\n",
       "    </tr>\n",
       "    <tr>\n",
       "      <th>periodes</th>\n",
       "      <th></th>\n",
       "    </tr>\n",
       "  </thead>\n",
       "  <tbody>\n",
       "    <tr>\n",
       "      <th>1850-1874</th>\n",
       "      <td>10</td>\n",
       "    </tr>\n",
       "    <tr>\n",
       "      <th>1875-1899</th>\n",
       "      <td>70</td>\n",
       "    </tr>\n",
       "    <tr>\n",
       "      <th>1900-1924</th>\n",
       "      <td>244</td>\n",
       "    </tr>\n",
       "    <tr>\n",
       "      <th>1925-1949</th>\n",
       "      <td>305</td>\n",
       "    </tr>\n",
       "  </tbody>\n",
       "</table>\n",
       "</div>"
      ],
      "text/plain": [
       "           gen_f\n",
       "periodes        \n",
       "1850-1874     10\n",
       "1875-1899     70\n",
       "1900-1924    244\n",
       "1925-1949    305"
      ]
     },
     "execution_count": 102,
     "metadata": {},
     "output_type": "execute_result"
    }
   ],
   "source": [
    "### Regrouper et compter avec un fitre sur le genre féminin\n",
    "gender_f = pd.DataFrame(cdf_p[cdf_p.genCode == 'F'].groupby('periodes', observed=True).size())\n",
    "gender_f.columns = ['gen_f']\n",
    "gender_f.tail()\n"
   ]
  },
  {
   "cell_type": "code",
   "execution_count": 103,
   "id": "fd7cc5e0-471f-469e-ae39-9365de7bfc18",
   "metadata": {
    "execution": {
     "iopub.execute_input": "2025-08-19T19:54:45.035621Z",
     "iopub.status.busy": "2025-08-19T19:54:45.034582Z",
     "iopub.status.idle": "2025-08-19T19:54:45.062328Z",
     "shell.execute_reply": "2025-08-19T19:54:45.060082Z",
     "shell.execute_reply.started": "2025-08-19T19:54:45.035539Z"
    }
   },
   "outputs": [
    {
     "data": {
      "text/html": [
       "<div>\n",
       "<style scoped>\n",
       "    .dataframe tbody tr th:only-of-type {\n",
       "        vertical-align: middle;\n",
       "    }\n",
       "\n",
       "    .dataframe tbody tr th {\n",
       "        vertical-align: top;\n",
       "    }\n",
       "\n",
       "    .dataframe thead th {\n",
       "        text-align: right;\n",
       "    }\n",
       "</style>\n",
       "<table border=\"1\" class=\"dataframe\">\n",
       "  <thead>\n",
       "    <tr style=\"text-align: right;\">\n",
       "      <th></th>\n",
       "      <th>gen_m</th>\n",
       "      <th>gen_f</th>\n",
       "    </tr>\n",
       "    <tr>\n",
       "      <th>periodes</th>\n",
       "      <th></th>\n",
       "      <th></th>\n",
       "    </tr>\n",
       "  </thead>\n",
       "  <tbody>\n",
       "    <tr>\n",
       "      <th>1850-1874</th>\n",
       "      <td>605</td>\n",
       "      <td>10</td>\n",
       "    </tr>\n",
       "    <tr>\n",
       "      <th>1875-1899</th>\n",
       "      <td>761</td>\n",
       "      <td>70</td>\n",
       "    </tr>\n",
       "    <tr>\n",
       "      <th>1900-1924</th>\n",
       "      <td>933</td>\n",
       "      <td>244</td>\n",
       "    </tr>\n",
       "    <tr>\n",
       "      <th>1925-1949</th>\n",
       "      <td>883</td>\n",
       "      <td>305</td>\n",
       "    </tr>\n",
       "  </tbody>\n",
       "</table>\n",
       "</div>"
      ],
      "text/plain": [
       "           gen_m  gen_f\n",
       "periodes               \n",
       "1850-1874    605     10\n",
       "1875-1899    761     70\n",
       "1900-1924    933    244\n",
       "1925-1949    883    305"
      ]
     },
     "execution_count": 103,
     "metadata": {},
     "output_type": "execute_result"
    }
   ],
   "source": [
    "### Fusionner les deux tableaux en utilisant l'index comme clé de jointure\n",
    "merged = pd.merge(gender_m, gender_f, left_index=True, right_index=True)\n",
    "merged.tail()"
   ]
  },
  {
   "cell_type": "code",
   "execution_count": 104,
   "id": "60190e17-c1df-4a22-9ec9-be6b77108c46",
   "metadata": {
    "execution": {
     "iopub.execute_input": "2025-08-19T19:54:45.343483Z",
     "iopub.status.busy": "2025-08-19T19:54:45.342464Z",
     "iopub.status.idle": "2025-08-19T19:54:45.367850Z",
     "shell.execute_reply": "2025-08-19T19:54:45.365612Z",
     "shell.execute_reply.started": "2025-08-19T19:54:45.343404Z"
    }
   },
   "outputs": [
    {
     "data": {
      "text/html": [
       "<div>\n",
       "<style scoped>\n",
       "    .dataframe tbody tr th:only-of-type {\n",
       "        vertical-align: middle;\n",
       "    }\n",
       "\n",
       "    .dataframe tbody tr th {\n",
       "        vertical-align: top;\n",
       "    }\n",
       "\n",
       "    .dataframe thead th {\n",
       "        text-align: right;\n",
       "    }\n",
       "</style>\n",
       "<table border=\"1\" class=\"dataframe\">\n",
       "  <thead>\n",
       "    <tr style=\"text-align: right;\">\n",
       "      <th></th>\n",
       "      <th>gen_m</th>\n",
       "      <th>gen_f</th>\n",
       "    </tr>\n",
       "    <tr>\n",
       "      <th>periodes</th>\n",
       "      <th></th>\n",
       "      <th></th>\n",
       "    </tr>\n",
       "  </thead>\n",
       "  <tbody>\n",
       "    <tr>\n",
       "      <th>1850-1874</th>\n",
       "      <td>605</td>\n",
       "      <td>10</td>\n",
       "    </tr>\n",
       "    <tr>\n",
       "      <th>1875-1899</th>\n",
       "      <td>761</td>\n",
       "      <td>70</td>\n",
       "    </tr>\n",
       "    <tr>\n",
       "      <th>1900-1924</th>\n",
       "      <td>933</td>\n",
       "      <td>244</td>\n",
       "    </tr>\n",
       "    <tr>\n",
       "      <th>1925-1949</th>\n",
       "      <td>883</td>\n",
       "      <td>305</td>\n",
       "    </tr>\n",
       "  </tbody>\n",
       "</table>\n",
       "</div>"
      ],
      "text/plain": [
       "           gen_m  gen_f\n",
       "periodes               \n",
       "1850-1874    605     10\n",
       "1875-1899    761     70\n",
       "1900-1924    933    244\n",
       "1925-1949    883    305"
      ]
     },
     "execution_count": 104,
     "metadata": {},
     "output_type": "execute_result"
    }
   ],
   "source": [
    "### Transformer l'index de séquence à chaîne de caractères\n",
    "# ce qui est indispensable pour l'affichage dans un graphique\n",
    "merged.index = merged.index.map(str)\n",
    "merged.tail()"
   ]
  },
  {
   "cell_type": "code",
   "execution_count": 105,
   "id": "d188f96f-feca-464b-b338-f87e3c9cb23b",
   "metadata": {
    "execution": {
     "iopub.execute_input": "2025-08-19T19:54:45.651752Z",
     "iopub.status.busy": "2025-08-19T19:54:45.650780Z",
     "iopub.status.idle": "2025-08-19T19:54:45.924811Z",
     "shell.execute_reply": "2025-08-19T19:54:45.923374Z",
     "shell.execute_reply.started": "2025-08-19T19:54:45.651676Z"
    }
   },
   "outputs": [
    {
     "data": {
      "image/png": "[encoded data removed]",
      "text/plain": [
       "<Figure size 2000x600 with 1 Axes>"
      ]
     },
     "metadata": {},
     "output_type": "display_data"
    }
   ],
   "source": [
    "### Documentation\n",
    "# https://pandas.pydata.org/pandas-docs/stable/reference/api/pandas.DataFrame.plot.bar.html\n",
    "ax = merged.plot.bar(stacked=True, rot=70, fontsize=9, figsize=(20,6), color=['LightSteelBlue', 'LightCoral'])\n",
    "plt.show()"
   ]
  },
  {
   "cell_type": "markdown",
   "id": "ba5a7825-df2b-4e94-9f90-2ffb03267ee3",
   "metadata": {},
   "source": [
    "### Codage par période de dix ans\n",
    "\n",
    "Comme on voit bien dans le graphique précédent qu'il y a deux périodes avec des effectifs radicalements différents, \n",
    "on restraint la période analysée à l'époque contemporaine et on affine avec un découpage par périodes de dix ans "
   ]
  },
  {
   "cell_type": "code",
   "execution_count": 106,
   "id": "999af2f6-438d-4dbb-91b5-ad4ee449c067",
   "metadata": {
    "execution": {
     "iopub.execute_input": "2025-08-19T19:54:46.259808Z",
     "iopub.status.busy": "2025-08-19T19:54:46.257923Z",
     "iopub.status.idle": "2025-08-19T19:54:46.270790Z",
     "shell.execute_reply": "2025-08-19T19:54:46.268657Z",
     "shell.execute_reply.started": "2025-08-19T19:54:46.259734Z"
    },
    "tags": []
   },
   "outputs": [
    {
     "name": "stdout",
     "output_type": "stream",
     "text": [
      "[1851, 1861, 1871, 1881, 1891] [1911, 1921, 1931, 1941, 1951]\n"
     ]
    }
   ],
   "source": [
    "l_10 = list(range(1851, 1960, 10))\n",
    "print(l_10[:5],l_10[-5:])"
   ]
  },
  {
   "cell_type": "code",
   "execution_count": 107,
   "id": "59fbb2a2-39c4-404b-b1c0-10be66742fae",
   "metadata": {
    "execution": {
     "iopub.execute_input": "2025-08-19T19:54:46.568133Z",
     "iopub.status.busy": "2025-08-19T19:54:46.567152Z",
     "iopub.status.idle": "2025-08-19T19:54:46.603308Z",
     "shell.execute_reply": "2025-08-19T19:54:46.601718Z",
     "shell.execute_reply.started": "2025-08-19T19:54:46.568054Z"
    }
   },
   "outputs": [
    {
     "data": {
      "text/html": [
       "<div>\n",
       "<style scoped>\n",
       "    .dataframe tbody tr th:only-of-type {\n",
       "        vertical-align: middle;\n",
       "    }\n",
       "\n",
       "    .dataframe tbody tr th {\n",
       "        vertical-align: top;\n",
       "    }\n",
       "\n",
       "    .dataframe thead th {\n",
       "        text-align: right;\n",
       "    }\n",
       "</style>\n",
       "<table border=\"1\" class=\"dataframe\">\n",
       "  <thead>\n",
       "    <tr style=\"text-align: right;\">\n",
       "      <th></th>\n",
       "      <th>personUri</th>\n",
       "      <th>personLabel</th>\n",
       "      <th>birthYear</th>\n",
       "      <th>genderUri</th>\n",
       "      <th>genCode</th>\n",
       "      <th>periodes</th>\n",
       "      <th>per_10</th>\n",
       "    </tr>\n",
       "  </thead>\n",
       "  <tbody>\n",
       "    <tr>\n",
       "      <th>1</th>\n",
       "      <td>http://www.wikidata.org/entity/Q20164843</td>\n",
       "      <td>Günter Buchstab</td>\n",
       "      <td>1944</td>\n",
       "      <td>http://www.wikidata.org/entity/Q6581097</td>\n",
       "      <td>M</td>\n",
       "      <td>1925-1949</td>\n",
       "      <td>1941-1950</td>\n",
       "    </tr>\n",
       "    <tr>\n",
       "      <th>2</th>\n",
       "      <td>http://www.wikidata.org/entity/Q2637717</td>\n",
       "      <td>Albert Bruckner</td>\n",
       "      <td>1904</td>\n",
       "      <td>http://www.wikidata.org/entity/Q6581097</td>\n",
       "      <td>M</td>\n",
       "      <td>1900-1924</td>\n",
       "      <td>1901-1910</td>\n",
       "    </tr>\n",
       "    <tr>\n",
       "      <th>3</th>\n",
       "      <td>http://www.wikidata.org/entity/Q5783602</td>\n",
       "      <td>Conrado Morterero Simón</td>\n",
       "      <td>1915</td>\n",
       "      <td>http://www.wikidata.org/entity/Q6581097</td>\n",
       "      <td>M</td>\n",
       "      <td>1900-1924</td>\n",
       "      <td>1911-1920</td>\n",
       "    </tr>\n",
       "  </tbody>\n",
       "</table>\n",
       "</div>"
      ],
      "text/plain": [
       "                                  personUri              personLabel  \\\n",
       "1  http://www.wikidata.org/entity/Q20164843          Günter Buchstab   \n",
       "2   http://www.wikidata.org/entity/Q2637717          Albert Bruckner   \n",
       "3   http://www.wikidata.org/entity/Q5783602  Conrado Morterero Simón   \n",
       "\n",
       "   birthYear                                genderUri genCode   periodes  \\\n",
       "1       1944  http://www.wikidata.org/entity/Q6581097       M  1925-1949   \n",
       "2       1904  http://www.wikidata.org/entity/Q6581097       M  1900-1924   \n",
       "3       1915  http://www.wikidata.org/entity/Q6581097       M  1900-1924   \n",
       "\n",
       "      per_10  \n",
       "1  1941-1950  \n",
       "2  1901-1910  \n",
       "3  1911-1920  "
      ]
     },
     "execution_count": 107,
     "metadata": {},
     "output_type": "execute_result"
    }
   ],
   "source": [
    "### Découpage par décennies\n",
    "## fonction pd.cut : https://pandas.pydata.org/pandas-docs/stable/reference/api/pandas.cut.html\n",
    "\n",
    "cdf_p['per_10'] = pd.cut(cdf_p['birthYear'], l_10, right=False)\n",
    "\n",
    "### Transformer le code ajouté pour qu'il soit plus lisible\n",
    "# noter qu'on a arrondi les valeurs\n",
    "cdf_p['per_10'] = cdf_p['per_10'].apply(lambda x : str(int(x.left))+'-'+ str(int(x.right)-1))\n",
    "\n",
    "# Inspection\n",
    "cdf_p.head(3)"
   ]
  },
  {
   "cell_type": "code",
   "execution_count": 108,
   "id": "1c28f1d0-f1e2-4dfc-9892-2b3204544f45",
   "metadata": {
    "execution": {
     "iopub.execute_input": "2025-08-19T19:54:46.852158Z",
     "iopub.status.busy": "2025-08-19T19:54:46.851188Z",
     "iopub.status.idle": "2025-08-19T19:54:46.885936Z",
     "shell.execute_reply": "2025-08-19T19:54:46.883456Z",
     "shell.execute_reply.started": "2025-08-19T19:54:46.852081Z"
    }
   },
   "outputs": [
    {
     "data": {
      "text/html": [
       "<div>\n",
       "<style scoped>\n",
       "    .dataframe tbody tr th:only-of-type {\n",
       "        vertical-align: middle;\n",
       "    }\n",
       "\n",
       "    .dataframe tbody tr th {\n",
       "        vertical-align: top;\n",
       "    }\n",
       "\n",
       "    .dataframe thead th {\n",
       "        text-align: right;\n",
       "    }\n",
       "</style>\n",
       "<table border=\"1\" class=\"dataframe\">\n",
       "  <thead>\n",
       "    <tr style=\"text-align: right;\">\n",
       "      <th></th>\n",
       "      <th>gen_m</th>\n",
       "    </tr>\n",
       "    <tr>\n",
       "      <th>per_10</th>\n",
       "      <th></th>\n",
       "    </tr>\n",
       "  </thead>\n",
       "  <tbody>\n",
       "    <tr>\n",
       "      <th>1901-1910</th>\n",
       "      <td>420</td>\n",
       "    </tr>\n",
       "    <tr>\n",
       "      <th>1911-1920</th>\n",
       "      <td>308</td>\n",
       "    </tr>\n",
       "    <tr>\n",
       "      <th>1921-1930</th>\n",
       "      <td>387</td>\n",
       "    </tr>\n",
       "    <tr>\n",
       "      <th>1931-1940</th>\n",
       "      <td>328</td>\n",
       "    </tr>\n",
       "    <tr>\n",
       "      <th>1941-1950</th>\n",
       "      <td>369</td>\n",
       "    </tr>\n",
       "  </tbody>\n",
       "</table>\n",
       "</div>"
      ],
      "text/plain": [
       "           gen_m\n",
       "per_10          \n",
       "1901-1910    420\n",
       "1911-1920    308\n",
       "1921-1930    387\n",
       "1931-1940    328\n",
       "1941-1950    369"
      ]
     },
     "execution_count": 108,
     "metadata": {},
     "output_type": "execute_result"
    }
   ],
   "source": [
    "### On regroupe par genre comme ci-dessus\n",
    "gender_m_10 = pd.DataFrame(cdf_p[(cdf_p.genCode == 'M') & (cdf_p.birthYear > 1850)].groupby('per_10', observed=True).size())\n",
    "gender_m_10.columns = ['gen_m']\n",
    "gender_m_10.tail()\n"
   ]
  },
  {
   "cell_type": "code",
   "execution_count": 109,
   "id": "0e28a9c3-ab14-40db-bf3a-469dbcb93500",
   "metadata": {
    "execution": {
     "iopub.execute_input": "2025-08-19T19:54:47.146699Z",
     "iopub.status.busy": "2025-08-19T19:54:47.145721Z",
     "iopub.status.idle": "2025-08-19T19:54:47.177402Z",
     "shell.execute_reply": "2025-08-19T19:54:47.175487Z",
     "shell.execute_reply.started": "2025-08-19T19:54:47.146621Z"
    }
   },
   "outputs": [
    {
     "data": {
      "text/html": [
       "<div>\n",
       "<style scoped>\n",
       "    .dataframe tbody tr th:only-of-type {\n",
       "        vertical-align: middle;\n",
       "    }\n",
       "\n",
       "    .dataframe tbody tr th {\n",
       "        vertical-align: top;\n",
       "    }\n",
       "\n",
       "    .dataframe thead th {\n",
       "        text-align: right;\n",
       "    }\n",
       "</style>\n",
       "<table border=\"1\" class=\"dataframe\">\n",
       "  <thead>\n",
       "    <tr style=\"text-align: right;\">\n",
       "      <th></th>\n",
       "      <th>gen_f</th>\n",
       "    </tr>\n",
       "    <tr>\n",
       "      <th>per_10</th>\n",
       "      <th></th>\n",
       "    </tr>\n",
       "  </thead>\n",
       "  <tbody>\n",
       "    <tr>\n",
       "      <th>1901-1910</th>\n",
       "      <td>90</td>\n",
       "    </tr>\n",
       "    <tr>\n",
       "      <th>1911-1920</th>\n",
       "      <td>95</td>\n",
       "    </tr>\n",
       "    <tr>\n",
       "      <th>1921-1930</th>\n",
       "      <td>124</td>\n",
       "    </tr>\n",
       "    <tr>\n",
       "      <th>1931-1940</th>\n",
       "      <td>104</td>\n",
       "    </tr>\n",
       "    <tr>\n",
       "      <th>1941-1950</th>\n",
       "      <td>160</td>\n",
       "    </tr>\n",
       "  </tbody>\n",
       "</table>\n",
       "</div>"
      ],
      "text/plain": [
       "           gen_f\n",
       "per_10          \n",
       "1901-1910     90\n",
       "1911-1920     95\n",
       "1921-1930    124\n",
       "1931-1940    104\n",
       "1941-1950    160"
      ]
     },
     "execution_count": 109,
     "metadata": {},
     "output_type": "execute_result"
    }
   ],
   "source": [
    "### Idem\n",
    "gender_f_10 = pd.DataFrame(cdf_p[(cdf_p.genCode == 'F')& (cdf_p.birthYear > 1850)].groupby('per_10', observed=True).size())\n",
    "gender_f_10.columns = ['gen_f']\n",
    "gender_f_10.tail()\n"
   ]
  },
  {
   "cell_type": "code",
   "execution_count": 110,
   "id": "ebcbeed3-851b-416e-9f30-d1251ac5e579",
   "metadata": {
    "execution": {
     "iopub.execute_input": "2025-08-19T19:54:47.430096Z",
     "iopub.status.busy": "2025-08-19T19:54:47.429192Z",
     "iopub.status.idle": "2025-08-19T19:54:47.457382Z",
     "shell.execute_reply": "2025-08-19T19:54:47.455600Z",
     "shell.execute_reply.started": "2025-08-19T19:54:47.430019Z"
    }
   },
   "outputs": [
    {
     "data": {
      "text/html": [
       "<div>\n",
       "<style scoped>\n",
       "    .dataframe tbody tr th:only-of-type {\n",
       "        vertical-align: middle;\n",
       "    }\n",
       "\n",
       "    .dataframe tbody tr th {\n",
       "        vertical-align: top;\n",
       "    }\n",
       "\n",
       "    .dataframe thead th {\n",
       "        text-align: right;\n",
       "    }\n",
       "</style>\n",
       "<table border=\"1\" class=\"dataframe\">\n",
       "  <thead>\n",
       "    <tr style=\"text-align: right;\">\n",
       "      <th></th>\n",
       "      <th>gen_m</th>\n",
       "      <th>gen_f</th>\n",
       "    </tr>\n",
       "    <tr>\n",
       "      <th>per_10</th>\n",
       "      <th></th>\n",
       "      <th></th>\n",
       "    </tr>\n",
       "  </thead>\n",
       "  <tbody>\n",
       "    <tr>\n",
       "      <th>1901-1910</th>\n",
       "      <td>420</td>\n",
       "      <td>90</td>\n",
       "    </tr>\n",
       "    <tr>\n",
       "      <th>1911-1920</th>\n",
       "      <td>308</td>\n",
       "      <td>95</td>\n",
       "    </tr>\n",
       "    <tr>\n",
       "      <th>1921-1930</th>\n",
       "      <td>387</td>\n",
       "      <td>124</td>\n",
       "    </tr>\n",
       "    <tr>\n",
       "      <th>1931-1940</th>\n",
       "      <td>328</td>\n",
       "      <td>104</td>\n",
       "    </tr>\n",
       "    <tr>\n",
       "      <th>1941-1950</th>\n",
       "      <td>369</td>\n",
       "      <td>160</td>\n",
       "    </tr>\n",
       "  </tbody>\n",
       "</table>\n",
       "</div>"
      ],
      "text/plain": [
       "           gen_m  gen_f\n",
       "per_10                 \n",
       "1901-1910    420     90\n",
       "1911-1920    308     95\n",
       "1921-1930    387    124\n",
       "1931-1940    328    104\n",
       "1941-1950    369    160"
      ]
     },
     "execution_count": 110,
     "metadata": {},
     "output_type": "execute_result"
    }
   ],
   "source": [
    "merged_10 = pd.merge(gender_m_10, gender_f_10, left_index=True, right_index=True)\n",
    "merged_10.tail()"
   ]
  },
  {
   "cell_type": "code",
   "execution_count": 111,
   "id": "ae8f6224-9c2b-47ce-ace0-c1d4a05c4869",
   "metadata": {
    "execution": {
     "iopub.execute_input": "2025-08-19T19:54:47.732004Z",
     "iopub.status.busy": "2025-08-19T19:54:47.731103Z",
     "iopub.status.idle": "2025-08-19T19:54:47.759578Z",
     "shell.execute_reply": "2025-08-19T19:54:47.757152Z",
     "shell.execute_reply.started": "2025-08-19T19:54:47.731931Z"
    }
   },
   "outputs": [
    {
     "data": {
      "text/html": [
       "<div>\n",
       "<style scoped>\n",
       "    .dataframe tbody tr th:only-of-type {\n",
       "        vertical-align: middle;\n",
       "    }\n",
       "\n",
       "    .dataframe tbody tr th {\n",
       "        vertical-align: top;\n",
       "    }\n",
       "\n",
       "    .dataframe thead th {\n",
       "        text-align: right;\n",
       "    }\n",
       "</style>\n",
       "<table border=\"1\" class=\"dataframe\">\n",
       "  <thead>\n",
       "    <tr style=\"text-align: right;\">\n",
       "      <th></th>\n",
       "      <th>gen_m</th>\n",
       "      <th>gen_f</th>\n",
       "      <th>tot</th>\n",
       "    </tr>\n",
       "    <tr>\n",
       "      <th>per_10</th>\n",
       "      <th></th>\n",
       "      <th></th>\n",
       "      <th></th>\n",
       "    </tr>\n",
       "  </thead>\n",
       "  <tbody>\n",
       "    <tr>\n",
       "      <th>1901-1910</th>\n",
       "      <td>420</td>\n",
       "      <td>90</td>\n",
       "      <td>510</td>\n",
       "    </tr>\n",
       "    <tr>\n",
       "      <th>1911-1920</th>\n",
       "      <td>308</td>\n",
       "      <td>95</td>\n",
       "      <td>403</td>\n",
       "    </tr>\n",
       "    <tr>\n",
       "      <th>1921-1930</th>\n",
       "      <td>387</td>\n",
       "      <td>124</td>\n",
       "      <td>511</td>\n",
       "    </tr>\n",
       "    <tr>\n",
       "      <th>1931-1940</th>\n",
       "      <td>328</td>\n",
       "      <td>104</td>\n",
       "      <td>432</td>\n",
       "    </tr>\n",
       "    <tr>\n",
       "      <th>1941-1950</th>\n",
       "      <td>369</td>\n",
       "      <td>160</td>\n",
       "      <td>529</td>\n",
       "    </tr>\n",
       "  </tbody>\n",
       "</table>\n",
       "</div>"
      ],
      "text/plain": [
       "           gen_m  gen_f  tot\n",
       "per_10                      \n",
       "1901-1910    420     90  510\n",
       "1911-1920    308     95  403\n",
       "1921-1930    387    124  511\n",
       "1931-1940    328    104  432\n",
       "1941-1950    369    160  529"
      ]
     },
     "execution_count": 111,
     "metadata": {},
     "output_type": "execute_result"
    }
   ],
   "source": [
    "### On transforme le type de valeur de l'index\n",
    "# et on ajoute une colonne avec le total\n",
    "merged_10.index = merged_10.index.map(str)\n",
    "merged_10['tot']=merged_10['gen_m']+merged_10['gen_f']\n",
    "merged_10.tail()"
   ]
  },
  {
   "cell_type": "code",
   "execution_count": 112,
   "id": "5569f274-e09d-4be4-a3bc-352f99d58997",
   "metadata": {
    "execution": {
     "iopub.execute_input": "2025-08-19T19:54:48.023018Z",
     "iopub.status.busy": "2025-08-19T19:54:48.022064Z",
     "iopub.status.idle": "2025-08-19T19:54:48.043422Z",
     "shell.execute_reply": "2025-08-19T19:54:48.040535Z",
     "shell.execute_reply.started": "2025-08-19T19:54:48.022942Z"
    }
   },
   "outputs": [
    {
     "data": {
      "text/plain": [
       "[1.0, 0.97, 0.98]"
      ]
     },
     "execution_count": 112,
     "metadata": {},
     "output_type": "execute_result"
    }
   ],
   "source": [
    "### On prépare les valeurs pour l'affichage des fréquences (proportion par rapport au total)\n",
    "\n",
    "# liste qui contient toutes les valeurs à la suite\n",
    "m_f = merged_10.gen_m.to_list()+merged_10.gen_f.to_list()\n",
    "\n",
    "# liste d'égale longueur que la précédente qui contient \n",
    "# les valeurs de l'index, i.e. les périodes\n",
    "tot = merged_10.tot.to_list()*2\n",
    "\n",
    "# liste qui contient les valeurs des fréquences\n",
    "lp = [round(v/t, 2) for v,t in zip(m_f, tot)]\n",
    "lp[:3]"
   ]
  },
  {
   "cell_type": "code",
   "execution_count": 113,
   "id": "b4115b87-9113-4f52-ab7e-a542faea1555",
   "metadata": {
    "execution": {
     "iopub.execute_input": "2025-08-19T19:54:48.269898Z",
     "iopub.status.busy": "2025-08-19T19:54:48.269016Z",
     "iopub.status.idle": "2025-08-19T19:54:48.330925Z",
     "shell.execute_reply": "2025-08-19T19:54:48.328230Z",
     "shell.execute_reply.started": "2025-08-19T19:54:48.269823Z"
    }
   },
   "outputs": [
    {
     "data": {
      "text/plain": [
       "<Figure size 640x480 with 0 Axes>"
      ]
     },
     "metadata": {},
     "output_type": "display_data"
    }
   ],
   "source": [
    "import os\n",
    "\n",
    "# Vérifier si le dossier 'images' existe, sinon le créer\n",
    "if not os.path.exists('images'):\n",
    "    os.makedirs('images')\n",
    "\n",
    "# Sauvegarde de l'image\n",
    "plt.savefig('images/naissances_distribution_10ans_genre.jpg', bbox_inches='tight', pad_inches=0.2)\n",
    "plt.show()\n"
   ]
  },
  {
   "cell_type": "code",
   "execution_count": 114,
   "id": "928a67b9-19f2-44e7-b4eb-7b20b534f73c",
   "metadata": {
    "editable": true,
    "execution": {
     "iopub.execute_input": "2025-08-19T19:54:48.482298Z",
     "iopub.status.busy": "2025-08-19T19:54:48.481397Z",
     "iopub.status.idle": "2025-08-19T19:54:49.239076Z",
     "shell.execute_reply": "2025-08-19T19:54:49.237601Z",
     "shell.execute_reply.started": "2025-08-19T19:54:48.482220Z"
    },
    "slideshow": {
     "slide_type": ""
    },
    "tags": []
   },
   "outputs": [
    {
     "data": {
      "image/png": "[encoded data removed]",
      "text/plain": [
       "<Figure size 2000x800 with 1 Axes>"
      ]
     },
     "metadata": {},
     "output_type": "display_data"
    }
   ],
   "source": [
    "### Graphique avec la distribution par période et genre (M,F)\n",
    "# Noter que les effectifs du genre 'Autres' étant très faibles,\n",
    "# on ne les analyse pas de manière sérielle mais on peut les analyser qualitatiement\n",
    "\n",
    "ax = merged_10.plot.bar(stacked=True, y=['gen_m', 'gen_f'], \\\n",
    "                        rot=70, fontsize=9, figsize=(20,8), color=['LightSteelBlue', 'LightCoral'])\n",
    "\n",
    "\n",
    "### https://www.pythoncharts.com/matplotlib/stacked-bar-charts-labels/\n",
    "\n",
    "\n",
    "## On ajoute une étiquette concernant la valeur de fréquence\n",
    "# à chaque rectangle dans le graphe, en utilisant la list 'lp' préparée précédemment\n",
    "# Il y a autant de triangles que les valeurs d'index x le nombre de variables\n",
    "\n",
    "for bar,v in zip(ax.patches,lp): \n",
    "\n",
    "    ax.text(\n",
    "      # Met les étiquette aux centre des rectangles\n",
    "      bar.get_x() + bar.get_width() / 2,\n",
    "        \n",
    "      # Ajoute les coordonnées verticales\n",
    "      bar.get_height()/2 + bar.get_y(), \n",
    "      \n",
    "      # Ajoute les valeurs\n",
    "      v,\n",
    "\n",
    "      # centre et met du style aux étiquettes\n",
    "      ha='center',\n",
    "      color='black',\n",
    "      weight='bold',\n",
    "      size=10\n",
    "  )\n",
    "\n",
    "plt.ylabel('Effectifs par période avec proportion des genres')\n",
    "plt.xlabel('Périodes')\n",
    "plt.title('Distribution des naissances par périodes de dix ans, proportion des genres par période')\n",
    "\n",
    "## On peut enregistrer l'image dans un fichier (noter le dossier créé préalablement)\n",
    "# qu'on pourra ensuite introduire dans un travail et commenter\n",
    "\n",
    "# Doc.: https://matplotlib.org/stable/api/_as_gen/matplotlib.pyplot.savefig.html\n",
    "plt.savefig('images/naissances_distribution_10ans_genre.jpg', bbox_inches='tight',\n",
    "                       pad_inches=0.2)\n",
    "plt.show()"
   ]
  },
  {
   "cell_type": "code",
   "execution_count": null,
   "id": "3ecca5ba-c481-4224-a739-3f430da8448b",
   "metadata": {},
   "outputs": [],
   "source": []
  },
  {
   "cell_type": "code",
   "execution_count": null,
   "id": "053dc8fe-21ac-406b-890d-4c2dec43b47d",
   "metadata": {},
   "outputs": [],
   "source": []
  }
 ],
 "metadata": {
  "kernelspec": {
   "display_name": "sparql",
   "language": "python",
   "name": "sparql"
  },
  "language_info": {
   "codemirror_mode": {
    "name": "ipython",
    "version": 3
   },
   "file_extension": ".py",
   "mimetype": "text/x-python",
   "name": "python",
   "nbconvert_exporter": "python",
   "pygments_lexer": "ipython3",
   "version": "3.12.5"
  }
 },
 "nbformat": 4,
 "nbformat_minor": 5
}
