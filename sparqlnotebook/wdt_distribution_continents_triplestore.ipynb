{
 "cells": [
  {
   "cell_type": "markdown",
   "id": "9150426b-5190-4539-8204-61253a0f1bd4",
   "metadata": {},
   "source": [
    "# Distribution des continents dans le temps \n",
    "\n",
    "Dans ce carnet est proposée une analyse de la distribution dans le temps des continents relatifs aux pays d'appartenance, en relation aux années de naissance de la population retenue.\n"
   ]
  },
  {
   "cell_type": "code",
   "execution_count": 255,
   "id": "231af92f-a7b1-479a-a734-0b8a9c0722e8",
   "metadata": {
    "execution": {
     "iopub.execute_input": "2025-08-23T12:56:26.821775Z",
     "iopub.status.busy": "2025-08-23T12:56:26.820230Z",
     "iopub.status.idle": "2025-08-23T12:56:26.838898Z",
     "shell.execute_reply": "2025-08-23T12:56:26.836314Z",
     "shell.execute_reply.started": "2025-08-23T12:56:26.821672Z"
    },
    "tags": []
   },
   "outputs": [],
   "source": [
    "### Librairie à installer dans l'environnement conda (si on exécute en local)\n",
    "# qui sera choisi pour exécuter le carnet\n",
    "from SPARQLWrapper import SPARQLWrapper, JSON, TURTLE, XML, RDFXML\n",
    "import pandas as pd\n",
    "\n",
    "import matplotlib.pyplot as plt\n",
    "import numpy as np"
   ]
  },
  {
   "cell_type": "code",
   "execution_count": 256,
   "id": "e6ce0f0e-db36-47cd-8015-a5bf33f0f7fa",
   "metadata": {
    "execution": {
     "iopub.execute_input": "2025-08-23T12:56:27.281933Z",
     "iopub.status.busy": "2025-08-23T12:56:27.280878Z",
     "iopub.status.idle": "2025-08-23T12:56:27.296982Z",
     "shell.execute_reply": "2025-08-23T12:56:27.294426Z",
     "shell.execute_reply.started": "2025-08-23T12:56:27.281855Z"
    },
    "tags": []
   },
   "outputs": [],
   "source": [
    "### Librairies déjà installées avec Python\n",
    "import pprint\n",
    "import csv\n",
    "import sys\n",
    "from importlib import reload\n",
    "import sqlite3 as sql\n",
    "\n",
    "import time\n",
    "import datetime\n",
    "from dateutil import parser\n",
    "\n",
    "\n",
    "from shutil import copyfile\n"
   ]
  },
  {
   "cell_type": "code",
   "execution_count": 257,
   "id": "9b90838d-2160-49e3-8adb-a67ff2cd112e",
   "metadata": {
    "execution": {
     "iopub.execute_input": "2025-08-23T12:56:27.842901Z",
     "iopub.status.busy": "2025-08-23T12:56:27.841994Z",
     "iopub.status.idle": "2025-08-23T12:56:27.857127Z",
     "shell.execute_reply": "2025-08-23T12:56:27.854660Z",
     "shell.execute_reply.started": "2025-08-23T12:56:27.842827Z"
    }
   },
   "outputs": [],
   "source": [
    "### Importer un module de fonctions crées ad hoc\n",
    "##  ATTENTION : le fichier 'sparql_functions.py' doit se trouver \n",
    "#   dans un dossier qui se situe dans le chemin ('path') de recherche\n",
    "#   vu par le présent carnet Jupyter afin que\n",
    "#   l'importation fonctionne correctement\n",
    "\n",
    "# Add parent directory to the path\n",
    "sys.path.insert(0, '..')\n",
    "\n",
    "### If you want to add the parent-parent directory,\n",
    "sys.path.insert(0, '../..')\n",
    "\n",
    "\n",
    "import sparql_functions as spqf"
   ]
  },
  {
   "cell_type": "markdown",
   "id": "3fe8665b-f64c-42bb-8786-4aee3673867c",
   "metadata": {},
   "source": [
    "## SPARQL Query qui récupère les données\n",
    "\n",
    "On exécute la requête grâce à une fonction de la librairie locale qui réalise la mise en forme"
   ]
  },
  {
   "cell_type": "code",
   "execution_count": 258,
   "id": "cf08874b-9ba0-4f5c-8eee-aebd9f0d0d26",
   "metadata": {
    "execution": {
     "iopub.execute_input": "2025-08-23T12:56:28.875867Z",
     "iopub.status.busy": "2025-08-23T12:56:28.874875Z",
     "iopub.status.idle": "2025-08-23T12:56:28.886987Z",
     "shell.execute_reply": "2025-08-23T12:56:28.884442Z",
     "shell.execute_reply.started": "2025-08-23T12:56:28.875751Z"
    }
   },
   "outputs": [],
   "source": [
    "## define SPARQL enpoint\n",
    "endpoint = \"https://ag1mdzaeq7qnj00h.allegrograph.cloud/repositories/archivist\""
   ]
  },
  {
   "cell_type": "code",
   "execution_count": 259,
   "id": "164e80e8-1834-473a-a605-a3c1a660eff3",
   "metadata": {
    "execution": {
     "iopub.execute_input": "2025-08-23T12:56:30.726083Z",
     "iopub.status.busy": "2025-08-23T12:56:30.725091Z",
     "iopub.status.idle": "2025-08-23T12:56:30.738773Z",
     "shell.execute_reply": "2025-08-23T12:56:30.736205Z",
     "shell.execute_reply.started": "2025-08-23T12:56:30.726001Z"
    }
   },
   "outputs": [],
   "source": [
    "query = \"\"\"\n",
    "PREFIX wd: <http://www.wikidata.org/entity/>\n",
    "PREFIX wdt: <http://www.wikidata.org/prop/direct/>\n",
    "PREFIX rdfs: <http://www.w3.org/2000/01/rdf-schema#>\n",
    "\n",
    "\n",
    "SELECT  ?s (MAX(?label) as ?label) (xsd:integer(MAX(?birthDate)) as ?birthDate) \n",
    "            (MAX(?gen) as ?gen) ( GROUP_CONCAT(?continentLabel; separator=\", \") AS ?onctinents )\n",
    "WHERE {\n",
    "    GRAPH <https://github.com/mroylem/archivist/blob/main/Wikidata/graph/imported-data.md>\n",
    "        {?s wdt:P21 ?gen;\n",
    "            rdfs:label ?label;\n",
    "            wdt:P569 ?birthDate;\n",
    "            wdt:P27 ?country.\n",
    "        ?country wdt:P30 ?continent.\n",
    "        ?continent rdfs:label ?continentLabel.\n",
    "        ## Excluding Africa, Eurasia, Australia and Oceania insular\n",
    "        FILTER ( ?continent NOT IN (wd:Q538, wd:Q3960, wd:Q5401, wd:Q15, wd:Q55643))\n",
    "          }\n",
    "}\n",
    "GROUP BY ?s\n",
    "\"\"\""
   ]
  },
  {
   "cell_type": "code",
   "execution_count": 260,
   "id": "70f2370f-e287-404f-ba7b-aaf79021047e",
   "metadata": {
    "execution": {
     "iopub.execute_input": "2025-08-23T12:56:31.360775Z",
     "iopub.status.busy": "2025-08-23T12:56:31.359738Z",
     "iopub.status.idle": "2025-08-23T12:56:32.210201Z",
     "shell.execute_reply": "2025-08-23T12:56:32.207496Z",
     "shell.execute_reply.started": "2025-08-23T12:56:31.360698Z"
    }
   },
   "outputs": [],
   "source": [
    "### Executer la requête avec les fonctions de la librairie locale\n",
    "qr = spqf.get_json_sparql_result(endpoint,query)"
   ]
  },
  {
   "cell_type": "code",
   "execution_count": 261,
   "id": "21bfd9f5-4c63-4b8c-af10-f9ddec203db2",
   "metadata": {
    "execution": {
     "iopub.execute_input": "2025-08-23T12:56:32.214066Z",
     "iopub.status.busy": "2025-08-23T12:56:32.213452Z",
     "iopub.status.idle": "2025-08-23T12:56:32.473958Z",
     "shell.execute_reply": "2025-08-23T12:56:32.473027Z",
     "shell.execute_reply.started": "2025-08-23T12:56:32.214013Z"
    }
   },
   "outputs": [
    {
     "name": "stdout",
     "output_type": "stream",
     "text": [
      "5038\n"
     ]
    },
    {
     "data": {
      "text/plain": [
       "[['http://www.wikidata.org/entity/Q54553381',\n",
       "  'Waverly Lowell',\n",
       "  '1951',\n",
       "  'http://www.wikidata.org/entity/Q6581072',\n",
       "  'North America'],\n",
       " ['http://www.wikidata.org/entity/Q20164843',\n",
       "  'Günter Buchstab',\n",
       "  '1944',\n",
       "  'http://www.wikidata.org/entity/Q6581097',\n",
       "  'Europe'],\n",
       " ['http://www.wikidata.org/entity/Q2637717',\n",
       "  'Albert Bruckner',\n",
       "  '1904',\n",
       "  'http://www.wikidata.org/entity/Q6581097',\n",
       "  'Europe']]"
      ]
     },
     "execution_count": 261,
     "metadata": {},
     "output_type": "execute_result"
    }
   ],
   "source": [
    "r = [l for l in spqf.sparql_result_to_list(qr)]\n",
    "print(len(r))\n",
    "r[:3]"
   ]
  },
  {
   "cell_type": "code",
   "execution_count": 262,
   "id": "236bbba5-a4df-4a7b-b215-44c9bc3f355f",
   "metadata": {
    "execution": {
     "iopub.execute_input": "2025-08-23T12:56:33.886850Z",
     "iopub.status.busy": "2025-08-23T12:56:33.884895Z",
     "iopub.status.idle": "2025-08-23T12:56:33.918258Z",
     "shell.execute_reply": "2025-08-23T12:56:33.916925Z",
     "shell.execute_reply.started": "2025-08-23T12:56:33.886768Z"
    }
   },
   "outputs": [
    {
     "data": {
      "text/html": [
       "<div>\n",
       "<style scoped>\n",
       "    .dataframe tbody tr th:only-of-type {\n",
       "        vertical-align: middle;\n",
       "    }\n",
       "\n",
       "    .dataframe tbody tr th {\n",
       "        vertical-align: top;\n",
       "    }\n",
       "\n",
       "    .dataframe thead th {\n",
       "        text-align: right;\n",
       "    }\n",
       "</style>\n",
       "<table border=\"1\" class=\"dataframe\">\n",
       "  <thead>\n",
       "    <tr style=\"text-align: right;\">\n",
       "      <th></th>\n",
       "      <th>personUri</th>\n",
       "      <th>personLabel</th>\n",
       "      <th>birthYear</th>\n",
       "      <th>genderUri</th>\n",
       "      <th>continents</th>\n",
       "    </tr>\n",
       "  </thead>\n",
       "  <tbody>\n",
       "    <tr>\n",
       "      <th>0</th>\n",
       "      <td>http://www.wikidata.org/entity/Q54553381</td>\n",
       "      <td>Waverly Lowell</td>\n",
       "      <td>1951</td>\n",
       "      <td>http://www.wikidata.org/entity/Q6581072</td>\n",
       "      <td>North America</td>\n",
       "    </tr>\n",
       "    <tr>\n",
       "      <th>1</th>\n",
       "      <td>http://www.wikidata.org/entity/Q20164843</td>\n",
       "      <td>Günter Buchstab</td>\n",
       "      <td>1944</td>\n",
       "      <td>http://www.wikidata.org/entity/Q6581097</td>\n",
       "      <td>Europe</td>\n",
       "    </tr>\n",
       "    <tr>\n",
       "      <th>2</th>\n",
       "      <td>http://www.wikidata.org/entity/Q2637717</td>\n",
       "      <td>Albert Bruckner</td>\n",
       "      <td>1904</td>\n",
       "      <td>http://www.wikidata.org/entity/Q6581097</td>\n",
       "      <td>Europe</td>\n",
       "    </tr>\n",
       "    <tr>\n",
       "      <th>3</th>\n",
       "      <td>http://www.wikidata.org/entity/Q5783602</td>\n",
       "      <td>Conrado Morterero Simón</td>\n",
       "      <td>1915</td>\n",
       "      <td>http://www.wikidata.org/entity/Q6581097</td>\n",
       "      <td>Europe</td>\n",
       "    </tr>\n",
       "    <tr>\n",
       "      <th>4</th>\n",
       "      <td>http://www.wikidata.org/entity/Q15429548</td>\n",
       "      <td>Karlheinz Geppert</td>\n",
       "      <td>1955</td>\n",
       "      <td>http://www.wikidata.org/entity/Q6581097</td>\n",
       "      <td>Europe</td>\n",
       "    </tr>\n",
       "  </tbody>\n",
       "</table>\n",
       "</div>"
      ],
      "text/plain": [
       "                                  personUri              personLabel  \\\n",
       "0  http://www.wikidata.org/entity/Q54553381           Waverly Lowell   \n",
       "1  http://www.wikidata.org/entity/Q20164843          Günter Buchstab   \n",
       "2   http://www.wikidata.org/entity/Q2637717          Albert Bruckner   \n",
       "3   http://www.wikidata.org/entity/Q5783602  Conrado Morterero Simón   \n",
       "4  http://www.wikidata.org/entity/Q15429548        Karlheinz Geppert   \n",
       "\n",
       "  birthYear                                genderUri     continents  \n",
       "0      1951  http://www.wikidata.org/entity/Q6581072  North America  \n",
       "1      1944  http://www.wikidata.org/entity/Q6581097         Europe  \n",
       "2      1904  http://www.wikidata.org/entity/Q6581097         Europe  \n",
       "3      1915  http://www.wikidata.org/entity/Q6581097         Europe  \n",
       "4      1955  http://www.wikidata.org/entity/Q6581097         Europe  "
      ]
     },
     "execution_count": 262,
     "metadata": {},
     "output_type": "execute_result"
    }
   ],
   "source": [
    "### Créer un DataFrame à partir du résultat\n",
    "df_p = pd.DataFrame(r)\n",
    "df_p.columns = ['personUri', 'personLabel', 'birthYear', 'genderUri', 'continents']\n",
    "df_p.head()"
   ]
  },
  {
   "cell_type": "code",
   "execution_count": 263,
   "id": "eb664e6b-7fd0-4757-8bff-db79a0d52f97",
   "metadata": {
    "execution": {
     "iopub.execute_input": "2025-08-23T12:56:34.631934Z",
     "iopub.status.busy": "2025-08-23T12:56:34.629728Z",
     "iopub.status.idle": "2025-08-23T12:56:34.661208Z",
     "shell.execute_reply": "2025-08-23T12:56:34.659302Z",
     "shell.execute_reply.started": "2025-08-23T12:56:34.631838Z"
    },
    "tags": []
   },
   "outputs": [
    {
     "name": "stdout",
     "output_type": "stream",
     "text": [
      "<class 'pandas.core.frame.DataFrame'>\n",
      "RangeIndex: 5038 entries, 0 to 5037\n",
      "Data columns (total 5 columns):\n",
      " #   Column       Non-Null Count  Dtype \n",
      "---  ------       --------------  ----- \n",
      " 0   personUri    5038 non-null   object\n",
      " 1   personLabel  5038 non-null   object\n",
      " 2   birthYear    5038 non-null   object\n",
      " 3   genderUri    5038 non-null   object\n",
      " 4   continents   5038 non-null   object\n",
      "dtypes: object(5)\n",
      "memory usage: 196.9+ KB\n"
     ]
    }
   ],
   "source": [
    "df_p.info()"
   ]
  },
  {
   "cell_type": "markdown",
   "id": "9b44e2cd",
   "metadata": {},
   "source": [
    "## Coder les continents et afficher leur distribution"
   ]
  },
  {
   "cell_type": "code",
   "execution_count": 264,
   "id": "460475b8",
   "metadata": {
    "execution": {
     "iopub.execute_input": "2025-08-23T12:56:35.678745Z",
     "iopub.status.busy": "2025-08-23T12:56:35.677824Z",
     "iopub.status.idle": "2025-08-23T12:56:35.693245Z",
     "shell.execute_reply": "2025-08-23T12:56:35.690893Z",
     "shell.execute_reply.started": "2025-08-23T12:56:35.678668Z"
    }
   },
   "outputs": [],
   "source": [
    "def codeContinents(continents):\n",
    "    listContinents = sorted(continents.split(','))\n",
    "    if 'Europe' in listContinents:\n",
    "        output = 'Europe'\n",
    "    elif 'Asia' in listContinents:\n",
    "        output = 'Asia'   \n",
    "    elif 'North America' in listContinents:\n",
    "        output = 'NorthAmerica'   \n",
    "    elif 'South America' in listContinents:\n",
    "        output = 'SouthAmerica' \n",
    "    else:\n",
    "        output = 'Missing'                 \n",
    "    return output    "
   ]
  },
  {
   "cell_type": "code",
   "execution_count": 265,
   "id": "cc275ffe",
   "metadata": {
    "execution": {
     "iopub.execute_input": "2025-08-23T12:56:36.361050Z",
     "iopub.status.busy": "2025-08-23T12:56:36.360123Z",
     "iopub.status.idle": "2025-08-23T12:56:36.376488Z",
     "shell.execute_reply": "2025-08-23T12:56:36.373846Z",
     "shell.execute_reply.started": "2025-08-23T12:56:36.360976Z"
    }
   },
   "outputs": [
    {
     "data": {
      "text/plain": [
       "'Asia'"
      ]
     },
     "execution_count": 265,
     "metadata": {},
     "output_type": "execute_result"
    }
   ],
   "source": [
    "codeContinents('Asia, North America, Europe')"
   ]
  },
  {
   "cell_type": "code",
   "execution_count": 266,
   "id": "8b60289c",
   "metadata": {
    "execution": {
     "iopub.execute_input": "2025-08-23T12:56:38.840626Z",
     "iopub.status.busy": "2025-08-23T12:56:38.839566Z",
     "iopub.status.idle": "2025-08-23T12:56:38.905783Z",
     "shell.execute_reply": "2025-08-23T12:56:38.904638Z",
     "shell.execute_reply.started": "2025-08-23T12:56:38.840547Z"
    }
   },
   "outputs": [
    {
     "data": {
      "text/html": [
       "<div>\n",
       "<style scoped>\n",
       "    .dataframe tbody tr th:only-of-type {\n",
       "        vertical-align: middle;\n",
       "    }\n",
       "\n",
       "    .dataframe tbody tr th {\n",
       "        vertical-align: top;\n",
       "    }\n",
       "\n",
       "    .dataframe thead th {\n",
       "        text-align: right;\n",
       "    }\n",
       "</style>\n",
       "<table border=\"1\" class=\"dataframe\">\n",
       "  <thead>\n",
       "    <tr style=\"text-align: right;\">\n",
       "      <th></th>\n",
       "      <th>personUri</th>\n",
       "      <th>personLabel</th>\n",
       "      <th>birthYear</th>\n",
       "      <th>genderUri</th>\n",
       "      <th>continents</th>\n",
       "      <th>contCode</th>\n",
       "    </tr>\n",
       "  </thead>\n",
       "  <tbody>\n",
       "    <tr>\n",
       "      <th>0</th>\n",
       "      <td>http://www.wikidata.org/entity/Q54553381</td>\n",
       "      <td>Waverly Lowell</td>\n",
       "      <td>1951</td>\n",
       "      <td>http://www.wikidata.org/entity/Q6581072</td>\n",
       "      <td>North America</td>\n",
       "      <td>NorthAmerica</td>\n",
       "    </tr>\n",
       "    <tr>\n",
       "      <th>1</th>\n",
       "      <td>http://www.wikidata.org/entity/Q20164843</td>\n",
       "      <td>Günter Buchstab</td>\n",
       "      <td>1944</td>\n",
       "      <td>http://www.wikidata.org/entity/Q6581097</td>\n",
       "      <td>Europe</td>\n",
       "      <td>Europe</td>\n",
       "    </tr>\n",
       "    <tr>\n",
       "      <th>2</th>\n",
       "      <td>http://www.wikidata.org/entity/Q2637717</td>\n",
       "      <td>Albert Bruckner</td>\n",
       "      <td>1904</td>\n",
       "      <td>http://www.wikidata.org/entity/Q6581097</td>\n",
       "      <td>Europe</td>\n",
       "      <td>Europe</td>\n",
       "    </tr>\n",
       "  </tbody>\n",
       "</table>\n",
       "</div>"
      ],
      "text/plain": [
       "                                  personUri      personLabel birthYear  \\\n",
       "0  http://www.wikidata.org/entity/Q54553381   Waverly Lowell      1951   \n",
       "1  http://www.wikidata.org/entity/Q20164843  Günter Buchstab      1944   \n",
       "2   http://www.wikidata.org/entity/Q2637717  Albert Bruckner      1904   \n",
       "\n",
       "                                 genderUri     continents      contCode  \n",
       "0  http://www.wikidata.org/entity/Q6581072  North America  NorthAmerica  \n",
       "1  http://www.wikidata.org/entity/Q6581097         Europe        Europe  \n",
       "2  http://www.wikidata.org/entity/Q6581097         Europe        Europe  "
      ]
     },
     "execution_count": 266,
     "metadata": {},
     "output_type": "execute_result"
    }
   ],
   "source": [
    "### On ajoute une nouvelle colonne et y on met pour chaque ligne le résultat de la fonction\n",
    "df_p['contCode'] = df_p.apply(lambda x: codeContinents(x['continents']), axis=1)\n",
    "df_p.head(3)"
   ]
  },
  {
   "cell_type": "code",
   "execution_count": 267,
   "id": "604fb1ee",
   "metadata": {
    "execution": {
     "iopub.execute_input": "2025-08-23T12:56:39.972176Z",
     "iopub.status.busy": "2025-08-23T12:56:39.971206Z",
     "iopub.status.idle": "2025-08-23T12:56:39.999728Z",
     "shell.execute_reply": "2025-08-23T12:56:39.997989Z",
     "shell.execute_reply.started": "2025-08-23T12:56:39.972102Z"
    }
   },
   "outputs": [
    {
     "data": {
      "text/html": [
       "<div>\n",
       "<style scoped>\n",
       "    .dataframe tbody tr th:only-of-type {\n",
       "        vertical-align: middle;\n",
       "    }\n",
       "\n",
       "    .dataframe tbody tr th {\n",
       "        vertical-align: top;\n",
       "    }\n",
       "\n",
       "    .dataframe thead th {\n",
       "        text-align: right;\n",
       "    }\n",
       "</style>\n",
       "<table border=\"1\" class=\"dataframe\">\n",
       "  <thead>\n",
       "    <tr style=\"text-align: right;\">\n",
       "      <th></th>\n",
       "      <th>personUri</th>\n",
       "      <th>personLabel</th>\n",
       "      <th>birthYear</th>\n",
       "      <th>genderUri</th>\n",
       "      <th>continents</th>\n",
       "      <th>contCode</th>\n",
       "    </tr>\n",
       "  </thead>\n",
       "  <tbody>\n",
       "    <tr>\n",
       "      <th>115</th>\n",
       "      <td>http://www.wikidata.org/entity/Q5234644</td>\n",
       "      <td>David Hall</td>\n",
       "      <td>1916</td>\n",
       "      <td>http://www.wikidata.org/entity/Q6581097</td>\n",
       "      <td>North America</td>\n",
       "      <td>NorthAmerica</td>\n",
       "    </tr>\n",
       "    <tr>\n",
       "      <th>116</th>\n",
       "      <td>http://www.wikidata.org/entity/Q95250830</td>\n",
       "      <td>Wilhelm Wadl</td>\n",
       "      <td>1954</td>\n",
       "      <td>http://www.wikidata.org/entity/Q6581097</td>\n",
       "      <td>Europe</td>\n",
       "      <td>Europe</td>\n",
       "    </tr>\n",
       "    <tr>\n",
       "      <th>117</th>\n",
       "      <td>http://www.wikidata.org/entity/Q11897368</td>\n",
       "      <td>Győző Dvortsák</td>\n",
       "      <td>1878</td>\n",
       "      <td>http://www.wikidata.org/entity/Q6581097</td>\n",
       "      <td>Europe, Europe</td>\n",
       "      <td>Europe</td>\n",
       "    </tr>\n",
       "    <tr>\n",
       "      <th>118</th>\n",
       "      <td>http://www.wikidata.org/entity/Q95170572</td>\n",
       "      <td>Hubert Valášek</td>\n",
       "      <td>1949</td>\n",
       "      <td>http://www.wikidata.org/entity/Q6581097</td>\n",
       "      <td>Europe</td>\n",
       "      <td>Europe</td>\n",
       "    </tr>\n",
       "    <tr>\n",
       "      <th>119</th>\n",
       "      <td>http://www.wikidata.org/entity/Q1490053</td>\n",
       "      <td>Jean-Claude Schmitt</td>\n",
       "      <td>1946</td>\n",
       "      <td>http://www.wikidata.org/entity/Q6581097</td>\n",
       "      <td>Europe</td>\n",
       "      <td>Europe</td>\n",
       "    </tr>\n",
       "  </tbody>\n",
       "</table>\n",
       "</div>"
      ],
      "text/plain": [
       "                                    personUri          personLabel birthYear  \\\n",
       "115   http://www.wikidata.org/entity/Q5234644           David Hall      1916   \n",
       "116  http://www.wikidata.org/entity/Q95250830         Wilhelm Wadl      1954   \n",
       "117  http://www.wikidata.org/entity/Q11897368       Győző Dvortsák      1878   \n",
       "118  http://www.wikidata.org/entity/Q95170572       Hubert Valášek      1949   \n",
       "119   http://www.wikidata.org/entity/Q1490053  Jean-Claude Schmitt      1946   \n",
       "\n",
       "                                   genderUri      continents      contCode  \n",
       "115  http://www.wikidata.org/entity/Q6581097   North America  NorthAmerica  \n",
       "116  http://www.wikidata.org/entity/Q6581097          Europe        Europe  \n",
       "117  http://www.wikidata.org/entity/Q6581097  Europe, Europe        Europe  \n",
       "118  http://www.wikidata.org/entity/Q6581097          Europe        Europe  \n",
       "119  http://www.wikidata.org/entity/Q6581097          Europe        Europe  "
      ]
     },
     "execution_count": 267,
     "metadata": {},
     "output_type": "execute_result"
    }
   ],
   "source": [
    "df_p.iloc[ 115:120 :  ]"
   ]
  },
  {
   "cell_type": "code",
   "execution_count": 268,
   "id": "17a17f60",
   "metadata": {
    "execution": {
     "iopub.execute_input": "2025-08-23T12:56:49.047311Z",
     "iopub.status.busy": "2025-08-23T12:56:49.046419Z",
     "iopub.status.idle": "2025-08-23T12:56:49.069378Z",
     "shell.execute_reply": "2025-08-23T12:56:49.067196Z",
     "shell.execute_reply.started": "2025-08-23T12:56:49.047236Z"
    }
   },
   "outputs": [
    {
     "name": "stdout",
     "output_type": "stream",
     "text": [
      "              effectif\n",
      "contCode              \n",
      "SouthAmerica        21\n",
      "Asia                37\n",
      "NorthAmerica       340\n",
      "Europe            4640\n"
     ]
    }
   ],
   "source": [
    "\n",
    "\n",
    "### Regrouper et compter\n",
    "df_contCode = df_p.groupby('contCode').size()\n",
    "df_contCode = pd.DataFrame(df_contCode.sort_values(ascending = True))\n",
    "#df_contCode.reset_index(inplace=True)\n",
    "df_contCode.columns=['effectif']\n",
    "print(df_contCode)\n",
    "\n"
   ]
  },
  {
   "cell_type": "code",
   "execution_count": 269,
   "id": "2656d4b0",
   "metadata": {
    "execution": {
     "iopub.execute_input": "2025-08-23T12:56:59.380561Z",
     "iopub.status.busy": "2025-08-23T12:56:59.379598Z",
     "iopub.status.idle": "2025-08-23T12:56:59.405755Z",
     "shell.execute_reply": "2025-08-23T12:56:59.403174Z",
     "shell.execute_reply.started": "2025-08-23T12:56:59.380484Z"
    }
   },
   "outputs": [
    {
     "data": {
      "text/html": [
       "<div>\n",
       "<style scoped>\n",
       "    .dataframe tbody tr th:only-of-type {\n",
       "        vertical-align: middle;\n",
       "    }\n",
       "\n",
       "    .dataframe tbody tr th {\n",
       "        vertical-align: top;\n",
       "    }\n",
       "\n",
       "    .dataframe thead th {\n",
       "        text-align: right;\n",
       "    }\n",
       "</style>\n",
       "<table border=\"1\" class=\"dataframe\">\n",
       "  <thead>\n",
       "    <tr style=\"text-align: right;\">\n",
       "      <th></th>\n",
       "      <th>effectif</th>\n",
       "      <th>frequence</th>\n",
       "    </tr>\n",
       "    <tr>\n",
       "      <th>contCode</th>\n",
       "      <th></th>\n",
       "      <th></th>\n",
       "    </tr>\n",
       "  </thead>\n",
       "  <tbody>\n",
       "    <tr>\n",
       "      <th>SouthAmerica</th>\n",
       "      <td>21</td>\n",
       "      <td>0.42</td>\n",
       "    </tr>\n",
       "    <tr>\n",
       "      <th>Asia</th>\n",
       "      <td>37</td>\n",
       "      <td>0.73</td>\n",
       "    </tr>\n",
       "    <tr>\n",
       "      <th>NorthAmerica</th>\n",
       "      <td>340</td>\n",
       "      <td>6.75</td>\n",
       "    </tr>\n",
       "    <tr>\n",
       "      <th>Europe</th>\n",
       "      <td>4640</td>\n",
       "      <td>92.10</td>\n",
       "    </tr>\n",
       "  </tbody>\n",
       "</table>\n",
       "</div>"
      ],
      "text/plain": [
       "              effectif  frequence\n",
       "contCode                         \n",
       "SouthAmerica        21       0.42\n",
       "Asia                37       0.73\n",
       "NorthAmerica       340       6.75\n",
       "Europe            4640      92.10"
      ]
     },
     "execution_count": 269,
     "metadata": {},
     "output_type": "execute_result"
    }
   ],
   "source": [
    "\n",
    "\n",
    "df_contCode['frequence'] = (100 * df_contCode['effectif'] \\\n",
    "                                   / df_contCode['effectif'].sum()).round(2)\n",
    "df_contCode\n",
    "\n"
   ]
  },
  {
   "cell_type": "code",
   "execution_count": 270,
   "id": "e39f1006",
   "metadata": {
    "execution": {
     "iopub.execute_input": "2025-08-23T12:57:00.477211Z",
     "iopub.status.busy": "2025-08-23T12:57:00.476212Z",
     "iopub.status.idle": "2025-08-23T12:57:00.505824Z",
     "shell.execute_reply": "2025-08-23T12:57:00.503991Z",
     "shell.execute_reply.started": "2025-08-23T12:57:00.477136Z"
    }
   },
   "outputs": [
    {
     "data": {
      "text/html": [
       "<div>\n",
       "<style scoped>\n",
       "    .dataframe tbody tr th:only-of-type {\n",
       "        vertical-align: middle;\n",
       "    }\n",
       "\n",
       "    .dataframe tbody tr th {\n",
       "        vertical-align: top;\n",
       "    }\n",
       "\n",
       "    .dataframe thead th {\n",
       "        text-align: right;\n",
       "    }\n",
       "</style>\n",
       "<table border=\"1\" class=\"dataframe\">\n",
       "  <thead>\n",
       "    <tr style=\"text-align: right;\">\n",
       "      <th>contCode</th>\n",
       "      <th>Europe</th>\n",
       "      <th>NorthAmerica</th>\n",
       "      <th>Asia</th>\n",
       "      <th>SouthAmerica</th>\n",
       "    </tr>\n",
       "  </thead>\n",
       "  <tbody>\n",
       "    <tr>\n",
       "      <th>frequence</th>\n",
       "      <td>92.1</td>\n",
       "      <td>6.75</td>\n",
       "      <td>0.73</td>\n",
       "      <td>0.42</td>\n",
       "    </tr>\n",
       "  </tbody>\n",
       "</table>\n",
       "</div>"
      ],
      "text/plain": [
       "contCode   Europe  NorthAmerica  Asia  SouthAmerica\n",
       "frequence    92.1          6.75  0.73          0.42"
      ]
     },
     "execution_count": 270,
     "metadata": {},
     "output_type": "execute_result"
    }
   ],
   "source": [
    "\n",
    "ljt = pd.DataFrame(df_contCode['frequence'].sort_values(ascending=False)).T\n",
    "ljt\n",
    "\n"
   ]
  },
  {
   "cell_type": "code",
   "execution_count": 271,
   "id": "05913d25",
   "metadata": {
    "execution": {
     "iopub.execute_input": "2025-08-23T12:57:01.616504Z",
     "iopub.status.busy": "2025-08-23T12:57:01.614515Z",
     "iopub.status.idle": "2025-08-23T12:57:01.627872Z",
     "shell.execute_reply": "2025-08-23T12:57:01.625103Z",
     "shell.execute_reply.started": "2025-08-23T12:57:01.616423Z"
    }
   },
   "outputs": [],
   "source": [
    "### Définir les couleurs en fonction des continents\n",
    "# Noter que cette liste des couleurs et continents\n",
    "# doit être adaptée à l'ordre de tri des données \n",
    "# dans le graphique\n",
    "col_palette = [\n",
    "    \"#DCDCDC\",  # Gainsboro : Europe\n",
    "    \"#cd5c5c\",  # Indian Red : NorthAmerica\n",
    "    \"#F4A261\",  # Light Coral: Asia\n",
    "    \"#F6E58D\",  # Light Yellow :SouthAmerica\n",
    "    \"#B2E0B2\",  # Light Green : Oceania\n",
    "    \"#A3C1DA\",  # Light Blue : Africa    \n",
    "\n",
    "]\n"
   ]
  },
  {
   "cell_type": "code",
   "execution_count": 272,
   "id": "30068cc8",
   "metadata": {
    "execution": {
     "iopub.execute_input": "2025-08-23T12:57:02.130094Z",
     "iopub.status.busy": "2025-08-23T12:57:02.129212Z",
     "iopub.status.idle": "2025-08-23T12:57:02.442565Z",
     "shell.execute_reply": "2025-08-23T12:57:02.441047Z",
     "shell.execute_reply.started": "2025-08-23T12:57:02.130021Z"
    }
   },
   "outputs": [
    {
     "data": {
      "image/png": "[encoded data removed]",
      "text/plain": [
       "<Figure size 1500x300 with 1 Axes>"
      ]
     },
     "metadata": {},
     "output_type": "display_data"
    }
   ],
   "source": [
    "\n",
    "\n",
    "### Pandas plot reference\n",
    "# https://pandas.pydata.org/pandas-docs/stable/reference/api/pandas.DataFrame.plot.html\n",
    "## Barplots\n",
    "# https://www.shanelynn.ie/bar-plots-in-python-using-pandas-dataframes/\n",
    "\n",
    "fig = ljt.plot(kind='barh', stacked=True, figsize=(15,3), color=col_palette, width=0.2, xlim=[0,100])"
   ]
  },
  {
   "cell_type": "markdown",
   "id": "c60b84a9-99a7-46b0-8ae9-11bf26128fe7",
   "metadata": {},
   "source": [
    "### Codage par période de vingts-cing ans"
   ]
  },
  {
   "cell_type": "code",
   "execution_count": 273,
   "id": "7c29f5c0-bf9f-444d-be57-2d39bf882e23",
   "metadata": {
    "execution": {
     "iopub.execute_input": "2025-08-23T12:57:04.839163Z",
     "iopub.status.busy": "2025-08-23T12:57:04.838215Z",
     "iopub.status.idle": "2025-08-23T12:57:04.853229Z",
     "shell.execute_reply": "2025-08-23T12:57:04.850809Z",
     "shell.execute_reply.started": "2025-08-23T12:57:04.839085Z"
    },
    "tags": []
   },
   "outputs": [
    {
     "name": "stdout",
     "output_type": "stream",
     "text": [
      "[1751, 1776, 1801, 1826, 1851] [1901, 1926, 1951, 1976, 2001] 10\n"
     ]
    }
   ],
   "source": [
    "### Créer une liste d'années pour séparer en périodes de 25 ans\n",
    "# noter que la dernière année sera exclue, \n",
    "# elle donc doit être supérieure à la valeur maximale \n",
    "l_25 = list(range(1751, 2025, 25))\n",
    "print(l_25[:5],l_25[-5:], len(l_25)-1)"
   ]
  },
  {
   "cell_type": "code",
   "execution_count": 274,
   "id": "e37bca9e",
   "metadata": {
    "execution": {
     "iopub.execute_input": "2025-08-23T12:57:05.422472Z",
     "iopub.status.busy": "2025-08-23T12:57:05.421580Z",
     "iopub.status.idle": "2025-08-23T12:57:05.446254Z",
     "shell.execute_reply": "2025-08-23T12:57:05.444139Z",
     "shell.execute_reply.started": "2025-08-23T12:57:05.422397Z"
    }
   },
   "outputs": [],
   "source": [
    "### Transformer les années de naissance en entiers\n",
    "df_p.birthYear = df_p.birthYear.apply(lambda x : int(x))"
   ]
  },
  {
   "cell_type": "code",
   "execution_count": 275,
   "id": "06ab381e-f317-4767-9790-a9fcbfcb1853",
   "metadata": {
    "execution": {
     "iopub.execute_input": "2025-08-23T12:57:05.945083Z",
     "iopub.status.busy": "2025-08-23T12:57:05.944191Z",
     "iopub.status.idle": "2025-08-23T12:57:05.981259Z",
     "shell.execute_reply": "2025-08-23T12:57:05.979681Z",
     "shell.execute_reply.started": "2025-08-23T12:57:05.945009Z"
    }
   },
   "outputs": [
    {
     "data": {
      "text/html": [
       "<div>\n",
       "<style scoped>\n",
       "    .dataframe tbody tr th:only-of-type {\n",
       "        vertical-align: middle;\n",
       "    }\n",
       "\n",
       "    .dataframe tbody tr th {\n",
       "        vertical-align: top;\n",
       "    }\n",
       "\n",
       "    .dataframe thead th {\n",
       "        text-align: right;\n",
       "    }\n",
       "</style>\n",
       "<table border=\"1\" class=\"dataframe\">\n",
       "  <thead>\n",
       "    <tr style=\"text-align: right;\">\n",
       "      <th></th>\n",
       "      <th>personUri</th>\n",
       "      <th>personLabel</th>\n",
       "      <th>birthYear</th>\n",
       "      <th>genderUri</th>\n",
       "      <th>continents</th>\n",
       "      <th>contCode</th>\n",
       "      <th>per_25</th>\n",
       "    </tr>\n",
       "  </thead>\n",
       "  <tbody>\n",
       "    <tr>\n",
       "      <th>0</th>\n",
       "      <td>http://www.wikidata.org/entity/Q54553381</td>\n",
       "      <td>Waverly Lowell</td>\n",
       "      <td>1951</td>\n",
       "      <td>http://www.wikidata.org/entity/Q6581072</td>\n",
       "      <td>North America</td>\n",
       "      <td>NorthAmerica</td>\n",
       "      <td>1951-1975</td>\n",
       "    </tr>\n",
       "    <tr>\n",
       "      <th>1</th>\n",
       "      <td>http://www.wikidata.org/entity/Q20164843</td>\n",
       "      <td>Günter Buchstab</td>\n",
       "      <td>1944</td>\n",
       "      <td>http://www.wikidata.org/entity/Q6581097</td>\n",
       "      <td>Europe</td>\n",
       "      <td>Europe</td>\n",
       "      <td>1926-1950</td>\n",
       "    </tr>\n",
       "    <tr>\n",
       "      <th>2</th>\n",
       "      <td>http://www.wikidata.org/entity/Q2637717</td>\n",
       "      <td>Albert Bruckner</td>\n",
       "      <td>1904</td>\n",
       "      <td>http://www.wikidata.org/entity/Q6581097</td>\n",
       "      <td>Europe</td>\n",
       "      <td>Europe</td>\n",
       "      <td>1901-1925</td>\n",
       "    </tr>\n",
       "  </tbody>\n",
       "</table>\n",
       "</div>"
      ],
      "text/plain": [
       "                                  personUri      personLabel  birthYear  \\\n",
       "0  http://www.wikidata.org/entity/Q54553381   Waverly Lowell       1951   \n",
       "1  http://www.wikidata.org/entity/Q20164843  Günter Buchstab       1944   \n",
       "2   http://www.wikidata.org/entity/Q2637717  Albert Bruckner       1904   \n",
       "\n",
       "                                 genderUri     continents      contCode  \\\n",
       "0  http://www.wikidata.org/entity/Q6581072  North America  NorthAmerica   \n",
       "1  http://www.wikidata.org/entity/Q6581097         Europe        Europe   \n",
       "2  http://www.wikidata.org/entity/Q6581097         Europe        Europe   \n",
       "\n",
       "      per_25  \n",
       "0  1951-1975  \n",
       "1  1926-1950  \n",
       "2  1901-1925  "
      ]
     },
     "execution_count": 275,
     "metadata": {},
     "output_type": "execute_result"
    }
   ],
   "source": [
    "### fonction pd.cut : https://pandas.pydata.org/pandas-docs/stable/reference/api/pandas.cut.html\n",
    "# On ajoute une nouvelle colonne qui contient la période sur la base de la liste précédente\n",
    "# et de la valeur de l'année\n",
    "\n",
    "df_p['per_25'] = pd.cut(df_p['birthYear'], l_25, right=False)\n",
    "\n",
    "### Transformer le code ajouté pour qu'il soit plus lisible\n",
    "# noter qu'on a arrondi les valeurs\n",
    "df_p['per_25'] = df_p['per_25'].apply(lambda x : str(int(x.left))+'-'+ str(int(x.right)-1))\n",
    "\n",
    "# Inspection\n",
    "df_p.head(3)"
   ]
  },
  {
   "cell_type": "code",
   "execution_count": 276,
   "id": "4e943cfe-40d8-49c0-afa1-a55f964f657a",
   "metadata": {
    "execution": {
     "iopub.execute_input": "2025-08-23T12:57:07.374531Z",
     "iopub.status.busy": "2025-08-23T12:57:07.373610Z",
     "iopub.status.idle": "2025-08-23T12:57:07.392961Z",
     "shell.execute_reply": "2025-08-23T12:57:07.390620Z",
     "shell.execute_reply.started": "2025-08-23T12:57:07.374456Z"
    }
   },
   "outputs": [
    {
     "name": "stdout",
     "output_type": "stream",
     "text": [
      "per_25\n",
      "1851-1875     645\n",
      "1876-1900     860\n",
      "1901-1925    1160\n",
      "1926-1950    1206\n",
      "1951-1975     983\n",
      "1976-2000     184\n",
      "dtype: int64\n"
     ]
    }
   ],
   "source": [
    "### distribution des naissances par périodes de 25 ans\n",
    "naissances_per = df_p.groupby(by='per_25',observed=True).size()\n",
    "print(naissances_per)"
   ]
  },
  {
   "cell_type": "code",
   "execution_count": 277,
   "id": "9a1dd793-210a-42c3-b68b-d0e1756277d1",
   "metadata": {
    "execution": {
     "iopub.execute_input": "2025-08-23T12:57:09.151629Z",
     "iopub.status.busy": "2025-08-23T12:57:09.150620Z",
     "iopub.status.idle": "2025-08-23T12:57:09.433998Z",
     "shell.execute_reply": "2025-08-23T12:57:09.431659Z",
     "shell.execute_reply.started": "2025-08-23T12:57:09.151553Z"
    }
   },
   "outputs": [
    {
     "data": {
      "image/png": "[encoded data removed]",
      "text/plain": [
       "<Figure size 1600x800 with 1 Axes>"
      ]
     },
     "metadata": {},
     "output_type": "display_data"
    }
   ],
   "source": [
    "### Diagramme à barres représentant la distribution par 'génération'\n",
    "ax = df_p.groupby(by='per_25',observed=True).size().plot(kind='bar',rot=60, fontsize=8, figsize=(16,8))\n",
    "plt.ylabel('Effectif')\n",
    "plt.xlabel('Périodes')\n",
    "plt.title('Naissances par périodes de vingts-cinq ans')\n",
    "plt.show()"
   ]
  },
  {
   "cell_type": "markdown",
   "id": "7d3da8ee-300d-4fb8-be6e-384e1e4186ef",
   "metadata": {},
   "source": [
    "## Ajouter la représentation des continents"
   ]
  },
  {
   "cell_type": "code",
   "execution_count": 278,
   "id": "5fe3105a",
   "metadata": {
    "execution": {
     "iopub.execute_input": "2025-08-23T12:57:11.306419Z",
     "iopub.status.busy": "2025-08-23T12:57:11.304642Z",
     "iopub.status.idle": "2025-08-23T12:57:11.321059Z",
     "shell.execute_reply": "2025-08-23T12:57:11.318697Z",
     "shell.execute_reply.started": "2025-08-23T12:57:11.306285Z"
    }
   },
   "outputs": [
    {
     "name": "stdout",
     "output_type": "stream",
     "text": [
      "['Asia', 'NorthAmerica', 'SouthAmerica']\n"
     ]
    }
   ],
   "source": [
    "lcont = list(sorted(set(df_p.contCode.to_list())))\n",
    "lcont.remove('Europe')\n",
    "print(lcont)"
   ]
  },
  {
   "cell_type": "code",
   "execution_count": 279,
   "id": "a4371393",
   "metadata": {
    "execution": {
     "iopub.execute_input": "2025-08-23T12:57:12.271106Z",
     "iopub.status.busy": "2025-08-23T12:57:12.269644Z",
     "iopub.status.idle": "2025-08-23T12:57:12.297397Z",
     "shell.execute_reply": "2025-08-23T12:57:12.296589Z",
     "shell.execute_reply.started": "2025-08-23T12:57:12.271023Z"
    }
   },
   "outputs": [
    {
     "data": {
      "text/html": [
       "<div>\n",
       "<style scoped>\n",
       "    .dataframe tbody tr th:only-of-type {\n",
       "        vertical-align: middle;\n",
       "    }\n",
       "\n",
       "    .dataframe tbody tr th {\n",
       "        vertical-align: top;\n",
       "    }\n",
       "\n",
       "    .dataframe thead th {\n",
       "        text-align: right;\n",
       "    }\n",
       "</style>\n",
       "<table border=\"1\" class=\"dataframe\">\n",
       "  <thead>\n",
       "    <tr style=\"text-align: right;\">\n",
       "      <th></th>\n",
       "      <th>Europe</th>\n",
       "    </tr>\n",
       "    <tr>\n",
       "      <th>per_25</th>\n",
       "      <th></th>\n",
       "    </tr>\n",
       "  </thead>\n",
       "  <tbody>\n",
       "    <tr>\n",
       "      <th>1876-1900</th>\n",
       "      <td>811</td>\n",
       "    </tr>\n",
       "    <tr>\n",
       "      <th>1901-1925</th>\n",
       "      <td>1067</td>\n",
       "    </tr>\n",
       "    <tr>\n",
       "      <th>1926-1950</th>\n",
       "      <td>1088</td>\n",
       "    </tr>\n",
       "    <tr>\n",
       "      <th>1951-1975</th>\n",
       "      <td>915</td>\n",
       "    </tr>\n",
       "    <tr>\n",
       "      <th>1976-2000</th>\n",
       "      <td>168</td>\n",
       "    </tr>\n",
       "  </tbody>\n",
       "</table>\n",
       "</div>"
      ],
      "text/plain": [
       "           Europe\n",
       "per_25           \n",
       "1876-1900     811\n",
       "1901-1925    1067\n",
       "1926-1950    1088\n",
       "1951-1975     915\n",
       "1976-2000     168"
      ]
     },
     "execution_count": 279,
     "metadata": {},
     "output_type": "execute_result"
    }
   ],
   "source": [
    "### Regrouper et compter avec un fitre sur le continent 'Europe'\n",
    "merged = pd.DataFrame(df_p[df_p.contCode == 'Europe'].groupby('per_25',observed=True).size())\n",
    "merged.columns = ['Europe']\n",
    "merged.tail()\n",
    "\n"
   ]
  },
  {
   "cell_type": "code",
   "execution_count": 280,
   "id": "b03dab9c",
   "metadata": {
    "execution": {
     "iopub.execute_input": "2025-08-23T12:57:15.118396Z",
     "iopub.status.busy": "2025-08-23T12:57:15.116446Z",
     "iopub.status.idle": "2025-08-23T12:57:15.159698Z",
     "shell.execute_reply": "2025-08-23T12:57:15.158440Z",
     "shell.execute_reply.started": "2025-08-23T12:57:15.118255Z"
    }
   },
   "outputs": [
    {
     "data": {
      "text/html": [
       "<div>\n",
       "<style scoped>\n",
       "    .dataframe tbody tr th:only-of-type {\n",
       "        vertical-align: middle;\n",
       "    }\n",
       "\n",
       "    .dataframe tbody tr th {\n",
       "        vertical-align: top;\n",
       "    }\n",
       "\n",
       "    .dataframe thead th {\n",
       "        text-align: right;\n",
       "    }\n",
       "</style>\n",
       "<table border=\"1\" class=\"dataframe\">\n",
       "  <thead>\n",
       "    <tr style=\"text-align: right;\">\n",
       "      <th></th>\n",
       "      <th>Europe</th>\n",
       "      <th>Asia</th>\n",
       "      <th>NorthAmerica</th>\n",
       "      <th>SouthAmerica</th>\n",
       "    </tr>\n",
       "    <tr>\n",
       "      <th>per_25</th>\n",
       "      <th></th>\n",
       "      <th></th>\n",
       "      <th></th>\n",
       "      <th></th>\n",
       "    </tr>\n",
       "  </thead>\n",
       "  <tbody>\n",
       "    <tr>\n",
       "      <th>1876-1900</th>\n",
       "      <td>811</td>\n",
       "      <td>1</td>\n",
       "      <td>47</td>\n",
       "      <td>1</td>\n",
       "    </tr>\n",
       "    <tr>\n",
       "      <th>1901-1925</th>\n",
       "      <td>1067</td>\n",
       "      <td>11</td>\n",
       "      <td>81</td>\n",
       "      <td>1</td>\n",
       "    </tr>\n",
       "    <tr>\n",
       "      <th>1926-1950</th>\n",
       "      <td>1088</td>\n",
       "      <td>15</td>\n",
       "      <td>95</td>\n",
       "      <td>8</td>\n",
       "    </tr>\n",
       "    <tr>\n",
       "      <th>1951-1975</th>\n",
       "      <td>915</td>\n",
       "      <td>8</td>\n",
       "      <td>53</td>\n",
       "      <td>7</td>\n",
       "    </tr>\n",
       "    <tr>\n",
       "      <th>1976-2000</th>\n",
       "      <td>168</td>\n",
       "      <td>2</td>\n",
       "      <td>12</td>\n",
       "      <td>2</td>\n",
       "    </tr>\n",
       "  </tbody>\n",
       "</table>\n",
       "</div>"
      ],
      "text/plain": [
       "           Europe  Asia  NorthAmerica  SouthAmerica\n",
       "per_25                                             \n",
       "1876-1900     811     1            47             1\n",
       "1901-1925    1067    11            81             1\n",
       "1926-1950    1088    15            95             8\n",
       "1951-1975     915     8            53             7\n",
       "1976-2000     168     2            12             2"
      ]
     },
     "execution_count": 280,
     "metadata": {},
     "output_type": "execute_result"
    }
   ],
   "source": [
    "### Ajouter les distributions des autres continents\n",
    "for cont in lcont:\n",
    "    new_df = pd.DataFrame(df_p[df_p.contCode == cont].groupby('per_25',observed=True).size())\n",
    "    new_df.columns = [cont]\n",
    "    merged = pd.merge(merged, new_df, left_index=True, right_index=True)\n",
    "\n",
    "merged    \n",
    "    "
   ]
  },
  {
   "cell_type": "code",
   "execution_count": 281,
   "id": "60190e17-c1df-4a22-9ec9-be6b77108c46",
   "metadata": {
    "execution": {
     "iopub.execute_input": "2025-08-23T12:57:15.939126Z",
     "iopub.status.busy": "2025-08-23T12:57:15.936676Z",
     "iopub.status.idle": "2025-08-23T12:57:15.965401Z",
     "shell.execute_reply": "2025-08-23T12:57:15.962995Z",
     "shell.execute_reply.started": "2025-08-23T12:57:15.939043Z"
    }
   },
   "outputs": [
    {
     "data": {
      "text/html": [
       "<div>\n",
       "<style scoped>\n",
       "    .dataframe tbody tr th:only-of-type {\n",
       "        vertical-align: middle;\n",
       "    }\n",
       "\n",
       "    .dataframe tbody tr th {\n",
       "        vertical-align: top;\n",
       "    }\n",
       "\n",
       "    .dataframe thead th {\n",
       "        text-align: right;\n",
       "    }\n",
       "</style>\n",
       "<table border=\"1\" class=\"dataframe\">\n",
       "  <thead>\n",
       "    <tr style=\"text-align: right;\">\n",
       "      <th></th>\n",
       "      <th>Europe</th>\n",
       "      <th>Asia</th>\n",
       "      <th>NorthAmerica</th>\n",
       "      <th>SouthAmerica</th>\n",
       "    </tr>\n",
       "    <tr>\n",
       "      <th>per_25</th>\n",
       "      <th></th>\n",
       "      <th></th>\n",
       "      <th></th>\n",
       "      <th></th>\n",
       "    </tr>\n",
       "  </thead>\n",
       "  <tbody>\n",
       "    <tr>\n",
       "      <th>1876-1900</th>\n",
       "      <td>811</td>\n",
       "      <td>1</td>\n",
       "      <td>47</td>\n",
       "      <td>1</td>\n",
       "    </tr>\n",
       "    <tr>\n",
       "      <th>1901-1925</th>\n",
       "      <td>1067</td>\n",
       "      <td>11</td>\n",
       "      <td>81</td>\n",
       "      <td>1</td>\n",
       "    </tr>\n",
       "    <tr>\n",
       "      <th>1926-1950</th>\n",
       "      <td>1088</td>\n",
       "      <td>15</td>\n",
       "      <td>95</td>\n",
       "      <td>8</td>\n",
       "    </tr>\n",
       "    <tr>\n",
       "      <th>1951-1975</th>\n",
       "      <td>915</td>\n",
       "      <td>8</td>\n",
       "      <td>53</td>\n",
       "      <td>7</td>\n",
       "    </tr>\n",
       "    <tr>\n",
       "      <th>1976-2000</th>\n",
       "      <td>168</td>\n",
       "      <td>2</td>\n",
       "      <td>12</td>\n",
       "      <td>2</td>\n",
       "    </tr>\n",
       "  </tbody>\n",
       "</table>\n",
       "</div>"
      ],
      "text/plain": [
       "           Europe  Asia  NorthAmerica  SouthAmerica\n",
       "per_25                                             \n",
       "1876-1900     811     1            47             1\n",
       "1901-1925    1067    11            81             1\n",
       "1926-1950    1088    15            95             8\n",
       "1951-1975     915     8            53             7\n",
       "1976-2000     168     2            12             2"
      ]
     },
     "execution_count": 281,
     "metadata": {},
     "output_type": "execute_result"
    }
   ],
   "source": [
    "### Transformer l'index en chaîne de caractères\n",
    "# ce qui est indispensable pour l'affichage dans un graphique\n",
    "merged.index = merged.index.map(str)\n",
    "merged"
   ]
  },
  {
   "cell_type": "code",
   "execution_count": 282,
   "id": "9d8aeeb8",
   "metadata": {
    "execution": {
     "iopub.execute_input": "2025-08-23T12:57:16.913591Z",
     "iopub.status.busy": "2025-08-23T12:57:16.912644Z",
     "iopub.status.idle": "2025-08-23T12:57:16.925124Z",
     "shell.execute_reply": "2025-08-23T12:57:16.922433Z",
     "shell.execute_reply.started": "2025-08-23T12:57:16.913516Z"
    }
   },
   "outputs": [],
   "source": [
    "### Adapter à l'ordre des colonnes\n",
    "col_palette_1 = [\n",
    "    \"#DCDCDC\",  # Gainsboro : Europe\n",
    "    \"#cd5c5c\",  # Indian Red : NorthAmerica\n",
    "    \"#B2E0B2\",  # Light Green : Oceania\n",
    "    \"#F6E58D\",  # Light Yellow : SouthAmerica\n",
    "    \n",
    "]\n"
   ]
  },
  {
   "cell_type": "code",
   "execution_count": 283,
   "id": "d188f96f-feca-464b-b338-f87e3c9cb23b",
   "metadata": {
    "execution": {
     "iopub.execute_input": "2025-08-23T12:57:17.686993Z",
     "iopub.status.busy": "2025-08-23T12:57:17.685152Z",
     "iopub.status.idle": "2025-08-23T12:57:17.978839Z",
     "shell.execute_reply": "2025-08-23T12:57:17.977574Z",
     "shell.execute_reply.started": "2025-08-23T12:57:17.686914Z"
    }
   },
   "outputs": [
    {
     "data": {
      "image/png": "[encoded data removed]",
      "text/plain": [
       "<Figure size 1000x800 with 1 Axes>"
      ]
     },
     "metadata": {},
     "output_type": "display_data"
    }
   ],
   "source": [
    "### Représenter l'évolution de la distribution dans le temps par continent\n",
    "#  Documentation\n",
    "# https://pandas.pydata.org/pandas-docs/stable/reference/api/pandas.DataFrame.plot.bar.html\n",
    "\n",
    "data = merged\n",
    "\n",
    "ax = data.plot.bar(stacked=True, rot=70, fontsize=9, figsize=(10,8), \n",
    "                     color=col_palette_1)\n",
    "plt.title('Distribution des naissances par génération et continent')\n",
    "\n",
    "## https://stackoverflow.com/questions/71320380/add-only-the-total-values-on-top-of-stacked-bars\n",
    "ax.bar_label(ax.containers[-1])\n",
    "\n",
    "plt.show()"
   ]
  },
  {
   "cell_type": "markdown",
   "id": "1ea74235",
   "metadata": {},
   "source": [
    "## Représentation des mêmes informations avec une graphique décomposé\n",
    "\n",
    "\n"
   ]
  },
  {
   "cell_type": "code",
   "execution_count": 284,
   "id": "bb96fbac",
   "metadata": {
    "execution": {
     "iopub.execute_input": "2025-08-23T12:57:21.227952Z",
     "iopub.status.busy": "2025-08-23T12:57:21.225675Z",
     "iopub.status.idle": "2025-08-23T12:57:21.250762Z",
     "shell.execute_reply": "2025-08-23T12:57:21.248745Z",
     "shell.execute_reply.started": "2025-08-23T12:57:21.227863Z"
    }
   },
   "outputs": [
    {
     "data": {
      "text/html": [
       "<div>\n",
       "<style scoped>\n",
       "    .dataframe tbody tr th:only-of-type {\n",
       "        vertical-align: middle;\n",
       "    }\n",
       "\n",
       "    .dataframe tbody tr th {\n",
       "        vertical-align: top;\n",
       "    }\n",
       "\n",
       "    .dataframe thead th {\n",
       "        text-align: right;\n",
       "    }\n",
       "</style>\n",
       "<table border=\"1\" class=\"dataframe\">\n",
       "  <thead>\n",
       "    <tr style=\"text-align: right;\">\n",
       "      <th></th>\n",
       "      <th>Europe</th>\n",
       "      <th>Asia</th>\n",
       "      <th>NorthAmerica</th>\n",
       "      <th>SouthAmerica</th>\n",
       "    </tr>\n",
       "    <tr>\n",
       "      <th>per_25</th>\n",
       "      <th></th>\n",
       "      <th></th>\n",
       "      <th></th>\n",
       "      <th></th>\n",
       "    </tr>\n",
       "  </thead>\n",
       "  <tbody>\n",
       "    <tr>\n",
       "      <th>1876-1900</th>\n",
       "      <td>811</td>\n",
       "      <td>1</td>\n",
       "      <td>47</td>\n",
       "      <td>1</td>\n",
       "    </tr>\n",
       "    <tr>\n",
       "      <th>1901-1925</th>\n",
       "      <td>1067</td>\n",
       "      <td>11</td>\n",
       "      <td>81</td>\n",
       "      <td>1</td>\n",
       "    </tr>\n",
       "    <tr>\n",
       "      <th>1926-1950</th>\n",
       "      <td>1088</td>\n",
       "      <td>15</td>\n",
       "      <td>95</td>\n",
       "      <td>8</td>\n",
       "    </tr>\n",
       "    <tr>\n",
       "      <th>1951-1975</th>\n",
       "      <td>915</td>\n",
       "      <td>8</td>\n",
       "      <td>53</td>\n",
       "      <td>7</td>\n",
       "    </tr>\n",
       "    <tr>\n",
       "      <th>1976-2000</th>\n",
       "      <td>168</td>\n",
       "      <td>2</td>\n",
       "      <td>12</td>\n",
       "      <td>2</td>\n",
       "    </tr>\n",
       "  </tbody>\n",
       "</table>\n",
       "</div>"
      ],
      "text/plain": [
       "           Europe  Asia  NorthAmerica  SouthAmerica\n",
       "per_25                                             \n",
       "1876-1900     811     1            47             1\n",
       "1901-1925    1067    11            81             1\n",
       "1926-1950    1088    15            95             8\n",
       "1951-1975     915     8            53             7\n",
       "1976-2000     168     2            12             2"
      ]
     },
     "execution_count": 284,
     "metadata": {},
     "output_type": "execute_result"
    }
   ],
   "source": [
    "## L'information à représenter (la distribution des effectifs)\n",
    "merged"
   ]
  },
  {
   "cell_type": "code",
   "execution_count": 285,
   "id": "d771329e",
   "metadata": {
    "execution": {
     "iopub.execute_input": "2025-08-23T12:57:22.168200Z",
     "iopub.status.busy": "2025-08-23T12:57:22.166098Z",
     "iopub.status.idle": "2025-08-23T12:57:22.200893Z",
     "shell.execute_reply": "2025-08-23T12:57:22.199446Z",
     "shell.execute_reply.started": "2025-08-23T12:57:22.168114Z"
    }
   },
   "outputs": [
    {
     "data": {
      "text/html": [
       "<div>\n",
       "<style scoped>\n",
       "    .dataframe tbody tr th:only-of-type {\n",
       "        vertical-align: middle;\n",
       "    }\n",
       "\n",
       "    .dataframe tbody tr th {\n",
       "        vertical-align: top;\n",
       "    }\n",
       "\n",
       "    .dataframe thead th {\n",
       "        text-align: right;\n",
       "    }\n",
       "</style>\n",
       "<table border=\"1\" class=\"dataframe\">\n",
       "  <thead>\n",
       "    <tr style=\"text-align: right;\">\n",
       "      <th></th>\n",
       "      <th>Europe</th>\n",
       "      <th>Asia</th>\n",
       "      <th>NorthAmerica</th>\n",
       "      <th>SouthAmerica</th>\n",
       "    </tr>\n",
       "    <tr>\n",
       "      <th>per_25</th>\n",
       "      <th></th>\n",
       "      <th></th>\n",
       "      <th></th>\n",
       "      <th></th>\n",
       "    </tr>\n",
       "  </thead>\n",
       "  <tbody>\n",
       "    <tr>\n",
       "      <th>1876-1900</th>\n",
       "      <td>94.3</td>\n",
       "      <td>0.1</td>\n",
       "      <td>5.5</td>\n",
       "      <td>0.1</td>\n",
       "    </tr>\n",
       "    <tr>\n",
       "      <th>1901-1925</th>\n",
       "      <td>92.0</td>\n",
       "      <td>0.9</td>\n",
       "      <td>7.0</td>\n",
       "      <td>0.1</td>\n",
       "    </tr>\n",
       "    <tr>\n",
       "      <th>1926-1950</th>\n",
       "      <td>90.2</td>\n",
       "      <td>1.2</td>\n",
       "      <td>7.9</td>\n",
       "      <td>0.7</td>\n",
       "    </tr>\n",
       "    <tr>\n",
       "      <th>1951-1975</th>\n",
       "      <td>93.1</td>\n",
       "      <td>0.8</td>\n",
       "      <td>5.4</td>\n",
       "      <td>0.7</td>\n",
       "    </tr>\n",
       "    <tr>\n",
       "      <th>1976-2000</th>\n",
       "      <td>91.3</td>\n",
       "      <td>1.1</td>\n",
       "      <td>6.5</td>\n",
       "      <td>1.1</td>\n",
       "    </tr>\n",
       "  </tbody>\n",
       "</table>\n",
       "</div>"
      ],
      "text/plain": [
       "           Europe  Asia  NorthAmerica  SouthAmerica\n",
       "per_25                                             \n",
       "1876-1900    94.3   0.1           5.5           0.1\n",
       "1901-1925    92.0   0.9           7.0           0.1\n",
       "1926-1950    90.2   1.2           7.9           0.7\n",
       "1951-1975    93.1   0.8           5.4           0.7\n",
       "1976-2000    91.3   1.1           6.5           1.1"
      ]
     },
     "execution_count": 285,
     "metadata": {},
     "output_type": "execute_result"
    }
   ],
   "source": [
    "### Fréquences par période\n",
    "merged_prop = merged.apply(lambda x: (x / x.sum()) * 100, axis=1).round(1)\n",
    "merged_prop"
   ]
  },
  {
   "cell_type": "code",
   "execution_count": 286,
   "id": "cb4dc457",
   "metadata": {
    "execution": {
     "iopub.execute_input": "2025-08-23T12:57:23.773891Z",
     "iopub.status.busy": "2025-08-23T12:57:23.772890Z",
     "iopub.status.idle": "2025-08-23T12:57:24.615839Z",
     "shell.execute_reply": "2025-08-23T12:57:24.614494Z",
     "shell.execute_reply.started": "2025-08-23T12:57:23.773814Z"
    }
   },
   "outputs": [
    {
     "data": {
      "image/png": "[encoded data removed]",
      "text/plain": [
       "<Figure size 1000x1600 with 5 Axes>"
      ]
     },
     "metadata": {},
     "output_type": "display_data"
    }
   ],
   "source": [
    "### Graphique multiple\n",
    "#  Pandas plot reference\n",
    "# https://pandas.pydata.org/pandas-docs/stable/reference/api/pandas.DataFrame.plot.html\n",
    "## Barplots\n",
    "# https://www.shanelynn.ie/bar-plots-in-python-using-pandas-dataframes/\n",
    "\n",
    "\n",
    "lm = len(merged)\n",
    "\n",
    "# Initialise the subplot function using number of rows and columns\n",
    "#figure, axis = plt.subplots(lm, 1)\n",
    "\n",
    "fig, axes = plt.subplots(lm, 1, figsize=(10,16))\n",
    "\n",
    "i = 0\n",
    "\n",
    "while i < lm:\n",
    "    df = pd.DataFrame(merged.iloc[i , ])\n",
    "    df['frequence'] = (100 * df / df.sum()).round(2)\n",
    "    ljt = pd.DataFrame(df['frequence']).T\n",
    "    # print(ljt)\n",
    "    fig = ljt.plot(kind='barh', stacked=True, ax=axes[i], label=None, xlabel=None, \n",
    "                   fontsize=10, color=col_palette_1, width=0.3, xlim=[0,100])\n",
    "    fig.set_title(df.columns[0])\n",
    "    if (i+2)%2 != 0:\n",
    "        fig.get_legend().remove()\n",
    "    i += 1\n",
    "    \n",
    "\n",
    "plt.suptitle('Fréquence des naissances par continent: évolution dans le temps',  fontsize=14)\n",
    "             \n",
    "plt.tight_layout()  # rect=[0, 0.03, 1, 0.90]\n",
    "plt.xlabel('')\n",
    "\n",
    "   \n",
    "plt.show()\n",
    "\n",
    "\n"
   ]
  },
  {
   "cell_type": "code",
   "execution_count": 287,
   "id": "ef3915a5",
   "metadata": {
    "execution": {
     "iopub.execute_input": "2025-08-23T12:57:24.782212Z",
     "iopub.status.busy": "2025-08-23T12:57:24.781264Z",
     "iopub.status.idle": "2025-08-23T12:57:25.036541Z",
     "shell.execute_reply": "2025-08-23T12:57:25.034869Z",
     "shell.execute_reply.started": "2025-08-23T12:57:24.782138Z"
    }
   },
   "outputs": [
    {
     "data": {
      "image/png": "[encoded data removed]",
      "text/plain": [
       "<Figure size 1500x300 with 1 Axes>"
      ]
     },
     "metadata": {},
     "output_type": "display_data"
    }
   ],
   "source": [
    "\n",
    "### Comparer avec l'ensemble de la période !\n",
    "# Noter que la distribution  de la dernière tranche temporelle est quasiment la même pour l'ensemble de la période \n",
    "# du fait des effectifs très importants du 20e siècle, qui définissent la tendance générale\n",
    "\n",
    "fig = ljt.plot(kind='barh', stacked=True, figsize=(15,3), color=col_palette_1, width=0.2, xlim=[0,100])\n",
    "\n"
   ]
  },
  {
   "cell_type": "code",
   "execution_count": null,
   "id": "619694fd-b3df-4de8-917d-4d97a336d611",
   "metadata": {},
   "outputs": [],
   "source": []
  }
 ],
 "metadata": {
  "kernelspec": {
   "display_name": "sparql",
   "language": "python",
   "name": "sparql"
  },
  "language_info": {
   "codemirror_mode": {
    "name": "ipython",
    "version": 3
   },
   "file_extension": ".py",
   "mimetype": "text/x-python",
   "name": "python",
   "nbconvert_exporter": "python",
   "pygments_lexer": "ipython3",
   "version": "3.12.5"
  }
 },
 "nbformat": 4,
 "nbformat_minor": 5
}
