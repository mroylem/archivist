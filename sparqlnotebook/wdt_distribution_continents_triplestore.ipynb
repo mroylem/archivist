{
 "cells": [
  {
   "cell_type": "markdown",
   "id": "9150426b-5190-4539-8204-61253a0f1bd4",
   "metadata": {},
   "source": [
    "# Distribution des continents dans le temps \n",
    "\n",
    "Dans ce carnet est proposée une analyse de la distribution dans le temps des continents relatifs aux pays d'appartenance, en relation aux années de naissance de la population retenue.\n"
   ]
  },
  {
   "cell_type": "code",
   "execution_count": 14,
   "id": "231af92f-a7b1-479a-a734-0b8a9c0722e8",
   "metadata": {
    "execution": {
     "iopub.execute_input": "2025-08-19T19:09:20.547804Z",
     "iopub.status.busy": "2025-08-19T19:09:20.546658Z",
     "iopub.status.idle": "2025-08-19T19:09:20.561120Z",
     "shell.execute_reply": "2025-08-19T19:09:20.558460Z",
     "shell.execute_reply.started": "2025-08-19T19:09:20.547667Z"
    },
    "tags": []
   },
   "outputs": [],
   "source": [
    "### Librairie à installer dans l'environnement conda (si on exécute en local)\n",
    "# qui sera choisi pour exécuter le carnet\n",
    "from SPARQLWrapper import SPARQLWrapper, JSON, TURTLE, XML, RDFXML\n",
    "import pandas as pd\n",
    "\n",
    "import matplotlib.pyplot as plt\n",
    "import numpy as np"
   ]
  },
  {
   "cell_type": "code",
   "execution_count": 22,
   "id": "e6ce0f0e-db36-47cd-8015-a5bf33f0f7fa",
   "metadata": {
    "execution": {
     "iopub.execute_input": "2025-08-19T19:55:11.407521Z",
     "iopub.status.busy": "2025-08-19T19:55:11.406245Z",
     "iopub.status.idle": "2025-08-19T19:55:11.422785Z",
     "shell.execute_reply": "2025-08-19T19:55:11.420077Z",
     "shell.execute_reply.started": "2025-08-19T19:55:11.407419Z"
    },
    "tags": []
   },
   "outputs": [],
   "source": [
    "### Librairies déjà installées avec Python\n",
    "import pprint\n",
    "import csv\n",
    "import sys\n",
    "from importlib import reload\n",
    "import sqlite3 as sql\n",
    "\n",
    "import time\n",
    "import datetime\n",
    "from dateutil import parser\n",
    "\n",
    "\n",
    "from shutil import copyfile\n"
   ]
  },
  {
   "cell_type": "code",
   "execution_count": 23,
   "id": "9b90838d-2160-49e3-8adb-a67ff2cd112e",
   "metadata": {
    "execution": {
     "iopub.execute_input": "2025-08-19T19:55:11.720314Z",
     "iopub.status.busy": "2025-08-19T19:55:11.719389Z",
     "iopub.status.idle": "2025-08-19T19:55:11.733428Z",
     "shell.execute_reply": "2025-08-19T19:55:11.731095Z",
     "shell.execute_reply.started": "2025-08-19T19:55:11.720237Z"
    }
   },
   "outputs": [],
   "source": [
    "### Importer un module de fonctions crées ad hoc\n",
    "##  ATTENTION : le fichier 'sparql_functions.py' doit se trouver \n",
    "#   dans un dossier qui se situe dans le chemin ('path') de recherche\n",
    "#   vu par le présent carnet Jupyter afin que\n",
    "#   l'importation fonctionne correctement\n",
    "\n",
    "# Add parent directory to the path\n",
    "sys.path.insert(0, '..')\n",
    "\n",
    "### If you want to add the parent-parent directory,\n",
    "sys.path.insert(0, '../..')\n",
    "\n",
    "\n",
    "import sparql_functions as spqf"
   ]
  },
  {
   "cell_type": "markdown",
   "id": "3fe8665b-f64c-42bb-8786-4aee3673867c",
   "metadata": {},
   "source": [
    "## SPARQL Query qui récupère les données\n",
    "\n",
    "On exécute la requête grâce à une fonction de la librairie locale qui réalise la mise en forme"
   ]
  },
  {
   "cell_type": "code",
   "execution_count": 24,
   "id": "cf08874b-9ba0-4f5c-8eee-aebd9f0d0d26",
   "metadata": {
    "execution": {
     "iopub.execute_input": "2025-08-19T19:55:12.444258Z",
     "iopub.status.busy": "2025-08-19T19:55:12.443236Z",
     "iopub.status.idle": "2025-08-19T19:55:12.455665Z",
     "shell.execute_reply": "2025-08-19T19:55:12.452976Z",
     "shell.execute_reply.started": "2025-08-19T19:55:12.444179Z"
    }
   },
   "outputs": [],
   "source": [
    "## define SPARQL enpoint\n",
    "endpoint = \"https://ag1mdzaeq7qnj00h.allegrograph.cloud/repositories/archivist\""
   ]
  },
  {
   "cell_type": "code",
   "execution_count": 44,
   "id": "164e80e8-1834-473a-a605-a3c1a660eff3",
   "metadata": {
    "execution": {
     "iopub.execute_input": "2025-08-19T19:55:33.955841Z",
     "iopub.status.busy": "2025-08-19T19:55:33.952910Z",
     "iopub.status.idle": "2025-08-19T19:55:33.968123Z",
     "shell.execute_reply": "2025-08-19T19:55:33.965566Z",
     "shell.execute_reply.started": "2025-08-19T19:55:33.955743Z"
    }
   },
   "outputs": [],
   "source": [
    "query = \"\"\"\n",
    "PREFIX wd: <http://www.wikidata.org/entity/>\n",
    "PREFIX wdt: <http://www.wikidata.org/prop/direct/>\n",
    "PREFIX rdfs: <http://www.w3.org/2000/01/rdf-schema#>\n",
    "\n",
    "\n",
    "SELECT  ?s (MAX(?label) as ?label) (xsd:integer(MAX(?birthDate)) as ?birthDate) \n",
    "            (MAX(?gen) as ?gen) ( GROUP_CONCAT(?continentLabel; separator=\", \") AS ?onctinents )\n",
    "WHERE {\n",
    "    GRAPH <https://github.com/mroylem/archivist/blob/main/Wikidata/graph/imported-data.md>\n",
    "        {?s wdt:P21 ?gen;\n",
    "            rdfs:label ?label;\n",
    "            wdt:P569 ?birthDate;\n",
    "            wdt:P27 ?country.\n",
    "        ?country wdt:P30 ?continent.\n",
    "        ?continent rdfs:label ?continentLabel.\n",
    "        ## Excluding Eurasia, Australia and Oceania insular\n",
    "        FILTER ( ?continent NOT IN (wd:Q538, wd:Q3960, wd:Q5401))\n",
    "          }\n",
    "}\n",
    "GROUP BY ?s\n",
    "\"\"\""
   ]
  },
  {
   "cell_type": "code",
   "execution_count": 45,
   "id": "70f2370f-e287-404f-ba7b-aaf79021047e",
   "metadata": {
    "execution": {
     "iopub.execute_input": "2025-08-19T19:55:34.269673Z",
     "iopub.status.busy": "2025-08-19T19:55:34.268633Z",
     "iopub.status.idle": "2025-08-19T19:55:34.827480Z",
     "shell.execute_reply": "2025-08-19T19:55:34.826597Z",
     "shell.execute_reply.started": "2025-08-19T19:55:34.269590Z"
    }
   },
   "outputs": [],
   "source": [
    "### Executer la requête avec les fonctions de la librairie locale\n",
    "qr = spqf.get_json_sparql_result(endpoint,query)"
   ]
  },
  {
   "cell_type": "code",
   "execution_count": 46,
   "id": "21bfd9f5-4c63-4b8c-af10-f9ddec203db2",
   "metadata": {
    "execution": {
     "iopub.execute_input": "2025-08-19T19:55:34.828989Z",
     "iopub.status.busy": "2025-08-19T19:55:34.828680Z",
     "iopub.status.idle": "2025-08-19T19:55:34.850460Z",
     "shell.execute_reply": "2025-08-19T19:55:34.849040Z",
     "shell.execute_reply.started": "2025-08-19T19:55:34.828961Z"
    }
   },
   "outputs": [
    {
     "name": "stdout",
     "output_type": "stream",
     "text": [
      "5081\n"
     ]
    },
    {
     "data": {
      "text/plain": [
       "[['http://www.wikidata.org/entity/Q54553381',\n",
       "  'Waverly Lowell',\n",
       "  '1951',\n",
       "  'http://www.wikidata.org/entity/Q6581072',\n",
       "  'Amérique du Nord'],\n",
       " ['http://www.wikidata.org/entity/Q20164843',\n",
       "  'Günter Buchstab',\n",
       "  '1944',\n",
       "  'http://www.wikidata.org/entity/Q6581097',\n",
       "  'Europe'],\n",
       " ['http://www.wikidata.org/entity/Q2637717',\n",
       "  'Albert Bruckner',\n",
       "  '1904',\n",
       "  'http://www.wikidata.org/entity/Q6581097',\n",
       "  'Europe']]"
      ]
     },
     "execution_count": 46,
     "metadata": {},
     "output_type": "execute_result"
    }
   ],
   "source": [
    "r = [l for l in spqf.sparql_result_to_list(qr)]\n",
    "print(len(r))\n",
    "r[:3]"
   ]
  },
  {
   "cell_type": "code",
   "execution_count": 47,
   "id": "236bbba5-a4df-4a7b-b215-44c9bc3f355f",
   "metadata": {
    "execution": {
     "iopub.execute_input": "2025-08-19T19:55:34.883210Z",
     "iopub.status.busy": "2025-08-19T19:55:34.882295Z",
     "iopub.status.idle": "2025-08-19T19:55:34.913301Z",
     "shell.execute_reply": "2025-08-19T19:55:34.911284Z",
     "shell.execute_reply.started": "2025-08-19T19:55:34.883136Z"
    }
   },
   "outputs": [
    {
     "data": {
      "text/html": [
       "<div>\n",
       "<style scoped>\n",
       "    .dataframe tbody tr th:only-of-type {\n",
       "        vertical-align: middle;\n",
       "    }\n",
       "\n",
       "    .dataframe tbody tr th {\n",
       "        vertical-align: top;\n",
       "    }\n",
       "\n",
       "    .dataframe thead th {\n",
       "        text-align: right;\n",
       "    }\n",
       "</style>\n",
       "<table border=\"1\" class=\"dataframe\">\n",
       "  <thead>\n",
       "    <tr style=\"text-align: right;\">\n",
       "      <th></th>\n",
       "      <th>personUri</th>\n",
       "      <th>personLabel</th>\n",
       "      <th>birthYear</th>\n",
       "      <th>genderUri</th>\n",
       "      <th>continents</th>\n",
       "    </tr>\n",
       "  </thead>\n",
       "  <tbody>\n",
       "    <tr>\n",
       "      <th>0</th>\n",
       "      <td>http://www.wikidata.org/entity/Q54553381</td>\n",
       "      <td>Waverly Lowell</td>\n",
       "      <td>1951</td>\n",
       "      <td>http://www.wikidata.org/entity/Q6581072</td>\n",
       "      <td>Amérique du Nord</td>\n",
       "    </tr>\n",
       "    <tr>\n",
       "      <th>1</th>\n",
       "      <td>http://www.wikidata.org/entity/Q20164843</td>\n",
       "      <td>Günter Buchstab</td>\n",
       "      <td>1944</td>\n",
       "      <td>http://www.wikidata.org/entity/Q6581097</td>\n",
       "      <td>Europe</td>\n",
       "    </tr>\n",
       "    <tr>\n",
       "      <th>2</th>\n",
       "      <td>http://www.wikidata.org/entity/Q2637717</td>\n",
       "      <td>Albert Bruckner</td>\n",
       "      <td>1904</td>\n",
       "      <td>http://www.wikidata.org/entity/Q6581097</td>\n",
       "      <td>Europe</td>\n",
       "    </tr>\n",
       "    <tr>\n",
       "      <th>3</th>\n",
       "      <td>http://www.wikidata.org/entity/Q5783602</td>\n",
       "      <td>Conrado Morterero Simón</td>\n",
       "      <td>1915</td>\n",
       "      <td>http://www.wikidata.org/entity/Q6581097</td>\n",
       "      <td>Europe</td>\n",
       "    </tr>\n",
       "    <tr>\n",
       "      <th>4</th>\n",
       "      <td>http://www.wikidata.org/entity/Q15429548</td>\n",
       "      <td>Karlheinz Geppert</td>\n",
       "      <td>1955</td>\n",
       "      <td>http://www.wikidata.org/entity/Q6581097</td>\n",
       "      <td>Europe</td>\n",
       "    </tr>\n",
       "  </tbody>\n",
       "</table>\n",
       "</div>"
      ],
      "text/plain": [
       "                                  personUri              personLabel  \\\n",
       "0  http://www.wikidata.org/entity/Q54553381           Waverly Lowell   \n",
       "1  http://www.wikidata.org/entity/Q20164843          Günter Buchstab   \n",
       "2   http://www.wikidata.org/entity/Q2637717          Albert Bruckner   \n",
       "3   http://www.wikidata.org/entity/Q5783602  Conrado Morterero Simón   \n",
       "4  http://www.wikidata.org/entity/Q15429548        Karlheinz Geppert   \n",
       "\n",
       "  birthYear                                genderUri        continents  \n",
       "0      1951  http://www.wikidata.org/entity/Q6581072  Amérique du Nord  \n",
       "1      1944  http://www.wikidata.org/entity/Q6581097            Europe  \n",
       "2      1904  http://www.wikidata.org/entity/Q6581097            Europe  \n",
       "3      1915  http://www.wikidata.org/entity/Q6581097            Europe  \n",
       "4      1955  http://www.wikidata.org/entity/Q6581097            Europe  "
      ]
     },
     "execution_count": 47,
     "metadata": {},
     "output_type": "execute_result"
    }
   ],
   "source": [
    "### Créer un DataFrame à partir du résultat\n",
    "df_p = pd.DataFrame(r)\n",
    "df_p.columns = ['personUri', 'personLabel', 'birthYear', 'genderUri', 'continents']\n",
    "df_p.head()"
   ]
  },
  {
   "cell_type": "code",
   "execution_count": 48,
   "id": "eb664e6b-7fd0-4757-8bff-db79a0d52f97",
   "metadata": {
    "execution": {
     "iopub.execute_input": "2025-08-19T19:55:35.360754Z",
     "iopub.status.busy": "2025-08-19T19:55:35.359782Z",
     "iopub.status.idle": "2025-08-19T19:55:35.390766Z",
     "shell.execute_reply": "2025-08-19T19:55:35.388440Z",
     "shell.execute_reply.started": "2025-08-19T19:55:35.360677Z"
    },
    "tags": []
   },
   "outputs": [
    {
     "name": "stdout",
     "output_type": "stream",
     "text": [
      "<class 'pandas.core.frame.DataFrame'>\n",
      "RangeIndex: 5081 entries, 0 to 5080\n",
      "Data columns (total 5 columns):\n",
      " #   Column       Non-Null Count  Dtype \n",
      "---  ------       --------------  ----- \n",
      " 0   personUri    5081 non-null   object\n",
      " 1   personLabel  5081 non-null   object\n",
      " 2   birthYear    5081 non-null   object\n",
      " 3   genderUri    5081 non-null   object\n",
      " 4   continents   5081 non-null   object\n",
      "dtypes: object(5)\n",
      "memory usage: 198.6+ KB\n"
     ]
    }
   ],
   "source": [
    "df_p.info()"
   ]
  },
  {
   "cell_type": "markdown",
   "id": "9b44e2cd",
   "metadata": {},
   "source": [
    "## Coder les continents et afficher leur distribution"
   ]
  },
  {
   "cell_type": "code",
   "execution_count": 76,
   "id": "460475b8",
   "metadata": {
    "execution": {
     "iopub.execute_input": "2025-08-19T19:58:40.482894Z",
     "iopub.status.busy": "2025-08-19T19:58:40.481758Z",
     "iopub.status.idle": "2025-08-19T19:58:40.498051Z",
     "shell.execute_reply": "2025-08-19T19:58:40.495754Z",
     "shell.execute_reply.started": "2025-08-19T19:58:40.482809Z"
    }
   },
   "outputs": [],
   "source": [
    "def codeContinents(continents):\n",
    "    listContinents = sorted(continents.split(','))\n",
    "    if 'Europe' in listContinents:\n",
    "        output = 'Europe'\n",
    "    elif 'Asie' in listContinents:\n",
    "        output = 'Asia'\n",
    "    elif 'Afrique' in listContinents:\n",
    "        output = 'Africa'\n",
    "    elif 'Oceania' in listContinents:\n",
    "        output = 'Oceania'   \n",
    "    elif 'Amérique du Nord' in listContinents:\n",
    "        output = 'NorthAmerica'   \n",
    "    elif 'Amérique du Sud' in listContinents:\n",
    "        output = 'SouthAmerica' \n",
    "    else:\n",
    "        output = 'Missing'                 \n",
    "    return output    "
   ]
  },
  {
   "cell_type": "code",
   "execution_count": 77,
   "id": "cc275ffe",
   "metadata": {
    "execution": {
     "iopub.execute_input": "2025-08-19T19:58:41.210824Z",
     "iopub.status.busy": "2025-08-19T19:58:41.209752Z",
     "iopub.status.idle": "2025-08-19T19:58:41.225879Z",
     "shell.execute_reply": "2025-08-19T19:58:41.223839Z",
     "shell.execute_reply.started": "2025-08-19T19:58:41.210743Z"
    }
   },
   "outputs": [
    {
     "data": {
      "text/plain": [
       "'Oceania'"
      ]
     },
     "execution_count": 77,
     "metadata": {},
     "output_type": "execute_result"
    }
   ],
   "source": [
    "codeContinents('Oceania, North America, Africa')"
   ]
  },
  {
   "cell_type": "code",
   "execution_count": 78,
   "id": "8b60289c",
   "metadata": {
    "execution": {
     "iopub.execute_input": "2025-08-19T19:58:41.696052Z",
     "iopub.status.busy": "2025-08-19T19:58:41.695130Z",
     "iopub.status.idle": "2025-08-19T19:58:41.774738Z",
     "shell.execute_reply": "2025-08-19T19:58:41.773101Z",
     "shell.execute_reply.started": "2025-08-19T19:58:41.695978Z"
    }
   },
   "outputs": [
    {
     "data": {
      "text/html": [
       "<div>\n",
       "<style scoped>\n",
       "    .dataframe tbody tr th:only-of-type {\n",
       "        vertical-align: middle;\n",
       "    }\n",
       "\n",
       "    .dataframe tbody tr th {\n",
       "        vertical-align: top;\n",
       "    }\n",
       "\n",
       "    .dataframe thead th {\n",
       "        text-align: right;\n",
       "    }\n",
       "</style>\n",
       "<table border=\"1\" class=\"dataframe\">\n",
       "  <thead>\n",
       "    <tr style=\"text-align: right;\">\n",
       "      <th></th>\n",
       "      <th>personUri</th>\n",
       "      <th>personLabel</th>\n",
       "      <th>birthYear</th>\n",
       "      <th>genderUri</th>\n",
       "      <th>continents</th>\n",
       "      <th>contCode</th>\n",
       "      <th>per_25</th>\n",
       "    </tr>\n",
       "  </thead>\n",
       "  <tbody>\n",
       "    <tr>\n",
       "      <th>0</th>\n",
       "      <td>http://www.wikidata.org/entity/Q54553381</td>\n",
       "      <td>Waverly Lowell</td>\n",
       "      <td>1951</td>\n",
       "      <td>http://www.wikidata.org/entity/Q6581072</td>\n",
       "      <td>Amérique du Nord</td>\n",
       "      <td>NorthAmerica</td>\n",
       "      <td>1951-1975</td>\n",
       "    </tr>\n",
       "    <tr>\n",
       "      <th>1</th>\n",
       "      <td>http://www.wikidata.org/entity/Q20164843</td>\n",
       "      <td>Günter Buchstab</td>\n",
       "      <td>1944</td>\n",
       "      <td>http://www.wikidata.org/entity/Q6581097</td>\n",
       "      <td>Europe</td>\n",
       "      <td>Europe</td>\n",
       "      <td>1926-1950</td>\n",
       "    </tr>\n",
       "    <tr>\n",
       "      <th>2</th>\n",
       "      <td>http://www.wikidata.org/entity/Q2637717</td>\n",
       "      <td>Albert Bruckner</td>\n",
       "      <td>1904</td>\n",
       "      <td>http://www.wikidata.org/entity/Q6581097</td>\n",
       "      <td>Europe</td>\n",
       "      <td>Europe</td>\n",
       "      <td>1901-1925</td>\n",
       "    </tr>\n",
       "  </tbody>\n",
       "</table>\n",
       "</div>"
      ],
      "text/plain": [
       "                                  personUri      personLabel  birthYear  \\\n",
       "0  http://www.wikidata.org/entity/Q54553381   Waverly Lowell       1951   \n",
       "1  http://www.wikidata.org/entity/Q20164843  Günter Buchstab       1944   \n",
       "2   http://www.wikidata.org/entity/Q2637717  Albert Bruckner       1904   \n",
       "\n",
       "                                 genderUri        continents      contCode  \\\n",
       "0  http://www.wikidata.org/entity/Q6581072  Amérique du Nord  NorthAmerica   \n",
       "1  http://www.wikidata.org/entity/Q6581097            Europe        Europe   \n",
       "2  http://www.wikidata.org/entity/Q6581097            Europe        Europe   \n",
       "\n",
       "      per_25  \n",
       "0  1951-1975  \n",
       "1  1926-1950  \n",
       "2  1901-1925  "
      ]
     },
     "execution_count": 78,
     "metadata": {},
     "output_type": "execute_result"
    }
   ],
   "source": [
    "### On ajoute une nouvelle colonne et y on met pour chaque ligne le résultat de la fonction\n",
    "df_p['contCode'] = df_p.apply(lambda x: codeContinents(x['continents']), axis=1)\n",
    "df_p.head(3)"
   ]
  },
  {
   "cell_type": "code",
   "execution_count": 79,
   "id": "604fb1ee",
   "metadata": {
    "execution": {
     "iopub.execute_input": "2025-08-19T19:58:45.815613Z",
     "iopub.status.busy": "2025-08-19T19:58:45.814634Z",
     "iopub.status.idle": "2025-08-19T19:58:45.845541Z",
     "shell.execute_reply": "2025-08-19T19:58:45.842937Z",
     "shell.execute_reply.started": "2025-08-19T19:58:45.815536Z"
    }
   },
   "outputs": [
    {
     "data": {
      "text/html": [
       "<div>\n",
       "<style scoped>\n",
       "    .dataframe tbody tr th:only-of-type {\n",
       "        vertical-align: middle;\n",
       "    }\n",
       "\n",
       "    .dataframe tbody tr th {\n",
       "        vertical-align: top;\n",
       "    }\n",
       "\n",
       "    .dataframe thead th {\n",
       "        text-align: right;\n",
       "    }\n",
       "</style>\n",
       "<table border=\"1\" class=\"dataframe\">\n",
       "  <thead>\n",
       "    <tr style=\"text-align: right;\">\n",
       "      <th></th>\n",
       "      <th>personUri</th>\n",
       "      <th>personLabel</th>\n",
       "      <th>birthYear</th>\n",
       "      <th>genderUri</th>\n",
       "      <th>continents</th>\n",
       "      <th>contCode</th>\n",
       "      <th>per_25</th>\n",
       "    </tr>\n",
       "  </thead>\n",
       "  <tbody>\n",
       "    <tr>\n",
       "      <th>115</th>\n",
       "      <td>http://www.wikidata.org/entity/Q17484910</td>\n",
       "      <td>Michael Crone</td>\n",
       "      <td>1985</td>\n",
       "      <td>http://www.wikidata.org/entity/Q6581097</td>\n",
       "      <td>Europe</td>\n",
       "      <td>Europe</td>\n",
       "      <td>1976-2000</td>\n",
       "    </tr>\n",
       "    <tr>\n",
       "      <th>116</th>\n",
       "      <td>http://www.wikidata.org/entity/Q15429741</td>\n",
       "      <td>Mahesh Chandra Regmi</td>\n",
       "      <td>1929</td>\n",
       "      <td>http://www.wikidata.org/entity/Q6581097</td>\n",
       "      <td>Asie</td>\n",
       "      <td>Asia</td>\n",
       "      <td>1926-1950</td>\n",
       "    </tr>\n",
       "    <tr>\n",
       "      <th>117</th>\n",
       "      <td>http://www.wikidata.org/entity/Q6233875</td>\n",
       "      <td>John Francis Charles de Salis-Soglio</td>\n",
       "      <td>1864</td>\n",
       "      <td>http://www.wikidata.org/entity/Q6581097</td>\n",
       "      <td>Europe, Europe</td>\n",
       "      <td>Europe</td>\n",
       "      <td>1851-1875</td>\n",
       "    </tr>\n",
       "    <tr>\n",
       "      <th>118</th>\n",
       "      <td>http://www.wikidata.org/entity/Q5234644</td>\n",
       "      <td>David Hall</td>\n",
       "      <td>1916</td>\n",
       "      <td>http://www.wikidata.org/entity/Q6581097</td>\n",
       "      <td>Amérique du Nord</td>\n",
       "      <td>NorthAmerica</td>\n",
       "      <td>1901-1925</td>\n",
       "    </tr>\n",
       "    <tr>\n",
       "      <th>119</th>\n",
       "      <td>http://www.wikidata.org/entity/Q95250830</td>\n",
       "      <td>Wilhelm Wadl</td>\n",
       "      <td>1954</td>\n",
       "      <td>http://www.wikidata.org/entity/Q6581097</td>\n",
       "      <td>Europe</td>\n",
       "      <td>Europe</td>\n",
       "      <td>1951-1975</td>\n",
       "    </tr>\n",
       "  </tbody>\n",
       "</table>\n",
       "</div>"
      ],
      "text/plain": [
       "                                    personUri  \\\n",
       "115  http://www.wikidata.org/entity/Q17484910   \n",
       "116  http://www.wikidata.org/entity/Q15429741   \n",
       "117   http://www.wikidata.org/entity/Q6233875   \n",
       "118   http://www.wikidata.org/entity/Q5234644   \n",
       "119  http://www.wikidata.org/entity/Q95250830   \n",
       "\n",
       "                              personLabel  birthYear  \\\n",
       "115                         Michael Crone       1985   \n",
       "116                  Mahesh Chandra Regmi       1929   \n",
       "117  John Francis Charles de Salis-Soglio       1864   \n",
       "118                            David Hall       1916   \n",
       "119                          Wilhelm Wadl       1954   \n",
       "\n",
       "                                   genderUri        continents      contCode  \\\n",
       "115  http://www.wikidata.org/entity/Q6581097            Europe        Europe   \n",
       "116  http://www.wikidata.org/entity/Q6581097              Asie          Asia   \n",
       "117  http://www.wikidata.org/entity/Q6581097    Europe, Europe        Europe   \n",
       "118  http://www.wikidata.org/entity/Q6581097  Amérique du Nord  NorthAmerica   \n",
       "119  http://www.wikidata.org/entity/Q6581097            Europe        Europe   \n",
       "\n",
       "        per_25  \n",
       "115  1976-2000  \n",
       "116  1926-1950  \n",
       "117  1851-1875  \n",
       "118  1901-1925  \n",
       "119  1951-1975  "
      ]
     },
     "execution_count": 79,
     "metadata": {},
     "output_type": "execute_result"
    }
   ],
   "source": [
    "df_p.iloc[ 115:120 :  ]"
   ]
  },
  {
   "cell_type": "code",
   "execution_count": 80,
   "id": "17a17f60",
   "metadata": {
    "execution": {
     "iopub.execute_input": "2025-08-19T19:58:47.306975Z",
     "iopub.status.busy": "2025-08-19T19:58:47.305936Z",
     "iopub.status.idle": "2025-08-19T19:58:47.328650Z",
     "shell.execute_reply": "2025-08-19T19:58:47.326216Z",
     "shell.execute_reply.started": "2025-08-19T19:58:47.306893Z"
    }
   },
   "outputs": [
    {
     "name": "stdout",
     "output_type": "stream",
     "text": [
      "              effectif\n",
      "contCode              \n",
      "Africa              20\n",
      "SouthAmerica        21\n",
      "Missing             24\n",
      "Asia                37\n",
      "NorthAmerica       340\n",
      "Europe            4639\n"
     ]
    }
   ],
   "source": [
    "\n",
    "\n",
    "### Regrouper et compter\n",
    "df_contCode = df_p.groupby('contCode').size()\n",
    "df_contCode = pd.DataFrame(df_contCode.sort_values(ascending = True))\n",
    "#df_contCode.reset_index(inplace=True)\n",
    "df_contCode.columns=['effectif']\n",
    "print(df_contCode)\n",
    "\n"
   ]
  },
  {
   "cell_type": "code",
   "execution_count": 81,
   "id": "2656d4b0",
   "metadata": {
    "execution": {
     "iopub.execute_input": "2025-08-19T19:58:47.775949Z",
     "iopub.status.busy": "2025-08-19T19:58:47.773950Z",
     "iopub.status.idle": "2025-08-19T19:58:47.801283Z",
     "shell.execute_reply": "2025-08-19T19:58:47.799203Z",
     "shell.execute_reply.started": "2025-08-19T19:58:47.775861Z"
    }
   },
   "outputs": [
    {
     "data": {
      "text/html": [
       "<div>\n",
       "<style scoped>\n",
       "    .dataframe tbody tr th:only-of-type {\n",
       "        vertical-align: middle;\n",
       "    }\n",
       "\n",
       "    .dataframe tbody tr th {\n",
       "        vertical-align: top;\n",
       "    }\n",
       "\n",
       "    .dataframe thead th {\n",
       "        text-align: right;\n",
       "    }\n",
       "</style>\n",
       "<table border=\"1\" class=\"dataframe\">\n",
       "  <thead>\n",
       "    <tr style=\"text-align: right;\">\n",
       "      <th></th>\n",
       "      <th>effectif</th>\n",
       "      <th>frequence</th>\n",
       "    </tr>\n",
       "    <tr>\n",
       "      <th>contCode</th>\n",
       "      <th></th>\n",
       "      <th></th>\n",
       "    </tr>\n",
       "  </thead>\n",
       "  <tbody>\n",
       "    <tr>\n",
       "      <th>Africa</th>\n",
       "      <td>20</td>\n",
       "      <td>0.39</td>\n",
       "    </tr>\n",
       "    <tr>\n",
       "      <th>SouthAmerica</th>\n",
       "      <td>21</td>\n",
       "      <td>0.41</td>\n",
       "    </tr>\n",
       "    <tr>\n",
       "      <th>Missing</th>\n",
       "      <td>24</td>\n",
       "      <td>0.47</td>\n",
       "    </tr>\n",
       "    <tr>\n",
       "      <th>Asia</th>\n",
       "      <td>37</td>\n",
       "      <td>0.73</td>\n",
       "    </tr>\n",
       "    <tr>\n",
       "      <th>NorthAmerica</th>\n",
       "      <td>340</td>\n",
       "      <td>6.69</td>\n",
       "    </tr>\n",
       "    <tr>\n",
       "      <th>Europe</th>\n",
       "      <td>4639</td>\n",
       "      <td>91.30</td>\n",
       "    </tr>\n",
       "  </tbody>\n",
       "</table>\n",
       "</div>"
      ],
      "text/plain": [
       "              effectif  frequence\n",
       "contCode                         \n",
       "Africa              20       0.39\n",
       "SouthAmerica        21       0.41\n",
       "Missing             24       0.47\n",
       "Asia                37       0.73\n",
       "NorthAmerica       340       6.69\n",
       "Europe            4639      91.30"
      ]
     },
     "execution_count": 81,
     "metadata": {},
     "output_type": "execute_result"
    }
   ],
   "source": [
    "\n",
    "\n",
    "df_contCode['frequence'] = (100 * df_contCode['effectif'] \\\n",
    "                                   / df_contCode['effectif'].sum()).round(2)\n",
    "df_contCode\n",
    "\n"
   ]
  },
  {
   "cell_type": "code",
   "execution_count": 82,
   "id": "e39f1006",
   "metadata": {
    "execution": {
     "iopub.execute_input": "2025-08-19T19:58:48.263771Z",
     "iopub.status.busy": "2025-08-19T19:58:48.262860Z",
     "iopub.status.idle": "2025-08-19T19:58:48.291197Z",
     "shell.execute_reply": "2025-08-19T19:58:48.289100Z",
     "shell.execute_reply.started": "2025-08-19T19:58:48.263693Z"
    }
   },
   "outputs": [
    {
     "data": {
      "text/html": [
       "<div>\n",
       "<style scoped>\n",
       "    .dataframe tbody tr th:only-of-type {\n",
       "        vertical-align: middle;\n",
       "    }\n",
       "\n",
       "    .dataframe tbody tr th {\n",
       "        vertical-align: top;\n",
       "    }\n",
       "\n",
       "    .dataframe thead th {\n",
       "        text-align: right;\n",
       "    }\n",
       "</style>\n",
       "<table border=\"1\" class=\"dataframe\">\n",
       "  <thead>\n",
       "    <tr style=\"text-align: right;\">\n",
       "      <th>contCode</th>\n",
       "      <th>Europe</th>\n",
       "      <th>NorthAmerica</th>\n",
       "      <th>Asia</th>\n",
       "      <th>Missing</th>\n",
       "      <th>SouthAmerica</th>\n",
       "      <th>Africa</th>\n",
       "    </tr>\n",
       "  </thead>\n",
       "  <tbody>\n",
       "    <tr>\n",
       "      <th>frequence</th>\n",
       "      <td>91.3</td>\n",
       "      <td>6.69</td>\n",
       "      <td>0.73</td>\n",
       "      <td>0.47</td>\n",
       "      <td>0.41</td>\n",
       "      <td>0.39</td>\n",
       "    </tr>\n",
       "  </tbody>\n",
       "</table>\n",
       "</div>"
      ],
      "text/plain": [
       "contCode   Europe  NorthAmerica  Asia  Missing  SouthAmerica  Africa\n",
       "frequence    91.3          6.69  0.73     0.47          0.41    0.39"
      ]
     },
     "execution_count": 82,
     "metadata": {},
     "output_type": "execute_result"
    }
   ],
   "source": [
    "\n",
    "ljt = pd.DataFrame(df_contCode['frequence'].sort_values(ascending=False)).T\n",
    "ljt\n",
    "\n"
   ]
  },
  {
   "cell_type": "code",
   "execution_count": 83,
   "id": "05913d25",
   "metadata": {
    "execution": {
     "iopub.execute_input": "2025-08-19T19:58:48.884089Z",
     "iopub.status.busy": "2025-08-19T19:58:48.883173Z",
     "iopub.status.idle": "2025-08-19T19:58:48.895953Z",
     "shell.execute_reply": "2025-08-19T19:58:48.893720Z",
     "shell.execute_reply.started": "2025-08-19T19:58:48.884015Z"
    }
   },
   "outputs": [],
   "source": [
    "### Définir les couleurs en fonction des continents\n",
    "# Noter que cette liste des couleurs et continents\n",
    "# doit être adaptée à l'ordre de tri des données \n",
    "# dans le graphique\n",
    "col_palette = [\n",
    "    \"#DCDCDC\",  # Gainsboro : Europe\n",
    "    \"#cd5c5c\",  # Indian Red : NorthAmerica\n",
    "    \"#F4A261\",  # Light Coral: Asia\n",
    "    \"#F6E58D\",  # Light Yellow :SouthAmerica\n",
    "    \"#B2E0B2\",  # Light Green : Oceania\n",
    "    \"#A3C1DA\",  # Light Blue : Africa    \n",
    "\n",
    "]\n"
   ]
  },
  {
   "cell_type": "code",
   "execution_count": 84,
   "id": "30068cc8",
   "metadata": {
    "execution": {
     "iopub.execute_input": "2025-08-19T19:58:49.471851Z",
     "iopub.status.busy": "2025-08-19T19:58:49.470927Z",
     "iopub.status.idle": "2025-08-19T19:58:49.756881Z",
     "shell.execute_reply": "2025-08-19T19:58:49.755480Z",
     "shell.execute_reply.started": "2025-08-19T19:58:49.471775Z"
    }
   },
   "outputs": [
    {
     "data": {
      "image/png": "[encoded data removed]",
      "text/plain": [
       "<Figure size 1500x300 with 1 Axes>"
      ]
     },
     "metadata": {},
     "output_type": "display_data"
    }
   ],
   "source": [
    "\n",
    "\n",
    "### Pandas plot reference\n",
    "# https://pandas.pydata.org/pandas-docs/stable/reference/api/pandas.DataFrame.plot.html\n",
    "## Barplots\n",
    "# https://www.shanelynn.ie/bar-plots-in-python-using-pandas-dataframes/\n",
    "\n",
    "fig = ljt.plot(kind='barh', stacked=True, figsize=(15,3), color=col_palette, width=0.2, xlim=[0,100])"
   ]
  },
  {
   "cell_type": "markdown",
   "id": "c60b84a9-99a7-46b0-8ae9-11bf26128fe7",
   "metadata": {},
   "source": [
    "### Codage par période de vingt-cinq ans"
   ]
  },
  {
   "cell_type": "code",
   "execution_count": 85,
   "id": "7c29f5c0-bf9f-444d-be57-2d39bf882e23",
   "metadata": {
    "execution": {
     "iopub.execute_input": "2025-08-19T19:58:53.664176Z",
     "iopub.status.busy": "2025-08-19T19:58:53.663212Z",
     "iopub.status.idle": "2025-08-19T19:58:53.679068Z",
     "shell.execute_reply": "2025-08-19T19:58:53.676499Z",
     "shell.execute_reply.started": "2025-08-19T19:58:53.664100Z"
    },
    "tags": []
   },
   "outputs": [
    {
     "name": "stdout",
     "output_type": "stream",
     "text": [
      "[1751, 1776, 1801, 1826, 1851] [1901, 1926, 1951, 1976, 2001] 10\n"
     ]
    }
   ],
   "source": [
    "### Créer une liste d'années pour séparer en périodes de 25 ans\n",
    "# noter que la dernière année sera exclue, \n",
    "# elle donc doit être supérieure à la valeur maximale \n",
    "l_25 = list(range(1751, 2025, 25))\n",
    "print(l_25[:5],l_25[-5:], len(l_25)-1)"
   ]
  },
  {
   "cell_type": "code",
   "execution_count": 86,
   "id": "e37bca9e",
   "metadata": {
    "execution": {
     "iopub.execute_input": "2025-08-19T19:58:54.216534Z",
     "iopub.status.busy": "2025-08-19T19:58:54.215603Z",
     "iopub.status.idle": "2025-08-19T19:58:54.237740Z",
     "shell.execute_reply": "2025-08-19T19:58:54.235832Z",
     "shell.execute_reply.started": "2025-08-19T19:58:54.216456Z"
    }
   },
   "outputs": [],
   "source": [
    "### Transformer les années de naissance en entiers\n",
    "df_p.birthYear = df_p.birthYear.apply(lambda x : int(x))"
   ]
  },
  {
   "cell_type": "code",
   "execution_count": 87,
   "id": "06ab381e-f317-4767-9790-a9fcbfcb1853",
   "metadata": {
    "execution": {
     "iopub.execute_input": "2025-08-19T19:58:54.567940Z",
     "iopub.status.busy": "2025-08-19T19:58:54.567004Z",
     "iopub.status.idle": "2025-08-19T19:58:54.603930Z",
     "shell.execute_reply": "2025-08-19T19:58:54.602598Z",
     "shell.execute_reply.started": "2025-08-19T19:58:54.567866Z"
    }
   },
   "outputs": [
    {
     "data": {
      "text/html": [
       "<div>\n",
       "<style scoped>\n",
       "    .dataframe tbody tr th:only-of-type {\n",
       "        vertical-align: middle;\n",
       "    }\n",
       "\n",
       "    .dataframe tbody tr th {\n",
       "        vertical-align: top;\n",
       "    }\n",
       "\n",
       "    .dataframe thead th {\n",
       "        text-align: right;\n",
       "    }\n",
       "</style>\n",
       "<table border=\"1\" class=\"dataframe\">\n",
       "  <thead>\n",
       "    <tr style=\"text-align: right;\">\n",
       "      <th></th>\n",
       "      <th>personUri</th>\n",
       "      <th>personLabel</th>\n",
       "      <th>birthYear</th>\n",
       "      <th>genderUri</th>\n",
       "      <th>continents</th>\n",
       "      <th>contCode</th>\n",
       "      <th>per_25</th>\n",
       "    </tr>\n",
       "  </thead>\n",
       "  <tbody>\n",
       "    <tr>\n",
       "      <th>0</th>\n",
       "      <td>http://www.wikidata.org/entity/Q54553381</td>\n",
       "      <td>Waverly Lowell</td>\n",
       "      <td>1951</td>\n",
       "      <td>http://www.wikidata.org/entity/Q6581072</td>\n",
       "      <td>Amérique du Nord</td>\n",
       "      <td>NorthAmerica</td>\n",
       "      <td>1951-1975</td>\n",
       "    </tr>\n",
       "    <tr>\n",
       "      <th>1</th>\n",
       "      <td>http://www.wikidata.org/entity/Q20164843</td>\n",
       "      <td>Günter Buchstab</td>\n",
       "      <td>1944</td>\n",
       "      <td>http://www.wikidata.org/entity/Q6581097</td>\n",
       "      <td>Europe</td>\n",
       "      <td>Europe</td>\n",
       "      <td>1926-1950</td>\n",
       "    </tr>\n",
       "    <tr>\n",
       "      <th>2</th>\n",
       "      <td>http://www.wikidata.org/entity/Q2637717</td>\n",
       "      <td>Albert Bruckner</td>\n",
       "      <td>1904</td>\n",
       "      <td>http://www.wikidata.org/entity/Q6581097</td>\n",
       "      <td>Europe</td>\n",
       "      <td>Europe</td>\n",
       "      <td>1901-1925</td>\n",
       "    </tr>\n",
       "  </tbody>\n",
       "</table>\n",
       "</div>"
      ],
      "text/plain": [
       "                                  personUri      personLabel  birthYear  \\\n",
       "0  http://www.wikidata.org/entity/Q54553381   Waverly Lowell       1951   \n",
       "1  http://www.wikidata.org/entity/Q20164843  Günter Buchstab       1944   \n",
       "2   http://www.wikidata.org/entity/Q2637717  Albert Bruckner       1904   \n",
       "\n",
       "                                 genderUri        continents      contCode  \\\n",
       "0  http://www.wikidata.org/entity/Q6581072  Amérique du Nord  NorthAmerica   \n",
       "1  http://www.wikidata.org/entity/Q6581097            Europe        Europe   \n",
       "2  http://www.wikidata.org/entity/Q6581097            Europe        Europe   \n",
       "\n",
       "      per_25  \n",
       "0  1951-1975  \n",
       "1  1926-1950  \n",
       "2  1901-1925  "
      ]
     },
     "execution_count": 87,
     "metadata": {},
     "output_type": "execute_result"
    }
   ],
   "source": [
    "### fonction pd.cut : https://pandas.pydata.org/pandas-docs/stable/reference/api/pandas.cut.html\n",
    "# On ajoute une nouvelle colonne qui contient la période sur la base de la liste précédente\n",
    "# et de la valeur de l'année\n",
    "\n",
    "df_p['per_25'] = pd.cut(df_p['birthYear'], l_25, right=False)\n",
    "\n",
    "### Transformer le code ajouté pour qu'il soit plus lisible\n",
    "# noter qu'on a arrondi les valeurs\n",
    "df_p['per_25'] = df_p['per_25'].apply(lambda x : str(int(x.left))+'-'+ str(int(x.right)-1))\n",
    "\n",
    "# Inspection\n",
    "df_p.head(3)"
   ]
  },
  {
   "cell_type": "code",
   "execution_count": 88,
   "id": "4e943cfe-40d8-49c0-afa1-a55f964f657a",
   "metadata": {
    "execution": {
     "iopub.execute_input": "2025-08-19T19:58:55.200558Z",
     "iopub.status.busy": "2025-08-19T19:58:55.199605Z",
     "iopub.status.idle": "2025-08-19T19:58:55.220235Z",
     "shell.execute_reply": "2025-08-19T19:58:55.217897Z",
     "shell.execute_reply.started": "2025-08-19T19:58:55.200480Z"
    }
   },
   "outputs": [
    {
     "name": "stdout",
     "output_type": "stream",
     "text": [
      "per_25\n",
      "1851-1875     644\n",
      "1876-1900     864\n",
      "1901-1925    1169\n",
      "1926-1950    1216\n",
      "1951-1975    1002\n",
      "1976-2000     186\n",
      "dtype: int64\n"
     ]
    }
   ],
   "source": [
    "### distribution des naissances par périodes de 25 ans\n",
    "naissances_per = df_p.groupby(by='per_25',observed=True).size()\n",
    "print(naissances_per)"
   ]
  },
  {
   "cell_type": "code",
   "execution_count": 89,
   "id": "9a1dd793-210a-42c3-b68b-d0e1756277d1",
   "metadata": {
    "execution": {
     "iopub.execute_input": "2025-08-19T19:58:55.720760Z",
     "iopub.status.busy": "2025-08-19T19:58:55.718404Z",
     "iopub.status.idle": "2025-08-19T19:58:55.996575Z",
     "shell.execute_reply": "2025-08-19T19:58:55.993181Z",
     "shell.execute_reply.started": "2025-08-19T19:58:55.720675Z"
    }
   },
   "outputs": [
    {
     "data": {
      "image/png": "[encoded data removed]",
      "text/plain": [
       "<Figure size 1600x800 with 1 Axes>"
      ]
     },
     "metadata": {},
     "output_type": "display_data"
    }
   ],
   "source": [
    "### Diagramme à barres représentant la distribution par 'génération'\n",
    "ax = df_p.groupby(by='per_25',observed=True).size().plot(kind='bar',rot=60, fontsize=8, figsize=(16,8))\n",
    "plt.ylabel('Effectif')\n",
    "plt.xlabel('Périodes')\n",
    "plt.title('Naissances par périodes de ving-cinq ans')\n",
    "plt.show()"
   ]
  },
  {
   "cell_type": "markdown",
   "id": "7d3da8ee-300d-4fb8-be6e-384e1e4186ef",
   "metadata": {},
   "source": [
    "## Ajouter la représentation des continents"
   ]
  },
  {
   "cell_type": "code",
   "execution_count": 90,
   "id": "5fe3105a",
   "metadata": {
    "execution": {
     "iopub.execute_input": "2025-08-19T19:58:57.021606Z",
     "iopub.status.busy": "2025-08-19T19:58:57.020510Z",
     "iopub.status.idle": "2025-08-19T19:58:57.036970Z",
     "shell.execute_reply": "2025-08-19T19:58:57.033836Z",
     "shell.execute_reply.started": "2025-08-19T19:58:57.021515Z"
    }
   },
   "outputs": [
    {
     "name": "stdout",
     "output_type": "stream",
     "text": [
      "['Africa', 'Asia', 'Missing', 'NorthAmerica', 'SouthAmerica']\n"
     ]
    }
   ],
   "source": [
    "lcont = list(sorted(set(df_p.contCode.to_list())))\n",
    "lcont.remove('Europe')\n",
    "print(lcont)"
   ]
  },
  {
   "cell_type": "code",
   "execution_count": 91,
   "id": "a4371393",
   "metadata": {
    "execution": {
     "iopub.execute_input": "2025-08-19T19:58:57.574214Z",
     "iopub.status.busy": "2025-08-19T19:58:57.573115Z",
     "iopub.status.idle": "2025-08-19T19:58:57.607408Z",
     "shell.execute_reply": "2025-08-19T19:58:57.605302Z",
     "shell.execute_reply.started": "2025-08-19T19:58:57.574050Z"
    }
   },
   "outputs": [
    {
     "data": {
      "text/html": [
       "<div>\n",
       "<style scoped>\n",
       "    .dataframe tbody tr th:only-of-type {\n",
       "        vertical-align: middle;\n",
       "    }\n",
       "\n",
       "    .dataframe tbody tr th {\n",
       "        vertical-align: top;\n",
       "    }\n",
       "\n",
       "    .dataframe thead th {\n",
       "        text-align: right;\n",
       "    }\n",
       "</style>\n",
       "<table border=\"1\" class=\"dataframe\">\n",
       "  <thead>\n",
       "    <tr style=\"text-align: right;\">\n",
       "      <th></th>\n",
       "      <th>Europe</th>\n",
       "    </tr>\n",
       "    <tr>\n",
       "      <th>per_25</th>\n",
       "      <th></th>\n",
       "    </tr>\n",
       "  </thead>\n",
       "  <tbody>\n",
       "    <tr>\n",
       "      <th>1876-1900</th>\n",
       "      <td>811</td>\n",
       "    </tr>\n",
       "    <tr>\n",
       "      <th>1901-1925</th>\n",
       "      <td>1067</td>\n",
       "    </tr>\n",
       "    <tr>\n",
       "      <th>1926-1950</th>\n",
       "      <td>1088</td>\n",
       "    </tr>\n",
       "    <tr>\n",
       "      <th>1951-1975</th>\n",
       "      <td>915</td>\n",
       "    </tr>\n",
       "    <tr>\n",
       "      <th>1976-2000</th>\n",
       "      <td>168</td>\n",
       "    </tr>\n",
       "  </tbody>\n",
       "</table>\n",
       "</div>"
      ],
      "text/plain": [
       "           Europe\n",
       "per_25           \n",
       "1876-1900     811\n",
       "1901-1925    1067\n",
       "1926-1950    1088\n",
       "1951-1975     915\n",
       "1976-2000     168"
      ]
     },
     "execution_count": 91,
     "metadata": {},
     "output_type": "execute_result"
    }
   ],
   "source": [
    "### Regrouper et compter avec un fitre sur le continent 'Europe'\n",
    "merged = pd.DataFrame(df_p[df_p.contCode == 'Europe'].groupby('per_25',observed=True).size())\n",
    "merged.columns = ['Europe']\n",
    "merged.tail()\n",
    "\n"
   ]
  },
  {
   "cell_type": "code",
   "execution_count": 92,
   "id": "b03dab9c",
   "metadata": {
    "execution": {
     "iopub.execute_input": "2025-08-19T19:58:58.086532Z",
     "iopub.status.busy": "2025-08-19T19:58:58.085303Z",
     "iopub.status.idle": "2025-08-19T19:58:58.147965Z",
     "shell.execute_reply": "2025-08-19T19:58:58.145492Z",
     "shell.execute_reply.started": "2025-08-19T19:58:58.086430Z"
    }
   },
   "outputs": [
    {
     "data": {
      "text/html": [
       "<div>\n",
       "<style scoped>\n",
       "    .dataframe tbody tr th:only-of-type {\n",
       "        vertical-align: middle;\n",
       "    }\n",
       "\n",
       "    .dataframe tbody tr th {\n",
       "        vertical-align: top;\n",
       "    }\n",
       "\n",
       "    .dataframe thead th {\n",
       "        text-align: right;\n",
       "    }\n",
       "</style>\n",
       "<table border=\"1\" class=\"dataframe\">\n",
       "  <thead>\n",
       "    <tr style=\"text-align: right;\">\n",
       "      <th></th>\n",
       "      <th>Europe</th>\n",
       "      <th>Africa</th>\n",
       "      <th>Asia</th>\n",
       "      <th>Missing</th>\n",
       "      <th>NorthAmerica</th>\n",
       "      <th>SouthAmerica</th>\n",
       "    </tr>\n",
       "    <tr>\n",
       "      <th>per_25</th>\n",
       "      <th></th>\n",
       "      <th></th>\n",
       "      <th></th>\n",
       "      <th></th>\n",
       "      <th></th>\n",
       "      <th></th>\n",
       "    </tr>\n",
       "  </thead>\n",
       "  <tbody>\n",
       "    <tr>\n",
       "      <th>1901-1925</th>\n",
       "      <td>1067</td>\n",
       "      <td>6</td>\n",
       "      <td>11</td>\n",
       "      <td>3</td>\n",
       "      <td>81</td>\n",
       "      <td>1</td>\n",
       "    </tr>\n",
       "    <tr>\n",
       "      <th>1926-1950</th>\n",
       "      <td>1088</td>\n",
       "      <td>2</td>\n",
       "      <td>15</td>\n",
       "      <td>8</td>\n",
       "      <td>95</td>\n",
       "      <td>8</td>\n",
       "    </tr>\n",
       "    <tr>\n",
       "      <th>1951-1975</th>\n",
       "      <td>915</td>\n",
       "      <td>12</td>\n",
       "      <td>8</td>\n",
       "      <td>7</td>\n",
       "      <td>53</td>\n",
       "      <td>7</td>\n",
       "    </tr>\n",
       "  </tbody>\n",
       "</table>\n",
       "</div>"
      ],
      "text/plain": [
       "           Europe  Africa  Asia  Missing  NorthAmerica  SouthAmerica\n",
       "per_25                                                              \n",
       "1901-1925    1067       6    11        3            81             1\n",
       "1926-1950    1088       2    15        8            95             8\n",
       "1951-1975     915      12     8        7            53             7"
      ]
     },
     "execution_count": 92,
     "metadata": {},
     "output_type": "execute_result"
    }
   ],
   "source": [
    "### Ajouter les distributions des autres continents\n",
    "for cont in lcont:\n",
    "    new_df = pd.DataFrame(df_p[df_p.contCode == cont].groupby('per_25',observed=True).size())\n",
    "    new_df.columns = [cont]\n",
    "    merged = pd.merge(merged, new_df, left_index=True, right_index=True)\n",
    "\n",
    "merged    \n",
    "    "
   ]
  },
  {
   "cell_type": "code",
   "execution_count": 93,
   "id": "60190e17-c1df-4a22-9ec9-be6b77108c46",
   "metadata": {
    "execution": {
     "iopub.execute_input": "2025-08-19T19:58:58.591257Z",
     "iopub.status.busy": "2025-08-19T19:58:58.590244Z",
     "iopub.status.idle": "2025-08-19T19:58:58.623631Z",
     "shell.execute_reply": "2025-08-19T19:58:58.621314Z",
     "shell.execute_reply.started": "2025-08-19T19:58:58.591178Z"
    }
   },
   "outputs": [
    {
     "data": {
      "text/html": [
       "<div>\n",
       "<style scoped>\n",
       "    .dataframe tbody tr th:only-of-type {\n",
       "        vertical-align: middle;\n",
       "    }\n",
       "\n",
       "    .dataframe tbody tr th {\n",
       "        vertical-align: top;\n",
       "    }\n",
       "\n",
       "    .dataframe thead th {\n",
       "        text-align: right;\n",
       "    }\n",
       "</style>\n",
       "<table border=\"1\" class=\"dataframe\">\n",
       "  <thead>\n",
       "    <tr style=\"text-align: right;\">\n",
       "      <th></th>\n",
       "      <th>Europe</th>\n",
       "      <th>Africa</th>\n",
       "      <th>Asia</th>\n",
       "      <th>Missing</th>\n",
       "      <th>NorthAmerica</th>\n",
       "      <th>SouthAmerica</th>\n",
       "    </tr>\n",
       "    <tr>\n",
       "      <th>per_25</th>\n",
       "      <th></th>\n",
       "      <th></th>\n",
       "      <th></th>\n",
       "      <th></th>\n",
       "      <th></th>\n",
       "      <th></th>\n",
       "    </tr>\n",
       "  </thead>\n",
       "  <tbody>\n",
       "    <tr>\n",
       "      <th>1901-1925</th>\n",
       "      <td>1067</td>\n",
       "      <td>6</td>\n",
       "      <td>11</td>\n",
       "      <td>3</td>\n",
       "      <td>81</td>\n",
       "      <td>1</td>\n",
       "    </tr>\n",
       "    <tr>\n",
       "      <th>1926-1950</th>\n",
       "      <td>1088</td>\n",
       "      <td>2</td>\n",
       "      <td>15</td>\n",
       "      <td>8</td>\n",
       "      <td>95</td>\n",
       "      <td>8</td>\n",
       "    </tr>\n",
       "    <tr>\n",
       "      <th>1951-1975</th>\n",
       "      <td>915</td>\n",
       "      <td>12</td>\n",
       "      <td>8</td>\n",
       "      <td>7</td>\n",
       "      <td>53</td>\n",
       "      <td>7</td>\n",
       "    </tr>\n",
       "  </tbody>\n",
       "</table>\n",
       "</div>"
      ],
      "text/plain": [
       "           Europe  Africa  Asia  Missing  NorthAmerica  SouthAmerica\n",
       "per_25                                                              \n",
       "1901-1925    1067       6    11        3            81             1\n",
       "1926-1950    1088       2    15        8            95             8\n",
       "1951-1975     915      12     8        7            53             7"
      ]
     },
     "execution_count": 93,
     "metadata": {},
     "output_type": "execute_result"
    }
   ],
   "source": [
    "### Transformer l'index en chaîne de caractères\n",
    "# ce qui est indispensable pour l'affichage dans un graphique\n",
    "merged.index = merged.index.map(str)\n",
    "merged"
   ]
  },
  {
   "cell_type": "code",
   "execution_count": 94,
   "id": "9d8aeeb8",
   "metadata": {
    "execution": {
     "iopub.execute_input": "2025-08-19T19:59:03.512203Z",
     "iopub.status.busy": "2025-08-19T19:59:03.511216Z",
     "iopub.status.idle": "2025-08-19T19:59:03.525602Z",
     "shell.execute_reply": "2025-08-19T19:59:03.523143Z",
     "shell.execute_reply.started": "2025-08-19T19:59:03.512127Z"
    }
   },
   "outputs": [],
   "source": [
    "### Adapter à l'ordre des colonnes\n",
    "col_palette_1 = [\n",
    "    \"#DCDCDC\",  # Gainsboro : Europe\n",
    "    \"#A3C1DA\",  # Light Blue : Africa\n",
    "    \"#F4A261\",  # Light Coral : Asia\n",
    "    \"#cd5c5c\",  # Indian Red : NorthAmerica\n",
    "    \"#B2E0B2\",  # Light Green : Oceania\n",
    "    \"#F6E58D\",  # Light Yellow : SouthAmerica\n",
    "    \n",
    "]\n"
   ]
  },
  {
   "cell_type": "code",
   "execution_count": 95,
   "id": "d188f96f-feca-464b-b338-f87e3c9cb23b",
   "metadata": {
    "execution": {
     "iopub.execute_input": "2025-08-19T19:59:04.831321Z",
     "iopub.status.busy": "2025-08-19T19:59:04.830386Z",
     "iopub.status.idle": "2025-08-19T19:59:05.203640Z",
     "shell.execute_reply": "2025-08-19T19:59:05.202066Z",
     "shell.execute_reply.started": "2025-08-19T19:59:04.831245Z"
    }
   },
   "outputs": [
    {
     "data": {
      "image/png": "[encoded data removed]",
      "text/plain": [
       "<Figure size 1000x800 with 1 Axes>"
      ]
     },
     "metadata": {},
     "output_type": "display_data"
    }
   ],
   "source": [
    "### Représenter l'évolution de la distribution dans le temps par continent\n",
    "#  Documentation\n",
    "# https://pandas.pydata.org/pandas-docs/stable/reference/api/pandas.DataFrame.plot.bar.html\n",
    "\n",
    "data = merged\n",
    "\n",
    "ax = data.plot.bar(stacked=True, rot=70, fontsize=9, figsize=(10,8), \n",
    "                     color=col_palette_1)\n",
    "plt.title('Distribution des naissances par génération et continent')\n",
    "\n",
    "## https://stackoverflow.com/questions/71320380/add-only-the-total-values-on-top-of-stacked-bars\n",
    "ax.bar_label(ax.containers[-1])\n",
    "\n",
    "plt.show()"
   ]
  },
  {
   "cell_type": "markdown",
   "id": "1ea74235",
   "metadata": {},
   "source": [
    "## Représentation des mêmes informations avec une graphique décomposé\n",
    "\n",
    "\n"
   ]
  },
  {
   "cell_type": "code",
   "execution_count": 96,
   "id": "bb96fbac",
   "metadata": {
    "execution": {
     "iopub.execute_input": "2025-08-19T19:59:05.927536Z",
     "iopub.status.busy": "2025-08-19T19:59:05.926518Z",
     "iopub.status.idle": "2025-08-19T19:59:05.954371Z",
     "shell.execute_reply": "2025-08-19T19:59:05.951996Z",
     "shell.execute_reply.started": "2025-08-19T19:59:05.927451Z"
    }
   },
   "outputs": [
    {
     "data": {
      "text/html": [
       "<div>\n",
       "<style scoped>\n",
       "    .dataframe tbody tr th:only-of-type {\n",
       "        vertical-align: middle;\n",
       "    }\n",
       "\n",
       "    .dataframe tbody tr th {\n",
       "        vertical-align: top;\n",
       "    }\n",
       "\n",
       "    .dataframe thead th {\n",
       "        text-align: right;\n",
       "    }\n",
       "</style>\n",
       "<table border=\"1\" class=\"dataframe\">\n",
       "  <thead>\n",
       "    <tr style=\"text-align: right;\">\n",
       "      <th></th>\n",
       "      <th>Europe</th>\n",
       "      <th>Africa</th>\n",
       "      <th>Asia</th>\n",
       "      <th>Missing</th>\n",
       "      <th>NorthAmerica</th>\n",
       "      <th>SouthAmerica</th>\n",
       "    </tr>\n",
       "    <tr>\n",
       "      <th>per_25</th>\n",
       "      <th></th>\n",
       "      <th></th>\n",
       "      <th></th>\n",
       "      <th></th>\n",
       "      <th></th>\n",
       "      <th></th>\n",
       "    </tr>\n",
       "  </thead>\n",
       "  <tbody>\n",
       "    <tr>\n",
       "      <th>1901-1925</th>\n",
       "      <td>1067</td>\n",
       "      <td>6</td>\n",
       "      <td>11</td>\n",
       "      <td>3</td>\n",
       "      <td>81</td>\n",
       "      <td>1</td>\n",
       "    </tr>\n",
       "    <tr>\n",
       "      <th>1926-1950</th>\n",
       "      <td>1088</td>\n",
       "      <td>2</td>\n",
       "      <td>15</td>\n",
       "      <td>8</td>\n",
       "      <td>95</td>\n",
       "      <td>8</td>\n",
       "    </tr>\n",
       "    <tr>\n",
       "      <th>1951-1975</th>\n",
       "      <td>915</td>\n",
       "      <td>12</td>\n",
       "      <td>8</td>\n",
       "      <td>7</td>\n",
       "      <td>53</td>\n",
       "      <td>7</td>\n",
       "    </tr>\n",
       "  </tbody>\n",
       "</table>\n",
       "</div>"
      ],
      "text/plain": [
       "           Europe  Africa  Asia  Missing  NorthAmerica  SouthAmerica\n",
       "per_25                                                              \n",
       "1901-1925    1067       6    11        3            81             1\n",
       "1926-1950    1088       2    15        8            95             8\n",
       "1951-1975     915      12     8        7            53             7"
      ]
     },
     "execution_count": 96,
     "metadata": {},
     "output_type": "execute_result"
    }
   ],
   "source": [
    "## L'information à représenter (la distribution des effectifs)\n",
    "merged"
   ]
  },
  {
   "cell_type": "code",
   "execution_count": 97,
   "id": "d771329e",
   "metadata": {
    "execution": {
     "iopub.execute_input": "2025-08-19T19:59:06.462675Z",
     "iopub.status.busy": "2025-08-19T19:59:06.461604Z",
     "iopub.status.idle": "2025-08-19T19:59:06.495671Z",
     "shell.execute_reply": "2025-08-19T19:59:06.493537Z",
     "shell.execute_reply.started": "2025-08-19T19:59:06.462593Z"
    }
   },
   "outputs": [
    {
     "data": {
      "text/html": [
       "<div>\n",
       "<style scoped>\n",
       "    .dataframe tbody tr th:only-of-type {\n",
       "        vertical-align: middle;\n",
       "    }\n",
       "\n",
       "    .dataframe tbody tr th {\n",
       "        vertical-align: top;\n",
       "    }\n",
       "\n",
       "    .dataframe thead th {\n",
       "        text-align: right;\n",
       "    }\n",
       "</style>\n",
       "<table border=\"1\" class=\"dataframe\">\n",
       "  <thead>\n",
       "    <tr style=\"text-align: right;\">\n",
       "      <th></th>\n",
       "      <th>Europe</th>\n",
       "      <th>Africa</th>\n",
       "      <th>Asia</th>\n",
       "      <th>Missing</th>\n",
       "      <th>NorthAmerica</th>\n",
       "      <th>SouthAmerica</th>\n",
       "    </tr>\n",
       "    <tr>\n",
       "      <th>per_25</th>\n",
       "      <th></th>\n",
       "      <th></th>\n",
       "      <th></th>\n",
       "      <th></th>\n",
       "      <th></th>\n",
       "      <th></th>\n",
       "    </tr>\n",
       "  </thead>\n",
       "  <tbody>\n",
       "    <tr>\n",
       "      <th>1901-1925</th>\n",
       "      <td>91.3</td>\n",
       "      <td>0.5</td>\n",
       "      <td>0.9</td>\n",
       "      <td>0.3</td>\n",
       "      <td>6.9</td>\n",
       "      <td>0.1</td>\n",
       "    </tr>\n",
       "    <tr>\n",
       "      <th>1926-1950</th>\n",
       "      <td>89.5</td>\n",
       "      <td>0.2</td>\n",
       "      <td>1.2</td>\n",
       "      <td>0.7</td>\n",
       "      <td>7.8</td>\n",
       "      <td>0.7</td>\n",
       "    </tr>\n",
       "    <tr>\n",
       "      <th>1951-1975</th>\n",
       "      <td>91.3</td>\n",
       "      <td>1.2</td>\n",
       "      <td>0.8</td>\n",
       "      <td>0.7</td>\n",
       "      <td>5.3</td>\n",
       "      <td>0.7</td>\n",
       "    </tr>\n",
       "  </tbody>\n",
       "</table>\n",
       "</div>"
      ],
      "text/plain": [
       "           Europe  Africa  Asia  Missing  NorthAmerica  SouthAmerica\n",
       "per_25                                                              \n",
       "1901-1925    91.3     0.5   0.9      0.3           6.9           0.1\n",
       "1926-1950    89.5     0.2   1.2      0.7           7.8           0.7\n",
       "1951-1975    91.3     1.2   0.8      0.7           5.3           0.7"
      ]
     },
     "execution_count": 97,
     "metadata": {},
     "output_type": "execute_result"
    }
   ],
   "source": [
    "### Fréquences par période\n",
    "merged_prop = merged.apply(lambda x: (x / x.sum()) * 100, axis=1).round(1)\n",
    "merged_prop"
   ]
  },
  {
   "cell_type": "code",
   "execution_count": 98,
   "id": "cb4dc457",
   "metadata": {
    "execution": {
     "iopub.execute_input": "2025-08-19T19:59:06.956135Z",
     "iopub.status.busy": "2025-08-19T19:59:06.955188Z",
     "iopub.status.idle": "2025-08-19T19:59:07.620454Z",
     "shell.execute_reply": "2025-08-19T19:59:07.618496Z",
     "shell.execute_reply.started": "2025-08-19T19:59:06.956056Z"
    }
   },
   "outputs": [
    {
     "data": {
      "image/png": "[encoded data removed]",
      "text/plain": [
       "<Figure size 1000x1600 with 3 Axes>"
      ]
     },
     "metadata": {},
     "output_type": "display_data"
    }
   ],
   "source": [
    "### Graphique multiple\n",
    "#  Pandas plot reference\n",
    "# https://pandas.pydata.org/pandas-docs/stable/reference/api/pandas.DataFrame.plot.html\n",
    "## Barplots\n",
    "# https://www.shanelynn.ie/bar-plots-in-python-using-pandas-dataframes/\n",
    "\n",
    "\n",
    "lm = len(merged)\n",
    "\n",
    "# Initialise the subplot function using number of rows and columns\n",
    "#figure, axis = plt.subplots(lm, 1)\n",
    "\n",
    "fig, axes = plt.subplots(lm, 1, figsize=(10,16))\n",
    "\n",
    "i = 0\n",
    "\n",
    "while i < lm:\n",
    "    df = pd.DataFrame(merged.iloc[i , ])\n",
    "    df['frequence'] = (100 * df / df.sum()).round(2)\n",
    "    ljt = pd.DataFrame(df['frequence']).T\n",
    "    # print(ljt)\n",
    "    fig = ljt.plot(kind='barh', stacked=True, ax=axes[i], label=None, xlabel=None, \n",
    "                   fontsize=10, color=col_palette_1, width=0.3, xlim=[0,100])\n",
    "    fig.set_title(df.columns[0])\n",
    "    if (i+2)%2 != 0:\n",
    "        fig.get_legend().remove()\n",
    "    i += 1\n",
    "    \n",
    "\n",
    "plt.suptitle('Fréquence des naissances par continent: évolution dans le temps',  fontsize=14)\n",
    "             \n",
    "plt.tight_layout()  # rect=[0, 0.03, 1, 0.90]\n",
    "plt.xlabel('')\n",
    "\n",
    "   \n",
    "plt.show()\n",
    "\n",
    "\n"
   ]
  },
  {
   "cell_type": "code",
   "execution_count": 99,
   "id": "ef3915a5",
   "metadata": {
    "execution": {
     "iopub.execute_input": "2025-08-19T19:59:07.630788Z",
     "iopub.status.busy": "2025-08-19T19:59:07.630194Z",
     "iopub.status.idle": "2025-08-19T19:59:07.894254Z",
     "shell.execute_reply": "2025-08-19T19:59:07.892370Z",
     "shell.execute_reply.started": "2025-08-19T19:59:07.630758Z"
    }
   },
   "outputs": [
    {
     "data": {
      "image/png": "[encoded data removed]",
      "text/plain": [
       "<Figure size 1500x300 with 1 Axes>"
      ]
     },
     "metadata": {},
     "output_type": "display_data"
    }
   ],
   "source": [
    "\n",
    "### Comparer avec l'ensemble de la période !\n",
    "# Noter que la distribution  de la dernière tranche temporelle est quasiment la même pour l'ensemble de la période \n",
    "# du fait des effectifs très importants du 20e siècle, qui définissent la tendance générale\n",
    "\n",
    "fig = ljt.plot(kind='barh', stacked=True, figsize=(15,3), color=col_palette_1, width=0.2, xlim=[0,100])\n",
    "\n"
   ]
  },
  {
   "cell_type": "code",
   "execution_count": null,
   "id": "d84ffa29-4e07-46e5-8e66-4dfea55de28a",
   "metadata": {},
   "outputs": [],
   "source": []
  }
 ],
 "metadata": {
  "kernelspec": {
   "display_name": "sparql",
   "language": "python",
   "name": "sparql"
  },
  "language_info": {
   "codemirror_mode": {
    "name": "ipython",
    "version": 3
   },
   "file_extension": ".py",
   "mimetype": "text/x-python",
   "name": "python",
   "nbconvert_exporter": "python",
   "pygments_lexer": "ipython3",
   "version": "3.12.5"
  }
 },
 "nbformat": 4,
 "nbformat_minor": 5
}
